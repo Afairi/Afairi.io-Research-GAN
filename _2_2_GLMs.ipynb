{
 "cells": [
  {
   "cell_type": "code",
   "execution_count": 25,
   "id": "b2a509d4",
   "metadata": {
    "pycharm": {
     "is_executing": true,
     "name": "#%%\n"
    }
   },
   "outputs": [
    {
     "name": "stdout",
     "output_type": "stream",
     "text": [
      "The autoreload extension is already loaded. To reload it, use:\n",
      "  %reload_ext autoreload\n"
     ]
    }
   ],
   "source": [
    "import sys\n",
    "sys.argv = ['23']\n",
    "\n",
    "import pandas as pd\n",
    "import joblib\n",
    "from sklearn.metrics import mean_absolute_error, mean_squared_error\n",
    "from sklearn import utils\n",
    "\n",
    "import config.config as cc\n",
    "from Functions.original.methods.general.generator import Generator\n",
    "import torch.nn as nn\n",
    "import torch\n",
    "from Functions import metrics\n",
    "import xgboost as xgb\n",
    "from sampler import sample\n",
    "import numpy as np\n",
    "from itertools import combinations\n",
    "import Functions.evaluation as ev\n",
    "\n",
    "%load_ext autoreload\n",
    "%autoreload 2"
   ]
  },
  {
   "cell_type": "markdown",
   "id": "261c9677",
   "metadata": {},
   "source": [
    "# Real without expert input"
   ]
  },
  {
   "cell_type": "code",
   "execution_count": 26,
   "id": "49ca716b",
   "metadata": {},
   "outputs": [],
   "source": [
    "specific_transformer = joblib.load(cc.params['output_scaler'])"
   ]
  },
  {
   "cell_type": "code",
   "execution_count": 28,
   "id": "14b3ecc9",
   "metadata": {},
   "outputs": [
    {
     "data": {
      "text/plain": [
       "(29.98, 0.1, 0.23, 0.31)"
      ]
     },
     "execution_count": 28,
     "metadata": {},
     "output_type": "execute_result"
    }
   ],
   "source": [
    "train = pd.read_pickle(cc.train_specific)\n",
    "test = pd.read_pickle(cc.test_specific)\n",
    "train1 = specific_transformer.inverse_transform(train, keep_ei=False)\n",
    "test1 = specific_transformer.inverse_transform(test, keep_ei=False)\n",
    "\n",
    "ev.run_xgboost(train1, test1)"
   ]
  },
  {
   "cell_type": "code",
   "execution_count": 36,
   "id": "5e483dfb",
   "metadata": {},
   "outputs": [
    {
     "data": {
      "text/html": [
       "<div>\n",
       "<style scoped>\n",
       "    .dataframe tbody tr th:only-of-type {\n",
       "        vertical-align: middle;\n",
       "    }\n",
       "\n",
       "    .dataframe tbody tr th {\n",
       "        vertical-align: top;\n",
       "    }\n",
       "\n",
       "    .dataframe thead th {\n",
       "        text-align: right;\n",
       "    }\n",
       "</style>\n",
       "<table border=\"1\" class=\"dataframe\">\n",
       "  <thead>\n",
       "    <tr style=\"text-align: right;\">\n",
       "      <th></th>\n",
       "      <th>VehPower</th>\n",
       "      <th>VehAge</th>\n",
       "      <th>DrivAge</th>\n",
       "      <th>Density</th>\n",
       "      <th>BonusMalus</th>\n",
       "      <th>Exposure</th>\n",
       "      <th>EI_Density</th>\n",
       "      <th>EI_DrivAge</th>\n",
       "      <th>EI_BonusMalus1</th>\n",
       "      <th>EI_BonusMalus2</th>\n",
       "      <th>...</th>\n",
       "      <th>Area_2</th>\n",
       "      <th>Area_3</th>\n",
       "      <th>Area_4</th>\n",
       "      <th>Area_5</th>\n",
       "      <th>Area_6</th>\n",
       "      <th>ClaimNb_0.0</th>\n",
       "      <th>ClaimNb_1.0</th>\n",
       "      <th>ClaimNb_2.0</th>\n",
       "      <th>ClaimNb_3.0</th>\n",
       "      <th>ClaimNb_4.0</th>\n",
       "    </tr>\n",
       "  </thead>\n",
       "  <tbody>\n",
       "    <tr>\n",
       "      <th>199985</th>\n",
       "      <td>0.46</td>\n",
       "      <td>-0.92</td>\n",
       "      <td>0.39</td>\n",
       "      <td>1.45</td>\n",
       "      <td>-0.62</td>\n",
       "      <td>0.75</td>\n",
       "      <td>0.06</td>\n",
       "      <td>0.06</td>\n",
       "      <td>0.05</td>\n",
       "      <td>117.43</td>\n",
       "      <td>...</td>\n",
       "      <td>0</td>\n",
       "      <td>0</td>\n",
       "      <td>0</td>\n",
       "      <td>1</td>\n",
       "      <td>0</td>\n",
       "      <td>1</td>\n",
       "      <td>0</td>\n",
       "      <td>0</td>\n",
       "      <td>0</td>\n",
       "      <td>0</td>\n",
       "    </tr>\n",
       "    <tr>\n",
       "      <th>419340</th>\n",
       "      <td>1.71</td>\n",
       "      <td>-0.92</td>\n",
       "      <td>-0.96</td>\n",
       "      <td>1.46</td>\n",
       "      <td>-0.62</td>\n",
       "      <td>-0.52</td>\n",
       "      <td>0.06</td>\n",
       "      <td>0.04</td>\n",
       "      <td>0.05</td>\n",
       "      <td>117.43</td>\n",
       "      <td>...</td>\n",
       "      <td>0</td>\n",
       "      <td>0</td>\n",
       "      <td>0</td>\n",
       "      <td>1</td>\n",
       "      <td>0</td>\n",
       "      <td>0</td>\n",
       "      <td>1</td>\n",
       "      <td>0</td>\n",
       "      <td>0</td>\n",
       "      <td>0</td>\n",
       "    </tr>\n",
       "    <tr>\n",
       "      <th>489244</th>\n",
       "      <td>-0.78</td>\n",
       "      <td>-0.92</td>\n",
       "      <td>0.32</td>\n",
       "      <td>-0.49</td>\n",
       "      <td>0.14</td>\n",
       "      <td>-1.18</td>\n",
       "      <td>0.05</td>\n",
       "      <td>0.06</td>\n",
       "      <td>0.05</td>\n",
       "      <td>117.43</td>\n",
       "      <td>...</td>\n",
       "      <td>0</td>\n",
       "      <td>1</td>\n",
       "      <td>0</td>\n",
       "      <td>0</td>\n",
       "      <td>0</td>\n",
       "      <td>1</td>\n",
       "      <td>0</td>\n",
       "      <td>0</td>\n",
       "      <td>0</td>\n",
       "      <td>0</td>\n",
       "    </tr>\n",
       "    <tr>\n",
       "      <th>581092</th>\n",
       "      <td>0.46</td>\n",
       "      <td>0.75</td>\n",
       "      <td>0.74</td>\n",
       "      <td>-0.51</td>\n",
       "      <td>2.58</td>\n",
       "      <td>0.33</td>\n",
       "      <td>0.05</td>\n",
       "      <td>0.06</td>\n",
       "      <td>0.09</td>\n",
       "      <td>117.43</td>\n",
       "      <td>...</td>\n",
       "      <td>0</td>\n",
       "      <td>1</td>\n",
       "      <td>0</td>\n",
       "      <td>0</td>\n",
       "      <td>0</td>\n",
       "      <td>1</td>\n",
       "      <td>0</td>\n",
       "      <td>0</td>\n",
       "      <td>0</td>\n",
       "      <td>0</td>\n",
       "    </tr>\n",
       "    <tr>\n",
       "      <th>114554</th>\n",
       "      <td>1.09</td>\n",
       "      <td>0.38</td>\n",
       "      <td>-1.38</td>\n",
       "      <td>-0.33</td>\n",
       "      <td>2.26</td>\n",
       "      <td>0.58</td>\n",
       "      <td>0.05</td>\n",
       "      <td>0.05</td>\n",
       "      <td>0.08</td>\n",
       "      <td>117.43</td>\n",
       "      <td>...</td>\n",
       "      <td>0</td>\n",
       "      <td>1</td>\n",
       "      <td>0</td>\n",
       "      <td>0</td>\n",
       "      <td>0</td>\n",
       "      <td>0</td>\n",
       "      <td>1</td>\n",
       "      <td>0</td>\n",
       "      <td>0</td>\n",
       "      <td>0</td>\n",
       "    </tr>\n",
       "  </tbody>\n",
       "</table>\n",
       "<p>5 rows × 57 columns</p>\n",
       "</div>"
      ],
      "text/plain": [
       "        VehPower  VehAge  DrivAge  Density  BonusMalus  Exposure  EI_Density   \n",
       "199985      0.46   -0.92     0.39     1.45       -0.62      0.75        0.06  \\\n",
       "419340      1.71   -0.92    -0.96     1.46       -0.62     -0.52        0.06   \n",
       "489244     -0.78   -0.92     0.32    -0.49        0.14     -1.18        0.05   \n",
       "581092      0.46    0.75     0.74    -0.51        2.58      0.33        0.05   \n",
       "114554      1.09    0.38    -1.38    -0.33        2.26      0.58        0.05   \n",
       "\n",
       "        EI_DrivAge  EI_BonusMalus1  EI_BonusMalus2  ...  Area_2  Area_3   \n",
       "199985        0.06            0.05          117.43  ...       0       0  \\\n",
       "419340        0.04            0.05          117.43  ...       0       0   \n",
       "489244        0.06            0.05          117.43  ...       0       1   \n",
       "581092        0.06            0.09          117.43  ...       0       1   \n",
       "114554        0.05            0.08          117.43  ...       0       1   \n",
       "\n",
       "        Area_4  Area_5  Area_6  ClaimNb_0.0  ClaimNb_1.0  ClaimNb_2.0   \n",
       "199985       0       1       0            1            0            0  \\\n",
       "419340       0       1       0            0            1            0   \n",
       "489244       0       0       0            1            0            0   \n",
       "581092       0       0       0            1            0            0   \n",
       "114554       0       0       0            0            1            0   \n",
       "\n",
       "        ClaimNb_3.0  ClaimNb_4.0  \n",
       "199985            0            0  \n",
       "419340            0            0  \n",
       "489244            0            0  \n",
       "581092            0            0  \n",
       "114554            0            0  \n",
       "\n",
       "[5 rows x 57 columns]"
      ]
     },
     "execution_count": 36,
     "metadata": {},
     "output_type": "execute_result"
    }
   ],
   "source": [
    "train1.head()"
   ]
  },
  {
   "cell_type": "markdown",
   "id": "082300fa",
   "metadata": {},
   "source": [
    "# Bootstrapping"
   ]
  },
  {
   "cell_type": "code",
   "execution_count": 39,
   "id": "54bbe063",
   "metadata": {},
   "outputs": [
    {
     "data": {
      "text/plain": [
       "(30.15, 0.1, 0.23, 0.32)"
      ]
     },
     "execution_count": 39,
     "metadata": {},
     "output_type": "execute_result"
    }
   ],
   "source": [
    "train = pd.read_pickle(cc.train_specific)\n",
    "test = pd.read_pickle(cc.test_specific)\n",
    "train1 = specific_transformer.inverse_transform(train, keep_ei=False)\n",
    "test1 = specific_transformer.inverse_transform(test, keep_ei=False)\n",
    "\n",
    "train_boot = utils.resample(train1, replace=True, n_samples=500000, random_state=3, stratify=None)\n",
    "ev.run_xgboost(train_boot, test1)"
   ]
  },
  {
   "cell_type": "markdown",
   "id": "00d0f7da",
   "metadata": {},
   "source": [
    "# Real with expert input"
   ]
  },
  {
   "cell_type": "code",
   "execution_count": 31,
   "id": "0bf52e14",
   "metadata": {},
   "outputs": [
    {
     "data": {
      "text/plain": [
       "(30.0, 0.1, 0.23, 0.31)"
      ]
     },
     "execution_count": 31,
     "metadata": {},
     "output_type": "execute_result"
    }
   ],
   "source": [
    "train = pd.read_pickle(cc.train_specific)\n",
    "test = pd.read_pickle(cc.test_specific)\n",
    "train1 = specific_transformer.inverse_transform(train, keep_ei=True)\n",
    "test1 = specific_transformer.inverse_transform(test, keep_ei=True)\n",
    "\n",
    "ev.run_xgboost(train1, test1)"
   ]
  },
  {
   "cell_type": "code",
   "execution_count": null,
   "id": "c014b2f4",
   "metadata": {},
   "outputs": [],
   "source": []
  },
  {
   "cell_type": "code",
   "execution_count": 110,
   "id": "aec0abb1",
   "metadata": {},
   "outputs": [],
   "source": [
    "modelparams = pd.read_csv(cc.paramspath, sep=';').iloc[15:-1]"
   ]
  },
  {
   "cell_type": "code",
   "execution_count": 111,
   "id": "4c9c113b",
   "metadata": {},
   "outputs": [],
   "source": [
    "models_ei = modelparams.set_index('sim_num').T.to_dict()"
   ]
  },
  {
   "cell_type": "code",
   "execution_count": 167,
   "id": "306a4c38",
   "metadata": {},
   "outputs": [],
   "source": []
  },
  {
   "cell_type": "code",
   "execution_count": 151,
   "id": "6b7c9a11",
   "metadata": {},
   "outputs": [
    {
     "name": "stdout",
     "output_type": "stream",
     "text": [
      "4.0:\n",
      "3.0:\n",
      "1.0:\n",
      "Model 1.0 not trained yet\n"
     ]
    }
   ],
   "source": [
    "for key, value in models_ei.items():\n",
    "    print(f'{key}:')\n",
    "    try:\n",
    "        value['losses'] = pd.read_csv(value['output_loss'])\n",
    "    except FileNotFoundError:\n",
    "        print(f\"Model {key} not trained yet\")\n",
    "        continue\n",
    "    try:\n",
    "        value['scaler'] = joblib.load(value['output_scaler'])\n",
    "    except (ModuleNotFoundError, FileNotFoundError):\n",
    "        print(f\"Scaler for model {key} could not be loaded\")\n",
    "        value['scaler'] = joblib.load('./data/scalers/scaler3.pkl')\n",
    "    \n",
    "    model_best = Generator(\n",
    "    noise_size=int(value['z_size']),\n",
    "    output_size=cc.metadata['variable_sizes'],\n",
    "    hidden_sizes=[int(x) for x in value['generator_hidden_sizes'].split(',')],\n",
    "    bn_decay=value['gen_bn_decay']\n",
    "    )\n",
    "    \n",
    "    model_final = Generator(\n",
    "    noise_size=int(value['z_size']),\n",
    "    output_size=cc.metadata['variable_sizes'],\n",
    "    hidden_sizes=[int(x) for x in value['generator_hidden_sizes'].split(',')],\n",
    "    bn_decay=value['gen_bn_decay']\n",
    "    )\n",
    "    \n",
    "    try:\n",
    "        model_best.load_state_dict(torch.load(f\"{value['output_generator']}_inbetween\", map_location=lambda storage, loc: storage))\n",
    "        value['generator_best'] = model_best\n",
    "        train_gan = sample(\n",
    "                generator=value['generator_best'],\n",
    "                num_features=cc.metadata['num_features'],\n",
    "                num_samples= 500000,\n",
    "                batch_size= 500000,\n",
    "                noise_size=int(value['z_size'])\n",
    "        )\n",
    "        value['sample_best'] = pd.DataFrame(train_gan)\n",
    "        value['sample_best'] = value['scaler'].inverse_transform(value['sample_best'])\n",
    "        value['sample_best']['DrivAge'] = value['sample_best']['DrivAge'].astype(int)\n",
    "        value['sample_final'] = value['sample_final'].loc[value['sample_final']['DrivAge'].between(18, 90)]\n",
    "        \n",
    "    except FileNotFoundError:\n",
    "        print('Did not find between generator')\n",
    "    model_final.load_state_dict(torch.load(value['output_generator'], map_location=lambda storage, loc: storage))\n",
    "    value['generator_final'] = model_final\n",
    "    train_gan = sample(\n",
    "                generator=value['generator_final'],\n",
    "                num_features=cc.metadata['num_features'],\n",
    "                num_samples= 500000,\n",
    "                batch_size= 500000,\n",
    "                noise_size=int(value['z_size'])\n",
    "            )\n",
    "    value['sample_final'] = pd.DataFrame(train_gan)\n",
    "    value['sample_final'] = value['scaler'].inverse_transform(value['sample_final'])\n",
    "    value['sample_final']['DrivAge'] = value['sample_final']['DrivAge'].astype(int)\n",
    "    value['sample_final'] = value['sample_final'].loc[value['sample_final']['DrivAge'].between(18, 90)]\n",
    "\n",
    "    train = pd.read_pickle(cc.train_common)\n",
    "    test = pd.read_pickle(cc.test_common)\n",
    "    value['train'] = value['scaler'].transform(train)\n",
    "    value['test'] = value['scaler'].transform(test)\n",
    "    value['train'] = value['scaler'].inverse_transform(value['train'])\n",
    "    value['test'] = value['scaler'].inverse_transform(value['test'])    "
   ]
  },
  {
   "cell_type": "code",
   "execution_count": 103,
   "id": "8a26b530",
   "metadata": {
    "pycharm": {
     "name": "#%%\n"
    }
   },
   "outputs": [],
   "source": [
    "train = pd.read_pickle(cc.train_specific)\n",
    "test = pd.read_pickle(cc.test_specific)"
   ]
  },
  {
   "cell_type": "code",
   "execution_count": null,
   "id": "c367fc36",
   "metadata": {
    "pycharm": {
     "name": "#%%\n"
    }
   },
   "outputs": [],
   "source": [
    "def make_glms(train, test, base_formula = ''):\n",
    "    # No Input\n",
    "    formula0 = \"ClaimNb ~ 1\"\n",
    "    formula1 = f\"ClaimNb ~ {base_formula}  VehPowerGLM + C(VehAgeGLM, Treatment(reference=2)) + C(DrivAgeGLM, Treatment(reference=5)) + BonusMalusGLM + VehGas + DensityGLM + C(Region, Treatment(reference='R24'))\"\n",
    "    formula2 = f\"{formula1} + VehBrand\"\n",
    "    formula3 = f\"{formula2} + AreaGLM\"\n",
    "\n",
    "    formulas = [formula0, formula1, formula2, formula3]\n",
    "    devs = []\n",
    "    \n",
    "    for formulaa in formulas:\n",
    "        glm0 = smf.glm(formula=formulaa, data=train, family=sm.families.Poisson(link=sm.families.links.log()), offset=np.log(train['Exposure'])).fit()\n",
    "        devs += [metrics.poisson_deviance(glm0.predict(test, offset=np.log(test['Exposure'])), test['ClaimNb'])]\n",
    "    \n",
    "    assert min(devs) != devs[0], f'Issue with metrics: {dev}; random model predicts best?!'\n",
    "    return min(devs)\n",
    "    "
   ]
  },
  {
   "cell_type": "code",
   "execution_count": null,
   "id": "974d1001",
   "metadata": {
    "pycharm": {
     "name": "#%%\n"
    }
   },
   "outputs": [],
   "source": [
    "print(\n",
    "    \n",
    "    make_glms(train, test),\n",
    "    make_glms(train, test, base_formula = 'EI_Density + EI_DrivAge + EI_BonusMalus1 + EI_BonusMalus2 + EI_VehAge +'),\n",
    "    make_glms(train, test, base_formula = 'GDV_Area + GDV_VehAge + GDV_DrivAge + '),\n",
    "    make_glms(train, test, base_formula = 'GDV_Area + GDV_VehAge + GDV_DrivAge + EI_Density + EI_DrivAge + EI_BonusMalus1 + EI_BonusMalus2 + EI_VehAge +')\n",
    ")"
   ]
  },
  {
   "cell_type": "code",
   "execution_count": 60,
   "id": "c151dd19",
   "metadata": {
    "pycharm": {
     "name": "#%%\n"
    }
   },
   "outputs": [],
   "source": [
    "train1 = specific.inverse_transform(train)\n",
    "test1 = specific.inverse_transform(test)"
   ]
  },
  {
   "cell_type": "code",
   "execution_count": 40,
   "id": "cca38465",
   "metadata": {},
   "outputs": [
    {
     "ename": "NameError",
     "evalue": "name 'models_ei' is not defined",
     "output_type": "error",
     "traceback": [
      "\u001b[0;31m---------------------------------------------------------------------------\u001b[0m",
      "\u001b[0;31mNameError\u001b[0m                                 Traceback (most recent call last)",
      "Cell \u001b[0;32mIn[40], line 1\u001b[0m\n\u001b[0;32m----> 1\u001b[0m \u001b[43mmodels_ei\u001b[49m[\u001b[38;5;241m4\u001b[39m][\u001b[38;5;124m'\u001b[39m\u001b[38;5;124msample_best\u001b[39m\u001b[38;5;124m'\u001b[39m]\n",
      "\u001b[0;31mNameError\u001b[0m: name 'models_ei' is not defined"
     ]
    }
   ],
   "source": [
    "models_ei[4]['sample_best']"
   ]
  },
  {
   "cell_type": "code",
   "execution_count": 170,
   "id": "d2bd36a6",
   "metadata": {
    "pycharm": {
     "name": "#%%\n"
    }
   },
   "outputs": [
    {
     "data": {
      "text/plain": [
       "(34.36056128531707,\n",
       " 0.10832881675346996,\n",
       " 0.24304770117183477,\n",
       " 0.41164807840942924)"
      ]
     },
     "execution_count": 170,
     "metadata": {},
     "output_type": "execute_result"
    }
   ],
   "source": [
    "run_xgboost(models_ei[3]['sample_best'], models_ei[3]['test'])"
   ]
  },
  {
   "cell_type": "code",
   "execution_count": 171,
   "id": "486027f5",
   "metadata": {},
   "outputs": [
    {
     "data": {
      "text/plain": [
       "(33.49982405512103,\n",
       " 0.10471609938458648,\n",
       " 0.2443187661231037,\n",
       " 0.4578781599980055)"
      ]
     },
     "execution_count": 171,
     "metadata": {},
     "output_type": "execute_result"
    }
   ],
   "source": [
    "run_xgboost(models_ei[4]['sample_best'], models_ei[4]['test'])"
   ]
  },
  {
   "cell_type": "code",
   "execution_count": 172,
   "id": "43e22fc8",
   "metadata": {},
   "outputs": [
    {
     "data": {
      "text/plain": [
       "(35.13531592423808,\n",
       " 0.10643067452542822,\n",
       " 0.2560946444532043,\n",
       " 0.5979749799037785)"
      ]
     },
     "execution_count": 172,
     "metadata": {},
     "output_type": "execute_result"
    }
   ],
   "source": [
    "run_xgboost(models_ei[4]['sample_final'], models_ei[4]['test'])"
   ]
  },
  {
   "cell_type": "code",
   "execution_count": 173,
   "id": "a3f6b6a6",
   "metadata": {},
   "outputs": [
    {
     "data": {
      "text/plain": [
       "(38.695160767967565,\n",
       " 0.10551261753714256,\n",
       " 0.2560916146684446,\n",
       " 0.6280656931261911)"
      ]
     },
     "execution_count": 173,
     "metadata": {},
     "output_type": "execute_result"
    }
   ],
   "source": [
    "run_xgboost(models_ei[3]['sample_final'], models_ei[3]['test'])"
   ]
  },
  {
   "cell_type": "code",
   "execution_count": 169,
   "id": "164508ae",
   "metadata": {},
   "outputs": [
    {
     "data": {
      "text/plain": [
       "(29.98217976197135,\n",
       " 0.09795535503277099,\n",
       " 0.23345391626455292,\n",
       " 0.312967133426957)"
      ]
     },
     "execution_count": 169,
     "metadata": {},
     "output_type": "execute_result"
    }
   ],
   "source": [
    "run_xgboost(models_ei[3]['train'], models_ei[3]['test'])"
   ]
  },
  {
   "cell_type": "code",
   "execution_count": 157,
   "id": "5e4d73ca",
   "metadata": {},
   "outputs": [
    {
     "data": {
      "text/plain": [
       "<Axes: xlabel='DrivAge'>"
      ]
     },
     "execution_count": 157,
     "metadata": {},
     "output_type": "execute_result"
    },
    {
     "data": {
      "image/png": "[encoded data removed]",
      "text/plain": [
       "<Figure size 640x480 with 1 Axes>"
      ]
     },
     "metadata": {},
     "output_type": "display_data"
    }
   ],
   "source": [
    "models_ei[3]['sample_final'].groupby('DrivAge')['ClaimNb'].mean().plot()"
   ]
  },
  {
   "cell_type": "code",
   "execution_count": 155,
   "id": "28a69830",
   "metadata": {},
   "outputs": [
    {
     "data": {
      "text/plain": [
       "<Axes: xlabel='DrivAge'>"
      ]
     },
     "execution_count": 155,
     "metadata": {},
     "output_type": "execute_result"
    },
    {
     "data": {
      "image/png": "[encoded data removed]",
      "text/plain": [
       "<Figure size 640x480 with 1 Axes>"
      ]
     },
     "metadata": {},
     "output_type": "display_data"
    }
   ],
   "source": [
    "models_ei[4]['sample_final'].groupby('DrivAge')['ClaimNb'].mean().plot()"
   ]
  },
  {
   "cell_type": "code",
   "execution_count": 149,
   "id": "8a8e6236",
   "metadata": {},
   "outputs": [
    {
     "data": {
      "text/plain": [
       "<Axes: xlabel='DrivAge'>"
      ]
     },
     "execution_count": 149,
     "metadata": {},
     "output_type": "execute_result"
    },
    {
     "data": {
      "image/png": "[encoded data removed]",
      "text/plain": [
       "<Figure size 640x480 with 1 Axes>"
      ]
     },
     "metadata": {},
     "output_type": "display_data"
    }
   ],
   "source": [
    "models_ei[4]['train'].groupby('DrivAge')['ClaimNb'].mean().plot()"
   ]
  },
  {
   "cell_type": "code",
   "execution_count": 137,
   "id": "fc84fbe4",
   "metadata": {},
   "outputs": [
    {
     "data": {
      "text/plain": [
       "<Axes: >"
      ]
     },
     "execution_count": 137,
     "metadata": {},
     "output_type": "execute_result"
    },
    {
     "data": {
      "image/png": "[encoded data removed]",
      "text/plain": [
       "<Figure size 640x480 with 1 Axes>"
      ]
     },
     "metadata": {},
     "output_type": "display_data"
    }
   ],
   "source": [
    "models_ei[4]['train'].groupby('DrivAge')['ClaimNb'].mean().plot()"
   ]
  },
  {
   "cell_type": "code",
   "execution_count": 124,
   "id": "f496a699",
   "metadata": {},
   "outputs": [
    {
     "data": {
      "text/plain": [
       "<Axes: >"
      ]
     },
     "execution_count": 124,
     "metadata": {},
     "output_type": "execute_result"
    },
    {
     "data": {
      "image/png": "[encoded data removed]",
      "text/plain": [
       "<Figure size 640x480 with 1 Axes>"
      ]
     },
     "metadata": {},
     "output_type": "display_data"
    }
   ],
   "source": [
    "models_ei[4]['test']['DrivAge'].hist(bins=25)"
   ]
  },
  {
   "cell_type": "code",
   "execution_count": 64,
   "id": "549ef950",
   "metadata": {
    "pycharm": {
     "name": "#%%\n"
    }
   },
   "outputs": [
    {
     "data": {
      "text/plain": [
       "(43.906325984508264, 32.763202082176704, 0.114846262355297, 0.2603551588748538)"
      ]
     },
     "execution_count": 64,
     "metadata": {},
     "output_type": "execute_result"
    }
   ],
   "source": [
    "from Functions import metrics\n",
    "import xgboost as xgb\n",
    "\n",
    "xgb_model = xgb.XGBRegressor(objective='count:poisson',\n",
    "                             n_estimators=1200,\n",
    "                             max_depth=7,\n",
    "                             eta=0.025,\n",
    "                             colsample_bytree=0.8,\n",
    "                             subsample=0.9,\n",
    "                             min_child_weight=10,\n",
    "                             tree_method=\"hist\",\n",
    "                             random_state=1)\n",
    "\n",
    "xgb_model.fit(train_gan2.drop(labels='ClaimNb', axis=1), train_gan2['ClaimNb'])\n",
    "\n",
    "preds2 = xgb_model.predict(test1.drop(labels='ClaimNb', axis=1))\n",
    "\n",
    "dev_mod2 = metrics.poisson_deviance(preds2, test1['ClaimNb'])\n",
    "dev_base2 = metrics.poisson_deviance([train_gan2['ClaimNb'].mean()] * len(test1), test1['ClaimNb'])\n",
    "dev_mae2 = mean_absolute_error(test1['ClaimNb'], preds2)\n",
    "dev_rmse2 = mean_squared_error(test1['ClaimNb'], preds2) ** 0.5\n",
    "\n",
    "(dev_mod2, dev_base2, dev_mae2, dev_rmse2)"
   ]
  },
  {
   "cell_type": "code",
   "execution_count": null,
   "id": "52327a54",
   "metadata": {
    "pycharm": {
     "name": "#%%\n"
    }
   },
   "outputs": [],
   "source": [
    "import xgboost as xgb\n",
    "\n",
    "xgb_model = xgb.XGBRegressor(objective='count:poisson',\n",
    "                             n_estimators=1200,\n",
    "                             max_depth=7,\n",
    "                             eta=0.025,\n",
    "                             colsample_bytree=0.8,\n",
    "                             subsample=0.9,\n",
    "                             min_child_weight=10,\n",
    "                             tree_method=\"hist\",\n",
    "                             random_state=1)\n",
    "\n",
    "xgb_model.fit(train1.drop(labels='ClaimNb', axis=1), train1['ClaimNb'])\n",
    "\n",
    "preds0 = xgb_model.predict(test1.drop(labels='ClaimNb', axis=1))\n",
    "\n",
    "dev_mod0 = metrics.poisson_deviance(preds0, test1['ClaimNb'])\n",
    "dev_base0 = metrics.poisson_deviance([train1['ClaimNb'].mean()] * len(test1), test1['ClaimNb'])\n",
    "dev_mae0 = mean_absolute_error(test1['ClaimNb'], preds0)\n",
    "dev_rmse0 = mean_squared_error(test1['ClaimNb'], preds0) ** 0.5\n",
    "\n",
    "(dev_mod0, dev_base0, dev_mae0, dev_rmse0)"
   ]
  },
  {
   "cell_type": "code",
   "execution_count": null,
   "id": "12b32910",
   "metadata": {
    "pycharm": {
     "name": "#%%\n"
    }
   },
   "outputs": [],
   "source": [
    "metrics_df = pd.DataFrame({\n",
    "    'Data type': ['Real data', 'Generated', 'Generated with expert input'],\n",
    "    'Poisson Deviation': [dev_mod0, dev_mod1, dev_mod2],\n",
    "    'MAE': [dev_mae0, dev_mae1, dev_mae2],\n",
    "    'RMSE': [dev_rmse0, dev_rmse1, dev_rmse2]\n",
    "})\n",
    "\n",
    "metrics_df"
   ]
  },
  {
   "cell_type": "code",
   "execution_count": null,
   "id": "61ee3f8b",
   "metadata": {
    "pycharm": {
     "name": "#%%\n"
    }
   },
   "outputs": [],
   "source": [
    "test1['preds0'] = preds0\n",
    "test1['preds1'] = preds1\n",
    "test1['preds2'] = preds2"
   ]
  },
  {
   "cell_type": "code",
   "execution_count": null,
   "id": "edcc0411",
   "metadata": {
    "pycharm": {
     "name": "#%%\n"
    }
   },
   "outputs": [],
   "source": [
    "test1.groupby('DrivAge')['ClaimNb'].mean().plot()"
   ]
  },
  {
   "cell_type": "code",
   "execution_count": null,
   "id": "682f110c",
   "metadata": {
    "pycharm": {
     "name": "#%%\n"
    }
   },
   "outputs": [],
   "source": [
    "test1.groupby('DrivAge')['preds0'].mean().plot()"
   ]
  },
  {
   "cell_type": "code",
   "execution_count": null,
   "id": "18ac1183",
   "metadata": {
    "pycharm": {
     "name": "#%%\n"
    }
   },
   "outputs": [],
   "source": [
    "test1.groupby('DrivAge')['preds1'].mean().plot()"
   ]
  },
  {
   "cell_type": "code",
   "execution_count": null,
   "id": "a8ba5490",
   "metadata": {
    "pycharm": {
     "name": "#%%\n"
    }
   },
   "outputs": [],
   "source": [
    "test1.groupby('DrivAge')['preds2'].mean().plot()"
   ]
  },
  {
   "cell_type": "code",
   "execution_count": 77,
   "id": "44d1112c",
   "metadata": {
    "pycharm": {
     "name": "#%%\n"
    }
   },
   "outputs": [
    {
     "data": {
      "text/plain": [
       "<Axes: xlabel='DrivAge'>"
      ]
     },
     "execution_count": 77,
     "metadata": {},
     "output_type": "execute_result"
    },
    {
     "data": {
      "image/png": "[encoded data removed]",
      "text/plain": [
       "<Figure size 640x480 with 1 Axes>"
      ]
     },
     "metadata": {},
     "output_type": "display_data"
    }
   ],
   "source": [
    "test1.groupby('DrivAge')['preds2'].mean().plot()"
   ]
  },
  {
   "cell_type": "code",
   "execution_count": 91,
   "id": "b104436e",
   "metadata": {
    "pycharm": {
     "name": "#%%\n"
    }
   },
   "outputs": [
    {
     "name": "stdout",
     "output_type": "stream",
     "text": [
      "[32.91632850254276]\n",
      "[32.91632850254276, 59.74845410521347]\n",
      "[32.91632850254276, 59.74845410521347, 59.87506494269026]\n"
     ]
    },
    {
     "ename": "TypeError",
     "evalue": "predict requires that you use a DataFrame when predicting from a model\nthat was created using the formula api.\n\nThe original error message returned by patsy is:\nObject with dtype category cannot perform the numpy op isnan",
     "output_type": "error",
     "traceback": [
      "\u001b[0;31m---------------------------------------------------------------------------\u001b[0m",
      "\u001b[0;31mTypeError\u001b[0m                                 Traceback (most recent call last)",
      "File \u001b[0;32m~/opt/anaconda3/lib/python3.9/site-packages/statsmodels/base/model.py:1137\u001b[0m, in \u001b[0;36mResults.predict\u001b[0;34m(self, exog, transform, *args, **kwargs)\u001b[0m\n\u001b[1;32m   1136\u001b[0m \u001b[38;5;28;01mtry\u001b[39;00m:\n\u001b[0;32m-> 1137\u001b[0m     exog \u001b[38;5;241m=\u001b[39m \u001b[43mdmatrix\u001b[49m\u001b[43m(\u001b[49m\u001b[43mdesign_info\u001b[49m\u001b[43m,\u001b[49m\u001b[43m \u001b[49m\u001b[43mexog\u001b[49m\u001b[43m,\u001b[49m\u001b[43m \u001b[49m\u001b[43mreturn_type\u001b[49m\u001b[38;5;241;43m=\u001b[39;49m\u001b[38;5;124;43m\"\u001b[39;49m\u001b[38;5;124;43mdataframe\u001b[39;49m\u001b[38;5;124;43m\"\u001b[39;49m\u001b[43m)\u001b[49m\n\u001b[1;32m   1138\u001b[0m \u001b[38;5;28;01mexcept\u001b[39;00m \u001b[38;5;167;01mException\u001b[39;00m \u001b[38;5;28;01mas\u001b[39;00m exc:\n",
      "File \u001b[0;32m~/opt/anaconda3/lib/python3.9/site-packages/patsy/highlevel.py:290\u001b[0m, in \u001b[0;36mdmatrix\u001b[0;34m(formula_like, data, eval_env, NA_action, return_type)\u001b[0m\n\u001b[1;32m    289\u001b[0m eval_env \u001b[38;5;241m=\u001b[39m EvalEnvironment\u001b[38;5;241m.\u001b[39mcapture(eval_env, reference\u001b[38;5;241m=\u001b[39m\u001b[38;5;241m1\u001b[39m)\n\u001b[0;32m--> 290\u001b[0m (lhs, rhs) \u001b[38;5;241m=\u001b[39m \u001b[43m_do_highlevel_design\u001b[49m\u001b[43m(\u001b[49m\u001b[43mformula_like\u001b[49m\u001b[43m,\u001b[49m\u001b[43m \u001b[49m\u001b[43mdata\u001b[49m\u001b[43m,\u001b[49m\u001b[43m \u001b[49m\u001b[43meval_env\u001b[49m\u001b[43m,\u001b[49m\n\u001b[1;32m    291\u001b[0m \u001b[43m                                  \u001b[49m\u001b[43mNA_action\u001b[49m\u001b[43m,\u001b[49m\u001b[43m \u001b[49m\u001b[43mreturn_type\u001b[49m\u001b[43m)\u001b[49m\n\u001b[1;32m    292\u001b[0m \u001b[38;5;28;01mif\u001b[39;00m lhs\u001b[38;5;241m.\u001b[39mshape[\u001b[38;5;241m1\u001b[39m] \u001b[38;5;241m!=\u001b[39m \u001b[38;5;241m0\u001b[39m:\n",
      "File \u001b[0;32m~/opt/anaconda3/lib/python3.9/site-packages/patsy/highlevel.py:167\u001b[0m, in \u001b[0;36m_do_highlevel_design\u001b[0;34m(formula_like, data, eval_env, NA_action, return_type)\u001b[0m\n\u001b[1;32m    166\u001b[0m \u001b[38;5;28;01mif\u001b[39;00m design_infos \u001b[38;5;129;01mis\u001b[39;00m \u001b[38;5;129;01mnot\u001b[39;00m \u001b[38;5;28;01mNone\u001b[39;00m:\n\u001b[0;32m--> 167\u001b[0m     \u001b[38;5;28;01mreturn\u001b[39;00m \u001b[43mbuild_design_matrices\u001b[49m\u001b[43m(\u001b[49m\u001b[43mdesign_infos\u001b[49m\u001b[43m,\u001b[49m\u001b[43m \u001b[49m\u001b[43mdata\u001b[49m\u001b[43m,\u001b[49m\n\u001b[1;32m    168\u001b[0m \u001b[43m                                 \u001b[49m\u001b[43mNA_action\u001b[49m\u001b[38;5;241;43m=\u001b[39;49m\u001b[43mNA_action\u001b[49m\u001b[43m,\u001b[49m\n\u001b[1;32m    169\u001b[0m \u001b[43m                                 \u001b[49m\u001b[43mreturn_type\u001b[49m\u001b[38;5;241;43m=\u001b[39;49m\u001b[43mreturn_type\u001b[49m\u001b[43m)\u001b[49m\n\u001b[1;32m    170\u001b[0m \u001b[38;5;28;01melse\u001b[39;00m:\n\u001b[1;32m    171\u001b[0m     \u001b[38;5;66;03m# No builders, but maybe we can still get matrices\u001b[39;00m\n",
      "File \u001b[0;32m~/opt/anaconda3/lib/python3.9/site-packages/patsy/build.py:888\u001b[0m, in \u001b[0;36mbuild_design_matrices\u001b[0;34m(design_infos, data, NA_action, return_type, dtype)\u001b[0m\n\u001b[1;32m    887\u001b[0m \u001b[38;5;28;01mif\u001b[39;00m factor_info \u001b[38;5;129;01mnot\u001b[39;00m \u001b[38;5;129;01min\u001b[39;00m factor_info_to_values:\n\u001b[0;32m--> 888\u001b[0m     value, is_NA \u001b[38;5;241m=\u001b[39m \u001b[43m_eval_factor\u001b[49m\u001b[43m(\u001b[49m\u001b[43mfactor_info\u001b[49m\u001b[43m,\u001b[49m\u001b[43m \u001b[49m\u001b[43mdata\u001b[49m\u001b[43m,\u001b[49m\u001b[43m \u001b[49m\u001b[43mNA_action\u001b[49m\u001b[43m)\u001b[49m\n\u001b[1;32m    889\u001b[0m     factor_info_to_isNAs[factor_info] \u001b[38;5;241m=\u001b[39m is_NA\n",
      "File \u001b[0;32m~/opt/anaconda3/lib/python3.9/site-packages/patsy/build.py:80\u001b[0m, in \u001b[0;36m_eval_factor\u001b[0;34m(factor_info, data, NA_action)\u001b[0m\n\u001b[1;32m     76\u001b[0m         \u001b[38;5;28;01mraise\u001b[39;00m PatsyError(\u001b[38;5;124m\"\u001b[39m\u001b[38;5;124mwhen evaluating numeric factor \u001b[39m\u001b[38;5;132;01m%s\u001b[39;00m\u001b[38;5;124m, \u001b[39m\u001b[38;5;124m\"\u001b[39m\n\u001b[1;32m     77\u001b[0m                          \u001b[38;5;124m\"\u001b[39m\u001b[38;5;124mI got non-numeric data of type \u001b[39m\u001b[38;5;124m'\u001b[39m\u001b[38;5;132;01m%s\u001b[39;00m\u001b[38;5;124m'\u001b[39m\u001b[38;5;124m\"\u001b[39m\n\u001b[1;32m     78\u001b[0m                          \u001b[38;5;241m%\u001b[39m (factor\u001b[38;5;241m.\u001b[39mname(), result\u001b[38;5;241m.\u001b[39mdtype),\n\u001b[1;32m     79\u001b[0m                          factor)\n\u001b[0;32m---> 80\u001b[0m     \u001b[38;5;28;01mreturn\u001b[39;00m result, \u001b[43mNA_action\u001b[49m\u001b[38;5;241;43m.\u001b[39;49m\u001b[43mis_numerical_NA\u001b[49m\u001b[43m(\u001b[49m\u001b[43mresult\u001b[49m\u001b[43m)\u001b[49m\n\u001b[1;32m     81\u001b[0m \u001b[38;5;66;03m# returns either a 1d ndarray or a pandas.Series, plus is_NA mask\u001b[39;00m\n\u001b[1;32m     82\u001b[0m \u001b[38;5;28;01melse\u001b[39;00m:\n",
      "File \u001b[0;32m~/opt/anaconda3/lib/python3.9/site-packages/patsy/missing.py:136\u001b[0m, in \u001b[0;36mNAAction.is_numerical_NA\u001b[0;34m(self, arr)\u001b[0m\n\u001b[1;32m    135\u001b[0m \u001b[38;5;28;01mif\u001b[39;00m \u001b[38;5;124m\"\u001b[39m\u001b[38;5;124mNaN\u001b[39m\u001b[38;5;124m\"\u001b[39m \u001b[38;5;129;01min\u001b[39;00m \u001b[38;5;28mself\u001b[39m\u001b[38;5;241m.\u001b[39mNA_types:\n\u001b[0;32m--> 136\u001b[0m     mask \u001b[38;5;241m|\u001b[39m\u001b[38;5;241m=\u001b[39m \u001b[43mnp\u001b[49m\u001b[38;5;241;43m.\u001b[39;49m\u001b[43misnan\u001b[49m\u001b[43m(\u001b[49m\u001b[43marr\u001b[49m\u001b[43m)\u001b[49m\n\u001b[1;32m    137\u001b[0m \u001b[38;5;28;01mif\u001b[39;00m mask\u001b[38;5;241m.\u001b[39mndim \u001b[38;5;241m>\u001b[39m \u001b[38;5;241m1\u001b[39m:\n",
      "File \u001b[0;32m~/opt/anaconda3/lib/python3.9/site-packages/pandas/core/generic.py:2016\u001b[0m, in \u001b[0;36mNDFrame.__array_ufunc__\u001b[0;34m(self, ufunc, method, *inputs, **kwargs)\u001b[0m\n\u001b[1;32m   2012\u001b[0m \u001b[38;5;129m@final\u001b[39m\n\u001b[1;32m   2013\u001b[0m \u001b[38;5;28;01mdef\u001b[39;00m \u001b[38;5;21m__array_ufunc__\u001b[39m(\n\u001b[1;32m   2014\u001b[0m     \u001b[38;5;28mself\u001b[39m, ufunc: np\u001b[38;5;241m.\u001b[39mufunc, method: \u001b[38;5;28mstr\u001b[39m, \u001b[38;5;241m*\u001b[39minputs: Any, \u001b[38;5;241m*\u001b[39m\u001b[38;5;241m*\u001b[39mkwargs: Any\n\u001b[1;32m   2015\u001b[0m ):\n\u001b[0;32m-> 2016\u001b[0m     \u001b[38;5;28;01mreturn\u001b[39;00m \u001b[43marraylike\u001b[49m\u001b[38;5;241;43m.\u001b[39;49m\u001b[43marray_ufunc\u001b[49m\u001b[43m(\u001b[49m\u001b[38;5;28;43mself\u001b[39;49m\u001b[43m,\u001b[49m\u001b[43m \u001b[49m\u001b[43mufunc\u001b[49m\u001b[43m,\u001b[49m\u001b[43m \u001b[49m\u001b[43mmethod\u001b[49m\u001b[43m,\u001b[49m\u001b[43m \u001b[49m\u001b[38;5;241;43m*\u001b[39;49m\u001b[43minputs\u001b[49m\u001b[43m,\u001b[49m\u001b[43m \u001b[49m\u001b[38;5;241;43m*\u001b[39;49m\u001b[38;5;241;43m*\u001b[39;49m\u001b[43mkwargs\u001b[49m\u001b[43m)\u001b[49m\n",
      "File \u001b[0;32m~/opt/anaconda3/lib/python3.9/site-packages/pandas/core/arraylike.py:404\u001b[0m, in \u001b[0;36marray_ufunc\u001b[0;34m(self, ufunc, method, *inputs, **kwargs)\u001b[0m\n\u001b[1;32m    403\u001b[0m     mgr \u001b[38;5;241m=\u001b[39m inputs[\u001b[38;5;241m0\u001b[39m]\u001b[38;5;241m.\u001b[39m_mgr\n\u001b[0;32m--> 404\u001b[0m     result \u001b[38;5;241m=\u001b[39m \u001b[43mmgr\u001b[49m\u001b[38;5;241;43m.\u001b[39;49m\u001b[43mapply\u001b[49m\u001b[43m(\u001b[49m\u001b[38;5;28;43mgetattr\u001b[39;49m\u001b[43m(\u001b[49m\u001b[43mufunc\u001b[49m\u001b[43m,\u001b[49m\u001b[43m \u001b[49m\u001b[43mmethod\u001b[49m\u001b[43m)\u001b[49m\u001b[43m)\u001b[49m\n\u001b[1;32m    405\u001b[0m \u001b[38;5;28;01melse\u001b[39;00m:\n\u001b[1;32m    406\u001b[0m     \u001b[38;5;66;03m# otherwise specific ufunc methods (eg np.<ufunc>.accumulate(..))\u001b[39;00m\n\u001b[1;32m    407\u001b[0m     \u001b[38;5;66;03m# Those can have an axis keyword and thus can't be called block-by-block\u001b[39;00m\n",
      "File \u001b[0;32m~/opt/anaconda3/lib/python3.9/site-packages/pandas/core/internals/managers.py:350\u001b[0m, in \u001b[0;36mBaseBlockManager.apply\u001b[0;34m(self, f, align_keys, **kwargs)\u001b[0m\n\u001b[1;32m    349\u001b[0m \u001b[38;5;28;01mif\u001b[39;00m \u001b[38;5;28mcallable\u001b[39m(f):\n\u001b[0;32m--> 350\u001b[0m     applied \u001b[38;5;241m=\u001b[39m \u001b[43mb\u001b[49m\u001b[38;5;241;43m.\u001b[39;49m\u001b[43mapply\u001b[49m\u001b[43m(\u001b[49m\u001b[43mf\u001b[49m\u001b[43m,\u001b[49m\u001b[43m \u001b[49m\u001b[38;5;241;43m*\u001b[39;49m\u001b[38;5;241;43m*\u001b[39;49m\u001b[43mkwargs\u001b[49m\u001b[43m)\u001b[49m\n\u001b[1;32m    351\u001b[0m \u001b[38;5;28;01melse\u001b[39;00m:\n",
      "File \u001b[0;32m~/opt/anaconda3/lib/python3.9/site-packages/pandas/core/internals/blocks.py:329\u001b[0m, in \u001b[0;36mBlock.apply\u001b[0;34m(self, func, **kwargs)\u001b[0m\n\u001b[1;32m    325\u001b[0m \u001b[38;5;250m\u001b[39m\u001b[38;5;124;03m\"\"\"\u001b[39;00m\n\u001b[1;32m    326\u001b[0m \u001b[38;5;124;03mapply the function to my values; return a block if we are not\u001b[39;00m\n\u001b[1;32m    327\u001b[0m \u001b[38;5;124;03mone\u001b[39;00m\n\u001b[1;32m    328\u001b[0m \u001b[38;5;124;03m\"\"\"\u001b[39;00m\n\u001b[0;32m--> 329\u001b[0m result \u001b[38;5;241m=\u001b[39m \u001b[43mfunc\u001b[49m\u001b[43m(\u001b[49m\u001b[38;5;28;43mself\u001b[39;49m\u001b[38;5;241;43m.\u001b[39;49m\u001b[43mvalues\u001b[49m\u001b[43m,\u001b[49m\u001b[43m \u001b[49m\u001b[38;5;241;43m*\u001b[39;49m\u001b[38;5;241;43m*\u001b[39;49m\u001b[43mkwargs\u001b[49m\u001b[43m)\u001b[49m\n\u001b[1;32m    331\u001b[0m \u001b[38;5;28;01mreturn\u001b[39;00m \u001b[38;5;28mself\u001b[39m\u001b[38;5;241m.\u001b[39m_split_op_result(result)\n",
      "File \u001b[0;32m~/opt/anaconda3/lib/python3.9/site-packages/pandas/core/arrays/categorical.py:1374\u001b[0m, in \u001b[0;36mCategorical.__array_ufunc__\u001b[0;34m(self, ufunc, method, *inputs, **kwargs)\u001b[0m\n\u001b[1;32m   1372\u001b[0m \u001b[38;5;66;03m# for all other cases, raise for now (similarly as what happens in\u001b[39;00m\n\u001b[1;32m   1373\u001b[0m \u001b[38;5;66;03m# Series.__array_prepare__)\u001b[39;00m\n\u001b[0;32m-> 1374\u001b[0m \u001b[38;5;28;01mraise\u001b[39;00m \u001b[38;5;167;01mTypeError\u001b[39;00m(\n\u001b[1;32m   1375\u001b[0m     \u001b[38;5;124mf\u001b[39m\u001b[38;5;124m\"\u001b[39m\u001b[38;5;124mObject with dtype \u001b[39m\u001b[38;5;132;01m{\u001b[39;00m\u001b[38;5;28mself\u001b[39m\u001b[38;5;241m.\u001b[39mdtype\u001b[38;5;132;01m}\u001b[39;00m\u001b[38;5;124m cannot perform \u001b[39m\u001b[38;5;124m\"\u001b[39m\n\u001b[1;32m   1376\u001b[0m     \u001b[38;5;124mf\u001b[39m\u001b[38;5;124m\"\u001b[39m\u001b[38;5;124mthe numpy op \u001b[39m\u001b[38;5;132;01m{\u001b[39;00mufunc\u001b[38;5;241m.\u001b[39m\u001b[38;5;18m__name__\u001b[39m\u001b[38;5;132;01m}\u001b[39;00m\u001b[38;5;124m\"\u001b[39m\n\u001b[1;32m   1377\u001b[0m )\n",
      "\u001b[0;31mTypeError\u001b[0m: Object with dtype category cannot perform the numpy op isnan",
      "\nDuring handling of the above exception, another exception occurred:\n",
      "\u001b[0;31mTypeError\u001b[0m                                 Traceback (most recent call last)",
      "Cell \u001b[0;32mIn[91], line 12\u001b[0m\n\u001b[1;32m     10\u001b[0m \u001b[38;5;28;01mfor\u001b[39;00m formulaa \u001b[38;5;129;01min\u001b[39;00m formulas:\n\u001b[1;32m     11\u001b[0m     glm0 \u001b[38;5;241m=\u001b[39m smf\u001b[38;5;241m.\u001b[39mglm(formula\u001b[38;5;241m=\u001b[39mformulaa, data\u001b[38;5;241m=\u001b[39mtrain_gan, family\u001b[38;5;241m=\u001b[39msm\u001b[38;5;241m.\u001b[39mfamilies\u001b[38;5;241m.\u001b[39mPoisson(link\u001b[38;5;241m=\u001b[39msm\u001b[38;5;241m.\u001b[39mfamilies\u001b[38;5;241m.\u001b[39mlinks\u001b[38;5;241m.\u001b[39mlog()), offset\u001b[38;5;241m=\u001b[39mnp\u001b[38;5;241m.\u001b[39mlog(train_gan[\u001b[38;5;124m'\u001b[39m\u001b[38;5;124mExposure\u001b[39m\u001b[38;5;124m'\u001b[39m]))\u001b[38;5;241m.\u001b[39mfit()\n\u001b[0;32m---> 12\u001b[0m     devs \u001b[38;5;241m+\u001b[39m\u001b[38;5;241m=\u001b[39m [metrics\u001b[38;5;241m.\u001b[39mpoisson_deviance(\u001b[43mglm0\u001b[49m\u001b[38;5;241;43m.\u001b[39;49m\u001b[43mpredict\u001b[49m\u001b[43m(\u001b[49m\u001b[43mtest\u001b[49m\u001b[43m,\u001b[49m\u001b[43m \u001b[49m\u001b[43moffset\u001b[49m\u001b[38;5;241;43m=\u001b[39;49m\u001b[43mnp\u001b[49m\u001b[38;5;241;43m.\u001b[39;49m\u001b[43mlog\u001b[49m\u001b[43m(\u001b[49m\u001b[43mtest\u001b[49m\u001b[43m[\u001b[49m\u001b[38;5;124;43m'\u001b[39;49m\u001b[38;5;124;43mExposure\u001b[39;49m\u001b[38;5;124;43m'\u001b[39;49m\u001b[43m]\u001b[49m\u001b[43m)\u001b[49m\u001b[43m)\u001b[49m, test[\u001b[38;5;124m'\u001b[39m\u001b[38;5;124mClaimNb\u001b[39m\u001b[38;5;124m'\u001b[39m])]\n\u001b[1;32m     13\u001b[0m     \u001b[38;5;28mprint\u001b[39m(devs)\n",
      "File \u001b[0;32m~/opt/anaconda3/lib/python3.9/site-packages/statsmodels/base/model.py:1144\u001b[0m, in \u001b[0;36mResults.predict\u001b[0;34m(self, exog, transform, *args, **kwargs)\u001b[0m\n\u001b[1;32m   1138\u001b[0m \u001b[38;5;28;01mexcept\u001b[39;00m \u001b[38;5;167;01mException\u001b[39;00m \u001b[38;5;28;01mas\u001b[39;00m exc:\n\u001b[1;32m   1139\u001b[0m     msg \u001b[38;5;241m=\u001b[39m (\u001b[38;5;124m'\u001b[39m\u001b[38;5;124mpredict requires that you use a DataFrame when \u001b[39m\u001b[38;5;124m'\u001b[39m\n\u001b[1;32m   1140\u001b[0m            \u001b[38;5;124m'\u001b[39m\u001b[38;5;124mpredicting from a model\u001b[39m\u001b[38;5;130;01m\\n\u001b[39;00m\u001b[38;5;124mthat was created using the \u001b[39m\u001b[38;5;124m'\u001b[39m\n\u001b[1;32m   1141\u001b[0m            \u001b[38;5;124m'\u001b[39m\u001b[38;5;124mformula api.\u001b[39m\u001b[38;5;124m'\u001b[39m\n\u001b[1;32m   1142\u001b[0m            \u001b[38;5;124m'\u001b[39m\u001b[38;5;130;01m\\n\u001b[39;00m\u001b[38;5;130;01m\\n\u001b[39;00m\u001b[38;5;124mThe original error message returned by patsy is:\u001b[39m\u001b[38;5;130;01m\\n\u001b[39;00m\u001b[38;5;124m'\u001b[39m\n\u001b[1;32m   1143\u001b[0m            \u001b[38;5;124m'\u001b[39m\u001b[38;5;132;01m{0}\u001b[39;00m\u001b[38;5;124m'\u001b[39m\u001b[38;5;241m.\u001b[39mformat(\u001b[38;5;28mstr\u001b[39m(\u001b[38;5;28mstr\u001b[39m(exc))))\n\u001b[0;32m-> 1144\u001b[0m     \u001b[38;5;28;01mraise\u001b[39;00m exc\u001b[38;5;241m.\u001b[39m\u001b[38;5;18m__class__\u001b[39m(msg)\n\u001b[1;32m   1145\u001b[0m \u001b[38;5;28;01mif\u001b[39;00m orig_exog_len \u001b[38;5;241m>\u001b[39m \u001b[38;5;28mlen\u001b[39m(exog) \u001b[38;5;129;01mand\u001b[39;00m \u001b[38;5;129;01mnot\u001b[39;00m is_dict:\n\u001b[1;32m   1146\u001b[0m     \u001b[38;5;28;01mif\u001b[39;00m exog_index \u001b[38;5;129;01mis\u001b[39;00m \u001b[38;5;28;01mNone\u001b[39;00m:\n",
      "\u001b[0;31mTypeError\u001b[0m: predict requires that you use a DataFrame when predicting from a model\nthat was created using the formula api.\n\nThe original error message returned by patsy is:\nObject with dtype category cannot perform the numpy op isnan"
     ]
    }
   ],
   "source": [
    "# No Input\n",
    "formula0 = \"ClaimNb ~ 1\"\n",
    "formula1 = f\"ClaimNb ~   VehPowerGLM + C(VehAgeGLM, Treatment(reference=2)) + C(DrivAgeGLM, Treatment(reference=5)) + BonusMalusGLM + VehGas + DensityGLM + C(Region, Treatment(reference='R24'))\"\n",
    "formula2 = f\"{formula1} + VehBrand\"\n",
    "formula3 = f\"{formula2} + AreaGLM\"\n",
    "\n",
    "\n",
    "\n",
    "formulas = [formula0, formula1, formula2, formula3]\n",
    "devs = []\n",
    "\n",
    "for formulaa in formulas:\n",
    "    glm0 = smf.glm(formula=formulaa, data=train_gan, family=sm.families.Poisson(link=sm.families.links.log()), offset=np.log(train_gan['Exposure'])).fit()\n",
    "    devs += [metrics.poisson_deviance(glm0.predict(test, offset=np.log(test['Exposure'])), test['ClaimNb'])]\n",
    "    print(devs)"
   ]
  },
  {
   "cell_type": "code",
   "execution_count": null,
   "id": "22e00a35",
   "metadata": {
    "pycharm": {
     "name": "#%%\n"
    }
   },
   "outputs": [],
   "source": [
    "Bootstrap(9, n_bootstraps=3, n_train=5, n_test=4, random_state=0)"
   ]
  },
  {
   "cell_type": "code",
   "execution_count": 184,
   "id": "49f870bb",
   "metadata": {},
   "outputs": [
    {
     "data": {
      "text/plain": [
       "Index(['ClaimNb', 'VehPower', 'VehAge', 'DrivAge', 'Density', 'BonusMalus',\n",
       "       'VehBrand_B10', 'VehBrand_B11', 'VehBrand_B12', 'VehBrand_B13',\n",
       "       'VehBrand_B14', 'VehBrand_B2', 'VehBrand_B3', 'VehBrand_B4',\n",
       "       'VehBrand_B5', 'VehBrand_B6', 'VehGas_Regular', 'Region_R21',\n",
       "       'Region_R22', 'Region_R23', 'Region_R24', 'Region_R25', 'Region_R26',\n",
       "       'Region_R31', 'Region_R41', 'Region_R42', 'Region_R43', 'Region_R52',\n",
       "       'Region_R53', 'Region_R54', 'Region_R72', 'Region_R73', 'Region_R74',\n",
       "       'Region_R82', 'Region_R83', 'Region_R91', 'Region_R93', 'Region_R94',\n",
       "       'Area_2', 'Area_3', 'Area_4', 'Area_5', 'Area_6'],\n",
       "      dtype='object')"
      ]
     },
     "execution_count": 184,
     "metadata": {},
     "output_type": "execute_result"
    }
   ],
   "source": [
    "train1.columns"
   ]
  }
 ],
 "metadata": {
  "kernelspec": {
   "display_name": "Python 3 (ipykernel)",
   "language": "python",
   "name": "python3"
  },
  "language_info": {
   "codemirror_mode": {
    "name": "ipython",
    "version": 3
   },
   "file_extension": ".py",
   "mimetype": "text/x-python",
   "name": "python",
   "nbconvert_exporter": "python",
   "pygments_lexer": "ipython3",
   "version": "3.9.12"
  }
 },
 "nbformat": 4,
 "nbformat_minor": 5
}
