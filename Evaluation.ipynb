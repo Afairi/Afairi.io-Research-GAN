{
 "cells": [
  {
   "cell_type": "code",
   "execution_count": null,
   "outputs": [],
   "source": [
    "# script to generate hypotheses summary\n"
   ],
   "metadata": {
    "collapsed": false,
    "pycharm": {
     "name": "#%%\n"
    }
   }
  },
  {
   "cell_type": "code",
   "execution_count": 2,
   "outputs": [
    {
     "name": "stdout",
     "output_type": "stream",
     "text": [
      "The autoreload extension is already loaded. To reload it, use:\n",
      "  %reload_ext autoreload\n"
     ]
    }
   ],
   "source": [
    "import sys\n",
    "\n",
    "modelkey = 3\n",
    "sys.argv = [f\"--modelversion {modelkey}\"]\n",
    "\n",
    "from sklearn.metrics import mean_absolute_error, mean_squared_error, roc_auc_score\n",
    "from sklearn import utils\n",
    "import pandas as pd\n",
    "import scipy.stats as stats\n",
    "import seaborn as sns\n",
    "\n",
    "import config.config as cc\n",
    "from Functions import metrics\n",
    "import numpy as np\n",
    "import Functions.evaluation as ev\n",
    "from sklearn.datasets import fetch_openml\n",
    "\n",
    "from Functions.dataprep import SpecificPrep, CommonPrep\n",
    "\n",
    "% load_ext autoreload\n",
    "% autoreload 2"
   ],
   "metadata": {
    "collapsed": false,
    "pycharm": {
     "name": "#%%\n",
     "is_executing": true
    }
   }
  },
  {
   "cell_type": "code",
   "execution_count": 3,
   "id": "88893b6a",
   "metadata": {
    "pycharm": {
     "name": "#%%\n"
    }
   },
   "outputs": [],
   "source": [
    "df = fetch_openml(data_id=41214, as_frame=True).data\n",
    "common = CommonPrep()\n",
    "train0, _, test0 = common.fit_transform(df)"
   ]
  },
  {
   "cell_type": "markdown",
   "id": "c34dff79",
   "metadata": {
    "pycharm": {
     "name": "#%% md\n"
    }
   },
   "source": [
    "# Other Section Plots"
   ]
  },
  {
   "cell_type": "code",
   "execution_count": null,
   "outputs": [],
   "source": [
    "sns.set(rc={'figure.figsize': (3, 1)})\n",
    "custom_params = {\"axes.spines.right\": False, \"axes.spines.top\": False}\n",
    "sns.set_theme(style=\"white\", rc=custom_params)\n",
    "df1 = df.copy(deep=True).loc[df['Exposure'] <= 1]\n",
    "ax = sns.histplot(df1['Exposure'], bins=10)\n",
    "ax.set(ylabel='N')"
   ],
   "metadata": {
    "collapsed": false,
    "pycharm": {
     "name": "#%%\n"
    }
   }
  },
  {
   "cell_type": "code",
   "execution_count": null,
   "outputs": [],
   "source": [
    "df1 = df.copy(deep=True).loc[df['ClaimNb'] <= 4]\n",
    "df1['Claim Count (ClaimNb)'] = df1['ClaimNb']\n",
    "ax = sns.histplot(df1['Claim Count (ClaimNb)'])\n",
    "ax.set(ylabel='N')\n"
   ],
   "metadata": {
    "collapsed": false,
    "pycharm": {
     "name": "#%%\n"
    }
   }
  },
  {
   "cell_type": "code",
   "execution_count": 9,
   "id": "3d8e94cb",
   "metadata": {
    "pycharm": {
     "name": "#%%\n"
    }
   },
   "outputs": [],
   "source": [
    "cc.metadata_ei = cc.load_metadata(metadata_path='./config/metadata.json')\n",
    "cc.metadata_noei = cc.load_metadata(metadata_path='./config/metadata_noei.json')"
   ]
  },
  {
   "cell_type": "code",
   "execution_count": null,
   "id": "ab72698b",
   "metadata": {
    "pycharm": {
     "name": "#%%\n"
    },
    "scrolled": false
   },
   "outputs": [],
   "source": [
    "datasets = {\n",
    "    'ei': SpecificPrep(variables=cc.metadata_ei['variables'], gan_cats=cc.metadata_ei['cats_vars_gan'],\n",
    "                       xgb_cats=cc.metadata_ei['cats_vars_xgb'], addei=True,\n",
    "                       columns_to_scale=cc.metadata_ei['standardized_vars']),\n",
    "    'noei': SpecificPrep(variables=cc.metadata_noei['variables'], gan_cats=cc.metadata_noei['cats_vars_gan'],\n",
    "                         xgb_cats=cc.metadata_noei['cats_vars_xgb'], addei=False,\n",
    "                         columns_to_scale=cc.metadata_noei['standardized_vars'])\n",
    "}\n",
    "\n",
    "for key, trans in datasets.items():\n",
    "    train = train0.copy(deep=True)\n",
    "    test = test0.copy(deep=True)\n",
    "\n",
    "    trans = trans.fit(train)\n",
    "    train = trans.transform(train)\n",
    "    test = trans.transform(test)\n",
    "\n",
    "    train = trans.inverse_transform(train)\n",
    "    test = trans.inverse_transform(test)\n",
    "\n",
    "    datasets[key] = {\n",
    "        'train': train,\n",
    "        'test': test,\n",
    "        'transformer': trans\n",
    "    }"
   ]
  },
  {
   "cell_type": "code",
   "execution_count": 7,
   "id": "be4cfb87",
   "metadata": {
    "pycharm": {
     "name": "#%%\n"
    }
   },
   "outputs": [],
   "source": [
    "# import os\n",
    "# # Use to find best model\n",
    "# models = []\n",
    "# losses_best = []\n",
    "# losses_final = []\n",
    "# for f in os.listdir('./data/losses/'):\n",
    "#     df = pd.read_csv('./data/losses/'+f)\n",
    "#     models += [f]\n",
    "#     losses_best += [df.loc[df['metric_name'] == 'Generated Poisson', 'metric_value'].min()]\n",
    "#     losses_final += [df.loc[df['metric_name'] == 'Generated Poisson', 'metric_value'].iloc[-1]]\n",
    "\n",
    "\n",
    "# modelslosses = pd.DataFrame({'model': models, 'minloss': losses_best, 'finloss': losses_final})\n",
    "# modelslosses.sort_values('finloss').head(50)\n"
   ]
  },
  {
   "cell_type": "markdown",
   "id": "2ea97453",
   "metadata": {
    "pycharm": {
     "name": "#%% md\n"
    }
   },
   "source": [
    "# Which XGBoost to use"
   ]
  },
  {
   "cell_type": "code",
   "execution_count": 20,
   "id": "4a701a1f",
   "metadata": {
    "pycharm": {
     "name": "#%%\n"
    },
    "scrolled": true
   },
   "outputs": [],
   "source": [
    "BOOTSTRAPS = 100"
   ]
  },
  {
   "cell_type": "code",
   "execution_count": null,
   "id": "bd841aeb",
   "metadata": {
    "pycharm": {
     "name": "#%%\n"
    }
   },
   "outputs": [],
   "source": [
    "xgb_v1 = ev.xgb_bootstraped(datasets['noei']['train'], datasets['noei']['test'], BOOTSTRAPS, 500000, version=1)\n",
    "xgb_v2 = ev.xgb_bootstraped(datasets['noei']['train'], datasets['noei']['test'], BOOTSTRAPS, 500000, version=2)\n",
    "[[ev.summaries(x) for x in xgb_v1],\n",
    " [ev.summaries(x) for x in xgb_v2]]"
   ]
  },
  {
   "cell_type": "code",
   "execution_count": null,
   "id": "a7f372fd",
   "metadata": {
    "pycharm": {
     "name": "#%%\n"
    }
   },
   "outputs": [],
   "source": [
    "xgb_v1 = ev.xgb_bootstraped(datasets['noei']['train'], datasets['noei']['test'], BOOTSTRAPS, 5000, version=1)\n",
    "xgb_v2 = ev.xgb_bootstraped(datasets['noei']['train'], datasets['noei']['test'], BOOTSTRAPS, 5000, version=2)\n",
    "[[ev.summaries(x) for x in xgb_v1],\n",
    " [ev.summaries(x) for x in xgb_v2]]"
   ]
  },
  {
   "cell_type": "markdown",
   "id": "95a19bbc",
   "metadata": {
    "pycharm": {
     "name": "#%% md\n"
    }
   },
   "source": [
    "Best models:\n",
    "L: V1\n",
    "S: V2"
   ]
  },
  {
   "cell_type": "markdown",
   "id": "e78d46f3",
   "metadata": {
    "pycharm": {
     "name": "#%% md\n"
    }
   },
   "source": [
    "# Get GANs"
   ]
  },
  {
   "cell_type": "code",
   "execution_count": 22,
   "id": "dd9ba4e3",
   "metadata": {
    "pycharm": {
     "name": "#%%\n"
    }
   },
   "outputs": [
    {
     "name": "stderr",
     "output_type": "stream",
     "text": [
      "100%|██████████| 100/100 [23:29<00:00, 14.10s/it]\n"
     ]
    },
    {
     "data": {
      "text/plain": [
       "(0.331, 0.012, 0.328, 0.333)"
      ]
     },
     "execution_count": 22,
     "metadata": {},
     "output_type": "execute_result"
    }
   ],
   "source": [
    "bestmodels['l_ei']['boots'] = ev.gan_bootstraped(bestmodels['l_ei'], datasets['noei']['test'], datasets, BOOTSTRAPS)\n",
    "ev.summaries(bestmodels['l_ei']['boots'])\n"
   ]
  },
  {
   "cell_type": "code",
   "execution_count": 14,
   "id": "bd043c5b",
   "metadata": {
    "pycharm": {
     "name": "#%%\n"
    }
   },
   "outputs": [
    {
     "ename": "KeyboardInterrupt",
     "evalue": "",
     "output_type": "error",
     "traceback": [
      "\u001B[0;31m---------------------------------------------------------------------------\u001B[0m",
      "\u001B[0;31mKeyboardInterrupt\u001B[0m                         Traceback (most recent call last)",
      "Cell \u001B[0;32mIn[14], line 8\u001B[0m\n\u001B[1;32m      1\u001B[0m bestmodels \u001B[38;5;241m=\u001B[39m {\n\u001B[1;32m      2\u001B[0m     \u001B[38;5;124m'\u001B[39m\u001B[38;5;124ml_ei\u001B[39m\u001B[38;5;124m'\u001B[39m: ev\u001B[38;5;241m.\u001B[39mget_model(\u001B[38;5;241m22\u001B[39m, datasets, bestmodel\u001B[38;5;241m=\u001B[39m\u001B[38;5;28;01mTrue\u001B[39;00m), \u001B[38;5;66;03m# 22\u001B[39;00m\n\u001B[1;32m      3\u001B[0m     \u001B[38;5;124m'\u001B[39m\u001B[38;5;124ml_noei\u001B[39m\u001B[38;5;124m'\u001B[39m: ev\u001B[38;5;241m.\u001B[39mget_model(\u001B[38;5;241m122\u001B[39m, datasets, bestmodel\u001B[38;5;241m=\u001B[39m\u001B[38;5;28;01mTrue\u001B[39;00m),\u001B[38;5;66;03m# 104\u001B[39;00m\n\u001B[1;32m      4\u001B[0m     \u001B[38;5;124m'\u001B[39m\u001B[38;5;124ms_ei\u001B[39m\u001B[38;5;124m'\u001B[39m: ev\u001B[38;5;241m.\u001B[39mget_model(\u001B[38;5;241m721\u001B[39m, datasets, bestmodel\u001B[38;5;241m=\u001B[39m\u001B[38;5;28;01mTrue\u001B[39;00m), \u001B[38;5;66;03m# 721\u001B[39;00m\n\u001B[1;32m      5\u001B[0m     \u001B[38;5;124m'\u001B[39m\u001B[38;5;124ms_noei\u001B[39m\u001B[38;5;124m'\u001B[39m: ev\u001B[38;5;241m.\u001B[39mget_model(\u001B[38;5;241m621\u001B[39m, datasets, bestmodel\u001B[38;5;241m=\u001B[39m\u001B[38;5;28;01mTrue\u001B[39;00m) \u001B[38;5;66;03m# 621\u001B[39;00m\n\u001B[1;32m      6\u001B[0m }\n\u001B[0;32m----> 8\u001B[0m bestmodels[\u001B[38;5;124m'\u001B[39m\u001B[38;5;124ml_ei\u001B[39m\u001B[38;5;124m'\u001B[39m][\u001B[38;5;124m'\u001B[39m\u001B[38;5;124mboots\u001B[39m\u001B[38;5;124m'\u001B[39m] \u001B[38;5;241m=\u001B[39m \u001B[43mev\u001B[49m\u001B[38;5;241;43m.\u001B[39;49m\u001B[43mgan_bootstraped\u001B[49m\u001B[43m(\u001B[49m\u001B[43mbestmodels\u001B[49m\u001B[43m[\u001B[49m\u001B[38;5;124;43m'\u001B[39;49m\u001B[38;5;124;43ml_ei\u001B[39;49m\u001B[38;5;124;43m'\u001B[39;49m\u001B[43m]\u001B[49m\u001B[43m,\u001B[49m\u001B[43m \u001B[49m\u001B[43mdatasets\u001B[49m\u001B[43m[\u001B[49m\u001B[38;5;124;43m'\u001B[39;49m\u001B[38;5;124;43mnoei\u001B[39;49m\u001B[38;5;124;43m'\u001B[39;49m\u001B[43m]\u001B[49m\u001B[43m[\u001B[49m\u001B[38;5;124;43m'\u001B[39;49m\u001B[38;5;124;43mtest\u001B[39;49m\u001B[38;5;124;43m'\u001B[39;49m\u001B[43m]\u001B[49m\u001B[43m,\u001B[49m\u001B[43m \u001B[49m\u001B[43mdatasets\u001B[49m\u001B[43m,\u001B[49m\u001B[43m \u001B[49m\u001B[43mBOOTSTRAPS\u001B[49m\u001B[43m)\u001B[49m\n\u001B[1;32m      9\u001B[0m bestmodels[\u001B[38;5;124m'\u001B[39m\u001B[38;5;124ml_noei\u001B[39m\u001B[38;5;124m'\u001B[39m][\u001B[38;5;124m'\u001B[39m\u001B[38;5;124mboots\u001B[39m\u001B[38;5;124m'\u001B[39m] \u001B[38;5;241m=\u001B[39m ev\u001B[38;5;241m.\u001B[39mgan_bootstraped(bestmodels[\u001B[38;5;124m'\u001B[39m\u001B[38;5;124ml_noei\u001B[39m\u001B[38;5;124m'\u001B[39m], datasets[\u001B[38;5;124m'\u001B[39m\u001B[38;5;124mnoei\u001B[39m\u001B[38;5;124m'\u001B[39m][\u001B[38;5;124m'\u001B[39m\u001B[38;5;124mtest\u001B[39m\u001B[38;5;124m'\u001B[39m], datasets, BOOTSTRAPS)\n\u001B[1;32m     10\u001B[0m bestmodels[\u001B[38;5;124m'\u001B[39m\u001B[38;5;124ms_ei\u001B[39m\u001B[38;5;124m'\u001B[39m][\u001B[38;5;124m'\u001B[39m\u001B[38;5;124mboots\u001B[39m\u001B[38;5;124m'\u001B[39m] \u001B[38;5;241m=\u001B[39m ev\u001B[38;5;241m.\u001B[39mgan_bootstraped(bestmodels[\u001B[38;5;124m'\u001B[39m\u001B[38;5;124ms_ei\u001B[39m\u001B[38;5;124m'\u001B[39m], datasets[\u001B[38;5;124m'\u001B[39m\u001B[38;5;124mnoei\u001B[39m\u001B[38;5;124m'\u001B[39m][\u001B[38;5;124m'\u001B[39m\u001B[38;5;124mtest\u001B[39m\u001B[38;5;124m'\u001B[39m], datasets, BOOTSTRAPS, version\u001B[38;5;241m=\u001B[39m\u001B[38;5;241m2\u001B[39m)\n",
      "File \u001B[0;32m~/Documents/Afairo Single Projects/thesis/Functions/evaluation.py:102\u001B[0m, in \u001B[0;36mgan_bootstraped\u001B[0;34m(value, testset, datasets, bootstraps, postprocess, version)\u001B[0m\n\u001B[1;32m     99\u001B[0m \u001B[38;5;28;01mfor\u001B[39;00m i \u001B[38;5;129;01min\u001B[39;00m \u001B[38;5;28mrange\u001B[39m(\u001B[38;5;241m0\u001B[39m, bootstraps):  \u001B[38;5;66;03m# WARNING: Seed = i in this case (not as usual = 1)\u001B[39;00m\n\u001B[1;32m    100\u001B[0m     testset \u001B[38;5;241m=\u001B[39m utils\u001B[38;5;241m.\u001B[39mresample(testset\u001B[38;5;241m.\u001B[39mcopy(deep\u001B[38;5;241m=\u001B[39m\u001B[38;5;28;01mTrue\u001B[39;00m), replace\u001B[38;5;241m=\u001B[39m\u001B[38;5;28;01mTrue\u001B[39;00m, n_samples\u001B[38;5;241m=\u001B[39m\u001B[38;5;28mlen\u001B[39m(testset), random_state\u001B[38;5;241m=\u001B[39mi,\n\u001B[1;32m    101\u001B[0m                           stratify\u001B[38;5;241m=\u001B[39m\u001B[38;5;28;01mNone\u001B[39;00m)\n\u001B[0;32m--> 102\u001B[0m     preds1 \u001B[38;5;241m=\u001B[39m \u001B[43mgan_xgb\u001B[49m\u001B[43m(\u001B[49m\u001B[43mmetadata\u001B[49m\u001B[43m,\u001B[49m\u001B[43m \u001B[49m\u001B[43mpostprocess\u001B[49m\u001B[43m,\u001B[49m\u001B[43m \u001B[49m\u001B[43mtestset\u001B[49m\u001B[43m,\u001B[49m\u001B[43m \u001B[49m\u001B[43mtransformer\u001B[49m\u001B[43m,\u001B[49m\u001B[43m \u001B[49m\u001B[43mvalue\u001B[49m\u001B[43m,\u001B[49m\u001B[43m \u001B[49m\u001B[43mversion\u001B[49m\u001B[43m)\u001B[49m\n\u001B[1;32m    103\u001B[0m     dev1 \u001B[38;5;241m=\u001B[39m metrics\u001B[38;5;241m.\u001B[39mpoisson_deviance(preds1, testset[\u001B[38;5;124m'\u001B[39m\u001B[38;5;124mClaimNb\u001B[39m\u001B[38;5;124m'\u001B[39m])\n\u001B[1;32m    104\u001B[0m     devs \u001B[38;5;241m+\u001B[39m\u001B[38;5;241m=\u001B[39m [dev1]\n",
      "File \u001B[0;32m~/Documents/Afairo Single Projects/thesis/Functions/evaluation.py:136\u001B[0m, in \u001B[0;36mgan_xgb\u001B[0;34m(metadata, postprocess, testset, transformer, value, version)\u001B[0m\n\u001B[1;32m    134\u001B[0m missed_cols \u001B[38;5;241m=\u001B[39m [col \u001B[38;5;28;01mfor\u001B[39;00m col \u001B[38;5;129;01min\u001B[39;00m testset\u001B[38;5;241m.\u001B[39mcolumns \u001B[38;5;28;01mif\u001B[39;00m col \u001B[38;5;129;01mnot\u001B[39;00m \u001B[38;5;129;01min\u001B[39;00m train\u001B[38;5;241m.\u001B[39mcolumns]\n\u001B[1;32m    135\u001B[0m trainset[missed_cols] \u001B[38;5;241m=\u001B[39m \u001B[38;5;241m0\u001B[39m\n\u001B[0;32m--> 136\u001B[0m preds1 \u001B[38;5;241m=\u001B[39m \u001B[43mrun_xgboost\u001B[49m\u001B[43m(\u001B[49m\u001B[43mtrainset\u001B[49m\u001B[43m,\u001B[49m\u001B[43m \u001B[49m\u001B[43mtestset\u001B[49m\u001B[43m,\u001B[49m\u001B[43m \u001B[49m\u001B[43mversion\u001B[49m\u001B[38;5;241;43m=\u001B[39;49m\u001B[43mversion\u001B[49m\u001B[43m)\u001B[49m\n\u001B[1;32m    138\u001B[0m \u001B[38;5;28;01mreturn\u001B[39;00m preds1\n",
      "File \u001B[0;32m~/Documents/Afairo Single Projects/thesis/Functions/evaluation.py:45\u001B[0m, in \u001B[0;36mrun_xgboost\u001B[0;34m(train, test, version)\u001B[0m\n\u001B[1;32m     34\u001B[0m     xgb_model \u001B[38;5;241m=\u001B[39m xgb\u001B[38;5;241m.\u001B[39mXGBRegressor(objective\u001B[38;5;241m=\u001B[39m\u001B[38;5;124m'\u001B[39m\u001B[38;5;124mcount:poisson\u001B[39m\u001B[38;5;124m'\u001B[39m,\n\u001B[1;32m     35\u001B[0m                                  n_estimators\u001B[38;5;241m=\u001B[39m\u001B[38;5;241m500\u001B[39m,\n\u001B[1;32m     36\u001B[0m                                  max_depth\u001B[38;5;241m=\u001B[39m\u001B[38;5;241m5\u001B[39m,\n\u001B[0;32m   (...)\u001B[0m\n\u001B[1;32m     41\u001B[0m                                  tree_method\u001B[38;5;241m=\u001B[39m\u001B[38;5;124m\"\u001B[39m\u001B[38;5;124mhist\u001B[39m\u001B[38;5;124m\"\u001B[39m,\n\u001B[1;32m     42\u001B[0m                                  random_state\u001B[38;5;241m=\u001B[39m\u001B[38;5;241m1\u001B[39m)\n\u001B[1;32m     44\u001B[0m train \u001B[38;5;241m=\u001B[39m train[test\u001B[38;5;241m.\u001B[39mcolumns]\n\u001B[0;32m---> 45\u001B[0m \u001B[43mxgb_model\u001B[49m\u001B[38;5;241;43m.\u001B[39;49m\u001B[43mfit\u001B[49m\u001B[43m(\u001B[49m\u001B[43mtrain\u001B[49m\u001B[38;5;241;43m.\u001B[39;49m\u001B[43mdrop\u001B[49m\u001B[43m(\u001B[49m\u001B[43mlabels\u001B[49m\u001B[38;5;241;43m=\u001B[39;49m\u001B[38;5;124;43m'\u001B[39;49m\u001B[38;5;124;43mClaimNb\u001B[39;49m\u001B[38;5;124;43m'\u001B[39;49m\u001B[43m,\u001B[49m\u001B[43m \u001B[49m\u001B[43maxis\u001B[49m\u001B[38;5;241;43m=\u001B[39;49m\u001B[38;5;241;43m1\u001B[39;49m\u001B[43m)\u001B[49m\u001B[43m,\u001B[49m\u001B[43m \u001B[49m\u001B[43mtrain\u001B[49m\u001B[43m[\u001B[49m\u001B[38;5;124;43m'\u001B[39;49m\u001B[38;5;124;43mClaimNb\u001B[39;49m\u001B[38;5;124;43m'\u001B[39;49m\u001B[43m]\u001B[49m\u001B[43m)\u001B[49m\n\u001B[1;32m     47\u001B[0m preds1 \u001B[38;5;241m=\u001B[39m xgb_model\u001B[38;5;241m.\u001B[39mpredict(test\u001B[38;5;241m.\u001B[39mdrop(labels\u001B[38;5;241m=\u001B[39m\u001B[38;5;124m'\u001B[39m\u001B[38;5;124mClaimNb\u001B[39m\u001B[38;5;124m'\u001B[39m, axis\u001B[38;5;241m=\u001B[39m\u001B[38;5;241m1\u001B[39m))\n\u001B[1;32m     49\u001B[0m \u001B[38;5;28;01mreturn\u001B[39;00m preds1\n",
      "File \u001B[0;32m~/opt/anaconda3/lib/python3.9/site-packages/xgboost/core.py:620\u001B[0m, in \u001B[0;36mrequire_keyword_args.<locals>.throw_if.<locals>.inner_f\u001B[0;34m(*args, **kwargs)\u001B[0m\n\u001B[1;32m    618\u001B[0m \u001B[38;5;28;01mfor\u001B[39;00m k, arg \u001B[38;5;129;01min\u001B[39;00m \u001B[38;5;28mzip\u001B[39m(sig\u001B[38;5;241m.\u001B[39mparameters, args):\n\u001B[1;32m    619\u001B[0m     kwargs[k] \u001B[38;5;241m=\u001B[39m arg\n\u001B[0;32m--> 620\u001B[0m \u001B[38;5;28;01mreturn\u001B[39;00m \u001B[43mfunc\u001B[49m\u001B[43m(\u001B[49m\u001B[38;5;241;43m*\u001B[39;49m\u001B[38;5;241;43m*\u001B[39;49m\u001B[43mkwargs\u001B[49m\u001B[43m)\u001B[49m\n",
      "File \u001B[0;32m~/opt/anaconda3/lib/python3.9/site-packages/xgboost/sklearn.py:1025\u001B[0m, in \u001B[0;36mXGBModel.fit\u001B[0;34m(self, X, y, sample_weight, base_margin, eval_set, eval_metric, early_stopping_rounds, verbose, xgb_model, sample_weight_eval_set, base_margin_eval_set, feature_weights, callbacks)\u001B[0m\n\u001B[1;32m   1014\u001B[0m     obj \u001B[38;5;241m=\u001B[39m \u001B[38;5;28;01mNone\u001B[39;00m\n\u001B[1;32m   1016\u001B[0m (\n\u001B[1;32m   1017\u001B[0m     model,\n\u001B[1;32m   1018\u001B[0m     metric,\n\u001B[0;32m   (...)\u001B[0m\n\u001B[1;32m   1023\u001B[0m     xgb_model, eval_metric, params, early_stopping_rounds, callbacks\n\u001B[1;32m   1024\u001B[0m )\n\u001B[0;32m-> 1025\u001B[0m \u001B[38;5;28mself\u001B[39m\u001B[38;5;241m.\u001B[39m_Booster \u001B[38;5;241m=\u001B[39m \u001B[43mtrain\u001B[49m\u001B[43m(\u001B[49m\n\u001B[1;32m   1026\u001B[0m \u001B[43m    \u001B[49m\u001B[43mparams\u001B[49m\u001B[43m,\u001B[49m\n\u001B[1;32m   1027\u001B[0m \u001B[43m    \u001B[49m\u001B[43mtrain_dmatrix\u001B[49m\u001B[43m,\u001B[49m\n\u001B[1;32m   1028\u001B[0m \u001B[43m    \u001B[49m\u001B[38;5;28;43mself\u001B[39;49m\u001B[38;5;241;43m.\u001B[39;49m\u001B[43mget_num_boosting_rounds\u001B[49m\u001B[43m(\u001B[49m\u001B[43m)\u001B[49m\u001B[43m,\u001B[49m\n\u001B[1;32m   1029\u001B[0m \u001B[43m    \u001B[49m\u001B[43mevals\u001B[49m\u001B[38;5;241;43m=\u001B[39;49m\u001B[43mevals\u001B[49m\u001B[43m,\u001B[49m\n\u001B[1;32m   1030\u001B[0m \u001B[43m    \u001B[49m\u001B[43mearly_stopping_rounds\u001B[49m\u001B[38;5;241;43m=\u001B[39;49m\u001B[43mearly_stopping_rounds\u001B[49m\u001B[43m,\u001B[49m\n\u001B[1;32m   1031\u001B[0m \u001B[43m    \u001B[49m\u001B[43mevals_result\u001B[49m\u001B[38;5;241;43m=\u001B[39;49m\u001B[43mevals_result\u001B[49m\u001B[43m,\u001B[49m\n\u001B[1;32m   1032\u001B[0m \u001B[43m    \u001B[49m\u001B[43mobj\u001B[49m\u001B[38;5;241;43m=\u001B[39;49m\u001B[43mobj\u001B[49m\u001B[43m,\u001B[49m\n\u001B[1;32m   1033\u001B[0m \u001B[43m    \u001B[49m\u001B[43mcustom_metric\u001B[49m\u001B[38;5;241;43m=\u001B[39;49m\u001B[43mmetric\u001B[49m\u001B[43m,\u001B[49m\n\u001B[1;32m   1034\u001B[0m \u001B[43m    \u001B[49m\u001B[43mverbose_eval\u001B[49m\u001B[38;5;241;43m=\u001B[39;49m\u001B[43mverbose\u001B[49m\u001B[43m,\u001B[49m\n\u001B[1;32m   1035\u001B[0m \u001B[43m    \u001B[49m\u001B[43mxgb_model\u001B[49m\u001B[38;5;241;43m=\u001B[39;49m\u001B[43mmodel\u001B[49m\u001B[43m,\u001B[49m\n\u001B[1;32m   1036\u001B[0m \u001B[43m    \u001B[49m\u001B[43mcallbacks\u001B[49m\u001B[38;5;241;43m=\u001B[39;49m\u001B[43mcallbacks\u001B[49m\u001B[43m,\u001B[49m\n\u001B[1;32m   1037\u001B[0m \u001B[43m\u001B[49m\u001B[43m)\u001B[49m\n\u001B[1;32m   1039\u001B[0m \u001B[38;5;28mself\u001B[39m\u001B[38;5;241m.\u001B[39m_set_evaluation_result(evals_result)\n\u001B[1;32m   1040\u001B[0m \u001B[38;5;28;01mreturn\u001B[39;00m \u001B[38;5;28mself\u001B[39m\n",
      "File \u001B[0;32m~/opt/anaconda3/lib/python3.9/site-packages/xgboost/core.py:620\u001B[0m, in \u001B[0;36mrequire_keyword_args.<locals>.throw_if.<locals>.inner_f\u001B[0;34m(*args, **kwargs)\u001B[0m\n\u001B[1;32m    618\u001B[0m \u001B[38;5;28;01mfor\u001B[39;00m k, arg \u001B[38;5;129;01min\u001B[39;00m \u001B[38;5;28mzip\u001B[39m(sig\u001B[38;5;241m.\u001B[39mparameters, args):\n\u001B[1;32m    619\u001B[0m     kwargs[k] \u001B[38;5;241m=\u001B[39m arg\n\u001B[0;32m--> 620\u001B[0m \u001B[38;5;28;01mreturn\u001B[39;00m \u001B[43mfunc\u001B[49m\u001B[43m(\u001B[49m\u001B[38;5;241;43m*\u001B[39;49m\u001B[38;5;241;43m*\u001B[39;49m\u001B[43mkwargs\u001B[49m\u001B[43m)\u001B[49m\n",
      "File \u001B[0;32m~/opt/anaconda3/lib/python3.9/site-packages/xgboost/training.py:185\u001B[0m, in \u001B[0;36mtrain\u001B[0;34m(params, dtrain, num_boost_round, evals, obj, feval, maximize, early_stopping_rounds, evals_result, verbose_eval, xgb_model, callbacks, custom_metric)\u001B[0m\n\u001B[1;32m    183\u001B[0m \u001B[38;5;28;01mif\u001B[39;00m cb_container\u001B[38;5;241m.\u001B[39mbefore_iteration(bst, i, dtrain, evals):\n\u001B[1;32m    184\u001B[0m     \u001B[38;5;28;01mbreak\u001B[39;00m\n\u001B[0;32m--> 185\u001B[0m \u001B[43mbst\u001B[49m\u001B[38;5;241;43m.\u001B[39;49m\u001B[43mupdate\u001B[49m\u001B[43m(\u001B[49m\u001B[43mdtrain\u001B[49m\u001B[43m,\u001B[49m\u001B[43m \u001B[49m\u001B[43mi\u001B[49m\u001B[43m,\u001B[49m\u001B[43m \u001B[49m\u001B[43mobj\u001B[49m\u001B[43m)\u001B[49m\n\u001B[1;32m    186\u001B[0m \u001B[38;5;28;01mif\u001B[39;00m cb_container\u001B[38;5;241m.\u001B[39mafter_iteration(bst, i, dtrain, evals):\n\u001B[1;32m    187\u001B[0m     \u001B[38;5;28;01mbreak\u001B[39;00m\n",
      "File \u001B[0;32m~/opt/anaconda3/lib/python3.9/site-packages/xgboost/core.py:1918\u001B[0m, in \u001B[0;36mBooster.update\u001B[0;34m(self, dtrain, iteration, fobj)\u001B[0m\n\u001B[1;32m   1915\u001B[0m \u001B[38;5;28mself\u001B[39m\u001B[38;5;241m.\u001B[39m_validate_dmatrix_features(dtrain)\n\u001B[1;32m   1917\u001B[0m \u001B[38;5;28;01mif\u001B[39;00m fobj \u001B[38;5;129;01mis\u001B[39;00m \u001B[38;5;28;01mNone\u001B[39;00m:\n\u001B[0;32m-> 1918\u001B[0m     _check_call(\u001B[43m_LIB\u001B[49m\u001B[38;5;241;43m.\u001B[39;49m\u001B[43mXGBoosterUpdateOneIter\u001B[49m\u001B[43m(\u001B[49m\u001B[38;5;28;43mself\u001B[39;49m\u001B[38;5;241;43m.\u001B[39;49m\u001B[43mhandle\u001B[49m\u001B[43m,\u001B[49m\n\u001B[1;32m   1919\u001B[0m \u001B[43m                                            \u001B[49m\u001B[43mctypes\u001B[49m\u001B[38;5;241;43m.\u001B[39;49m\u001B[43mc_int\u001B[49m\u001B[43m(\u001B[49m\u001B[43miteration\u001B[49m\u001B[43m)\u001B[49m\u001B[43m,\u001B[49m\n\u001B[1;32m   1920\u001B[0m \u001B[43m                                            \u001B[49m\u001B[43mdtrain\u001B[49m\u001B[38;5;241;43m.\u001B[39;49m\u001B[43mhandle\u001B[49m\u001B[43m)\u001B[49m)\n\u001B[1;32m   1921\u001B[0m \u001B[38;5;28;01melse\u001B[39;00m:\n\u001B[1;32m   1922\u001B[0m     pred \u001B[38;5;241m=\u001B[39m \u001B[38;5;28mself\u001B[39m\u001B[38;5;241m.\u001B[39mpredict(dtrain, output_margin\u001B[38;5;241m=\u001B[39m\u001B[38;5;28;01mTrue\u001B[39;00m, training\u001B[38;5;241m=\u001B[39m\u001B[38;5;28;01mTrue\u001B[39;00m)\n",
      "\u001B[0;31mKeyboardInterrupt\u001B[0m: "
     ]
    }
   ],
   "source": [
    "bestmodels = {\n",
    "    'l_ei': ev.get_model(22, datasets, bestmodel=True),  # 22\n",
    "    'l_noei': ev.get_model(122, datasets, bestmodel=True),  # 104\n",
    "    's_ei': ev.get_model(721, datasets, bestmodel=True),  # 721\n",
    "    's_noei': ev.get_model(621, datasets, bestmodel=True)  # 621\n",
    "}\n",
    "\n",
    "bestmodels['l_ei']['boots'] = ev.gan_bootstraped(bestmodels['l_ei'], datasets['noei']['test'], datasets, BOOTSTRAPS)\n",
    "bestmodels['l_noei']['boots'] = ev.gan_bootstraped(bestmodels['l_noei'], datasets['noei']['test'], datasets, BOOTSTRAPS)\n",
    "bestmodels['s_ei']['boots'] = ev.gan_bootstraped(bestmodels['s_ei'], datasets['noei']['test'], datasets, BOOTSTRAPS,\n",
    "                                                 version=2)\n",
    "bestmodels['s_noei']['boots'] = ev.gan_bootstraped(bestmodels['s_noei'], datasets['noei']['test'], datasets, BOOTSTRAPS,\n",
    "                                                   version=2)\n"
   ]
  },
  {
   "cell_type": "code",
   "execution_count": 15,
   "id": "2d72ffb6",
   "metadata": {
    "pycharm": {
     "name": "#%%\n"
    }
   },
   "outputs": [
    {
     "ename": "KeyError",
     "evalue": "'boots'",
     "output_type": "error",
     "traceback": [
      "\u001B[0;31m---------------------------------------------------------------------------\u001B[0m",
      "\u001B[0;31mKeyError\u001B[0m                                  Traceback (most recent call last)",
      "Cell \u001B[0;32mIn[15], line 2\u001B[0m\n\u001B[1;32m      1\u001B[0m [\n\u001B[0;32m----> 2\u001B[0m [ev\u001B[38;5;241m.\u001B[39msummaries(\u001B[43mbestmodels\u001B[49m\u001B[43m[\u001B[49m\u001B[38;5;124;43m'\u001B[39;49m\u001B[38;5;124;43ml_ei\u001B[39;49m\u001B[38;5;124;43m'\u001B[39;49m\u001B[43m]\u001B[49m\u001B[43m[\u001B[49m\u001B[38;5;124;43m'\u001B[39;49m\u001B[38;5;124;43mboots\u001B[39;49m\u001B[38;5;124;43m'\u001B[39;49m\u001B[43m]\u001B[49m)],\n\u001B[1;32m      3\u001B[0m [ev\u001B[38;5;241m.\u001B[39msummaries(bestmodels[\u001B[38;5;124m'\u001B[39m\u001B[38;5;124ml_noei\u001B[39m\u001B[38;5;124m'\u001B[39m][\u001B[38;5;124m'\u001B[39m\u001B[38;5;124mboots\u001B[39m\u001B[38;5;124m'\u001B[39m])],\n\u001B[1;32m      4\u001B[0m [ev\u001B[38;5;241m.\u001B[39msummaries(bestmodels[\u001B[38;5;124m'\u001B[39m\u001B[38;5;124ms_ei\u001B[39m\u001B[38;5;124m'\u001B[39m][\u001B[38;5;124m'\u001B[39m\u001B[38;5;124mboots\u001B[39m\u001B[38;5;124m'\u001B[39m])],\n\u001B[1;32m      5\u001B[0m [ev\u001B[38;5;241m.\u001B[39msummaries(bestmodels[\u001B[38;5;124m'\u001B[39m\u001B[38;5;124ms_noei\u001B[39m\u001B[38;5;124m'\u001B[39m][\u001B[38;5;124m'\u001B[39m\u001B[38;5;124mboots\u001B[39m\u001B[38;5;124m'\u001B[39m])]\n\u001B[1;32m      6\u001B[0m ]\n",
      "\u001B[0;31mKeyError\u001B[0m: 'boots'"
     ]
    }
   ],
   "source": [
    "[\n",
    "    [ev.summaries(bestmodels['l_ei']['boots'])],\n",
    "    [ev.summaries(bestmodels['l_noei']['boots'])],\n",
    "    [ev.summaries(bestmodels['s_ei']['boots'])],\n",
    "    [ev.summaries(bestmodels['s_noei']['boots'])]\n",
    "]"
   ]
  },
  {
   "cell_type": "markdown",
   "id": "1e5eb5a5",
   "metadata": {
    "pycharm": {
     "name": "#%% md\n"
    }
   },
   "source": [
    "# Hypothesis 1.1"
   ]
  },
  {
   "cell_type": "code",
   "execution_count": 274,
   "id": "6a1c2eaf",
   "metadata": {
    "pycharm": {
     "name": "#%%\n"
    }
   },
   "outputs": [
    {
     "data": {
      "text/plain": [
       "[(31.909, 0.279, 31.853, 31.965), (0.5, 0.0, nan, nan)]"
      ]
     },
     "execution_count": 274,
     "metadata": {},
     "output_type": "execute_result"
    }
   ],
   "source": [
    "devs = []\n",
    "aucs = []\n",
    "\n",
    "for i in range(0, BOOTSTRAPS):\n",
    "    train1 = utils.resample(datasets['noei']['train'], replace=True, n_samples=len(datasets['noei']['train']),\n",
    "                            random_state=i, stratify=None)\n",
    "    test1 = utils.resample(datasets['noei']['test'], replace=True, n_samples=len(datasets['noei']['test']),\n",
    "                           random_state=i, stratify=None)\n",
    "\n",
    "    pred_dummy = datasets['noei']['train']['ClaimNb'].mean()\n",
    "\n",
    "    preds1 = [pred_dummy for x in test1['ClaimNb']]\n",
    "    devs += [metrics.poisson_deviance(preds1, test1['ClaimNb'])]\n",
    "    aucs += [roc_auc_score(test1['ClaimNb'] >= 1, preds1)]\n",
    "\n",
    "base_devs = devs\n",
    "base_aucs = aucs\n",
    "\n",
    "[\n",
    "    ev.summaries(devs),\n",
    "    ev.summaries(aucs)\n",
    "]"
   ]
  },
  {
   "cell_type": "code",
   "execution_count": 275,
   "id": "906c637c",
   "metadata": {
    "pycharm": {
     "name": "#%%\n"
    }
   },
   "outputs": [
    {
     "data": {
      "text/plain": [
       "[Ttest_indResult(statistic=5.560431930551993, pvalue=0.9999999568204301)]"
      ]
     },
     "execution_count": 275,
     "metadata": {},
     "output_type": "execute_result"
    }
   ],
   "source": [
    "stats.ttest_ind(bestmodels['l_noei']['boots'][0], base_devs, alternative='less')"
   ]
  },
  {
   "cell_type": "markdown",
   "id": "2b3d152b",
   "metadata": {
    "pycharm": {
     "name": "#%% md\n"
    }
   },
   "source": [
    "# Hypothesis 1.2"
   ]
  },
  {
   "cell_type": "code",
   "execution_count": 22,
   "id": "b8b9e13b",
   "metadata": {
    "pycharm": {
     "name": "#%%\n"
    }
   },
   "outputs": [
    {
     "data": {
      "text/plain": [
       "[(30.161, 0.272, 30.107, 30.215), (0.655, 0.003, 0.655, 0.656)]"
      ]
     },
     "execution_count": 22,
     "metadata": {},
     "output_type": "execute_result"
    }
   ],
   "source": [
    "xgb_l = ev.xgb_bootstraped(datasets['noei']['train'], datasets['noei']['test'], BOOTSTRAPS, 500000, version=1)\n",
    "[ev.summaries(x) for x in xgb_l]"
   ]
  },
  {
   "cell_type": "code",
   "execution_count": 18,
   "id": "d32941d7",
   "metadata": {
    "pycharm": {
     "name": "#%%\n"
    }
   },
   "outputs": [
    {
     "data": {
      "text/plain": [
       "[Ttest_indResult(statistic=-40.51061010409249, pvalue=8.937878652662032e-98),\n",
       " Ttest_indResult(statistic=6.0209612362247125, pvalue=8.285081527422289e-09)]"
      ]
     },
     "execution_count": 18,
     "metadata": {},
     "output_type": "execute_result"
    }
   ],
   "source": [
    "stats.ttest_ind(bestmodels['l_ei']['boots'][0], xgb_l[0], alternative='two-sided')"
   ]
  },
  {
   "cell_type": "markdown",
   "id": "79007ba2",
   "metadata": {
    "pycharm": {
     "name": "#%% md\n"
    }
   },
   "source": [
    "# Hypothesis 2.1"
   ]
  },
  {
   "cell_type": "code",
   "execution_count": 20,
   "id": "70f0625a",
   "metadata": {
    "pycharm": {
     "name": "#%%\n"
    }
   },
   "outputs": [
    {
     "data": {
      "text/plain": [
       "[Ttest_indResult(statistic=-6.876804220446367, pvalue=3.911041636262372e-11),\n",
       " Ttest_indResult(statistic=0.5482921270041329, pvalue=0.29205449117704385)]"
      ]
     },
     "execution_count": 20,
     "metadata": {},
     "output_type": "execute_result"
    }
   ],
   "source": [
    "stats.ttest_ind(bestmodels['l_ei']['boots'][0], bestmodels['l_noei']['boots'][0], alternative='less')"
   ]
  },
  {
   "cell_type": "markdown",
   "id": "4b934592",
   "metadata": {
    "pycharm": {
     "name": "#%% md\n"
    }
   },
   "source": [
    "# Hypothesis 2.2"
   ]
  },
  {
   "cell_type": "code",
   "execution_count": 25,
   "id": "0161b29e",
   "metadata": {
    "pycharm": {
     "name": "#%%\n"
    }
   },
   "outputs": [
    {
     "data": {
      "text/plain": [
       "[Ttest_indResult(statistic=38.533550974530705, pvalue=1.0),\n",
       " Ttest_indResult(statistic=-45.24884934080125, pvalue=1.0)]"
      ]
     },
     "execution_count": 25,
     "metadata": {},
     "output_type": "execute_result"
    }
   ],
   "source": [
    "stats.ttest_ind(bestmodels['s_ei']['boots'][0], bestmodels['s_noei']['boots'][0], alternative='less')"
   ]
  },
  {
   "cell_type": "markdown",
   "id": "d74e6690",
   "metadata": {
    "pycharm": {
     "name": "#%% md\n"
    }
   },
   "source": [
    "# Plots"
   ]
  },
  {
   "cell_type": "markdown",
   "id": "f3fed7a8",
   "metadata": {
    "pycharm": {
     "name": "#%% md\n"
    }
   },
   "source": [
    "## Results Boxplot"
   ]
  },
  {
   "cell_type": "code",
   "execution_count": 239,
   "id": "e448f133",
   "metadata": {
    "pycharm": {
     "name": "#%%\n"
    }
   },
   "outputs": [],
   "source": [
    "sns.set(rc={'figure.figsize': (5, 4)})\n",
    "custom_params = {\"axes.spines.right\": False, \"axes.spines.top\": False}\n",
    "sns.set_theme(style=\"whitegrid\", rc=custom_params)"
   ]
  },
  {
   "cell_type": "code",
   "execution_count": 240,
   "id": "209413d3",
   "metadata": {
    "pycharm": {
     "name": "#%%\n"
    }
   },
   "outputs": [
    {
     "data": {
      "text/plain": [
       "<Axes: xlabel='Model type', ylabel='Poisson Deviance'>"
      ]
     },
     "execution_count": 240,
     "metadata": {},
     "output_type": "execute_result"
    },
    {
     "data": {
      "image/png": "[encoded data removed]",
      "text/plain": [
       "<Figure size 500x400 with 1 Axes>"
      ]
     },
     "metadata": {},
     "output_type": "display_data"
    }
   ],
   "source": [
    "toplot = pd.DataFrame()\n",
    "\n",
    "#H1\n",
    "toplot = pd.concat([toplot, pd.DataFrame({'N': 433728, 'Model type': 'Dummy model', 'Poisson Deviance': base_devs})])\n",
    "toplot = pd.concat([toplot, pd.DataFrame(\n",
    "    {'N': 433728, 'Model type': 'XGB on GAN data', 'Poisson Deviance': bestmodels['l_ei']['boots'][0]})])\n",
    "toplot = pd.concat(\n",
    "    [toplot, pd.DataFrame({'N': 433728, 'Model type': 'XGB on real data', 'Poisson Deviance': xgb_l[0]})])\n",
    "\n",
    "sns.boxplot(data=toplot, x='Model type', y='Poisson Deviance')"
   ]
  },
  {
   "cell_type": "code",
   "execution_count": 232,
   "id": "132cd548",
   "metadata": {
    "pycharm": {
     "name": "#%%\n"
    }
   },
   "outputs": [],
   "source": [
    "sns.set(rc={'figure.figsize': (3, 4)})\n",
    "custom_params = {\"axes.spines.right\": False, \"axes.spines.top\": False}\n",
    "sns.set_theme(style=\"whitegrid\", rc=custom_params)"
   ]
  },
  {
   "cell_type": "code",
   "execution_count": 233,
   "id": "b4bcc726",
   "metadata": {
    "pycharm": {
     "name": "#%%\n"
    }
   },
   "outputs": [
    {
     "data": {
      "text/plain": [
       "<Axes: xlabel='N', ylabel='Poisson Deviance'>"
      ]
     },
     "execution_count": 233,
     "metadata": {},
     "output_type": "execute_result"
    },
    {
     "data": {
      "image/png": "[encoded data removed]",
      "text/plain": [
       "<Figure size 300x400 with 1 Axes>"
      ]
     },
     "metadata": {},
     "output_type": "display_data"
    }
   ],
   "source": [
    "# H2\n",
    "toplot = pd.concat([toplot, pd.DataFrame(\n",
    "    {'N': 433728, 'Expert Input': 'Included', 'Poisson Deviance': bestmodels['l_ei']['boots'][0]})])\n",
    "toplot = pd.concat([toplot, pd.DataFrame(\n",
    "    {'N': 433728, 'Expert Input': 'Excluded', 'Poisson Deviance': bestmodels['l_noei']['boots'][0]})])\n",
    "toplot = pd.concat(\n",
    "    [toplot, pd.DataFrame({'N': 5000, 'Expert Input': 'Included', 'Poisson Deviance': bestmodels['s_ei']['boots'][0]})])\n",
    "toplot = pd.concat([toplot, pd.DataFrame(\n",
    "    {'N': 5000, 'Expert Input': 'Excluded', 'Poisson Deviance': bestmodels['s_noei']['boots'][0]})])\n",
    "\n",
    "sns.boxplot(data=toplot, x='N', hue='Expert Input', y='Poisson Deviance')"
   ]
  },
  {
   "cell_type": "markdown",
   "id": "ce5e358d",
   "metadata": {
    "pycharm": {
     "name": "#%% md\n"
    }
   },
   "source": [
    "## Decile Plot"
   ]
  },
  {
   "cell_type": "code",
   "execution_count": 270,
   "id": "32a8610a",
   "metadata": {
    "pycharm": {
     "name": "#%%\n"
    }
   },
   "outputs": [],
   "source": [
    "preds_l_ei = ev.gan_xgb(metadata=cc.metadata_ei, postprocess=True, testset=datasets['noei']['test'],\n",
    "                        transformer=datasets['ei']['transformer'], value=bestmodels['l_ei'])\n",
    "preds_l_noei = ev.gan_xgb(metadata=cc.metadata_noei, postprocess=True, testset=datasets['noei']['test'],\n",
    "                          transformer=datasets['noei']['transformer'], value=bestmodels['l_noei'])\n",
    "preds_s_ei = ev.gan_xgb(metadata=cc.metadata_ei, postprocess=True, testset=datasets['noei']['test'],\n",
    "                        transformer=datasets['ei']['transformer'], value=bestmodels['s_ei'])\n",
    "preds_s_noei = ev.gan_xgb(metadata=cc.metadata_noei, postprocess=True, testset=datasets['noei']['test'],\n",
    "                          transformer=datasets['noei']['transformer'], value=bestmodels['s_noei'])"
   ]
  },
  {
   "cell_type": "code",
   "execution_count": 271,
   "id": "7a695401",
   "metadata": {
    "pycharm": {
     "name": "#%%\n"
    }
   },
   "outputs": [],
   "source": [
    "sns.set(rc={'figure.figsize': (4, 2)})\n",
    "custom_params = {\"axes.spines.right\": False, \"axes.spines.top\": False}\n",
    "sns.set_theme(style=\"whitegrid\", rc=custom_params)"
   ]
  },
  {
   "cell_type": "code",
   "execution_count": 272,
   "id": "0d9643e0",
   "metadata": {
    "pycharm": {
     "name": "#%%\n"
    }
   },
   "outputs": [
    {
     "data": {
      "text/plain": [
       "<Axes: xlabel='Decile', ylabel='Mean Error'>"
      ]
     },
     "execution_count": 272,
     "metadata": {},
     "output_type": "execute_result"
    },
    {
     "data": {
      "image/png": "[encoded data removed]",
      "text/plain": [
       "<Figure size 400x200 with 1 Axes>"
      ]
     },
     "metadata": {},
     "output_type": "display_data"
    }
   ],
   "source": [
    "plottest = datasets['noei']['test'].copy(deep=True)\n",
    "plottest['lei'] = preds_l_ei\n",
    "plottest['lnoei'] = preds_l_noei\n",
    "plottest['sei'] = preds_s_ei\n",
    "plottest['snoei'] = preds_s_noei\n",
    "plottest['dec_lei'] = pd.qcut(plottest['lei'], q=10, labels=False)\n",
    "plottest['dec_lnoei'] = pd.qcut(plottest['lnoei'], q=10, labels=False)\n",
    "plottest['risk_lei'] = (plottest['lei'] - plottest['ClaimNb'])\n",
    "plottest['risk_lnoei'] = (plottest['lnoei'] - plottest['ClaimNb'])\n",
    "plottestlei = plottest.groupby('dec_lei', as_index=False)['risk_lei'].mean()\n",
    "plottestlnoei = plottest.groupby('dec_lnoei', as_index=False)['risk_lnoei'].mean()\n",
    "plottestlei.columns = ['Decile', 'Mean Error']\n",
    "plottestlei['Model'] = 'Incl. Expert Knowledge'\n",
    "plottestlnoei.columns = ['Decile', 'Mean Error']\n",
    "plottestlnoei['Model'] = 'Excl. Expert Knowledge'\n",
    "toplot = pd.concat([plottestlei, plottestlnoei])\n",
    "\n",
    "sns.lineplot(data=toplot, x=\"Decile\", y=\"Mean Error\", hue=\"Model\")\n"
   ]
  },
  {
   "cell_type": "code",
   "execution_count": 273,
   "id": "20c8c985",
   "metadata": {
    "pycharm": {
     "name": "#%%\n"
    }
   },
   "outputs": [
    {
     "data": {
      "text/plain": [
       "<Axes: xlabel='Decile', ylabel='Mean Error'>"
      ]
     },
     "execution_count": 273,
     "metadata": {},
     "output_type": "execute_result"
    },
    {
     "data": {
      "image/png": "[encoded data removed]",
      "text/plain": [
       "<Figure size 400x200 with 1 Axes>"
      ]
     },
     "metadata": {},
     "output_type": "display_data"
    }
   ],
   "source": [
    "plottest = datasets['noei']['test'].copy(deep=True)\n",
    "plottest['lei'] = preds_s_ei\n",
    "plottest['lnoei'] = preds_s_noei\n",
    "plottest['dec_lei'] = pd.qcut(plottest['lei'], q=10, labels=False)\n",
    "plottest['dec_lnoei'] = pd.qcut(plottest['lnoei'], q=10, labels=False)\n",
    "plottest['risk_lei'] = (plottest['lei'] - plottest['ClaimNb'])\n",
    "plottest['risk_lnoei'] = (plottest['lnoei'] - plottest['ClaimNb'])\n",
    "plottestlei = plottest.groupby('dec_lei', as_index=False)['risk_lei'].mean()\n",
    "plottestlnoei = plottest.groupby('dec_lnoei', as_index=False)['risk_lnoei'].mean()\n",
    "plottestlei.columns = ['Decile', 'Mean Error']\n",
    "plottestlei['Model'] = 'Incl. Expert Knowledge'\n",
    "plottestlnoei.columns = ['Decile', 'Mean Error']\n",
    "plottestlnoei['Model'] = 'Excl. Expert Knowledge'\n",
    "toplot = pd.concat([plottestlei, plottestlnoei])\n",
    "\n",
    "sns.lineplot(data=toplot, x=\"Decile\", y=\"Mean Error\", hue=\"Model\")"
   ]
  },
  {
   "cell_type": "code",
   "execution_count": 114,
   "id": "db4f9a73",
   "metadata": {
    "pycharm": {
     "name": "#%%\n"
    }
   },
   "outputs": [
    {
     "data": {
      "text/plain": [
       "[31.457299999999996, 31.5355, 35.8653, 31.4419, 37.214299999999994, 32.7136]"
      ]
     },
     "execution_count": 114,
     "metadata": {},
     "output_type": "execute_result"
    }
   ],
   "source": [
    "# devs, maes, rmses, ginis\n",
    "[\n",
    "    np.mean(x[0]) for x in bestmodels.values()\n",
    "]"
   ]
  },
  {
   "cell_type": "code",
   "execution_count": 89,
   "id": "1a185309",
   "metadata": {
    "pycharm": {
     "name": "#%%\n"
    }
   },
   "outputs": [
    {
     "name": "stderr",
     "output_type": "stream",
     "text": [
      "\n",
      "KeyboardInterrupt\n",
      "\n"
     ]
    }
   ],
   "source": [
    "#     gan_bootstraped(finalmodels['l_ei'], datasets['noei']['test'], BOOTSTRAPS),\n",
    "#     gan_bootstraped(finalmodels['l_noei'], datasets['noei']['test'], BOOTSTRAPS)"
   ]
  }
 ],
 "metadata": {
  "kernelspec": {
   "display_name": "Python 3 (ipykernel)",
   "language": "python",
   "name": "python3"
  },
  "language_info": {
   "codemirror_mode": {
    "name": "ipython",
    "version": 3
   },
   "file_extension": ".py",
   "mimetype": "text/x-python",
   "name": "python",
   "nbconvert_exporter": "python",
   "pygments_lexer": "ipython3",
   "version": "3.9.12"
  }
 },
 "nbformat": 4,
 "nbformat_minor": 5
}