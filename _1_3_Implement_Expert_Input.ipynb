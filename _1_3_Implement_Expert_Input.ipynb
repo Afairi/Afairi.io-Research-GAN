{
 "cells": [
  {
   "cell_type": "code",
   "execution_count": 55,
   "id": "ec773f71",
   "metadata": {},
   "outputs": [
    {
     "name": "stdout",
     "output_type": "stream",
     "text": [
      "The autoreload extension is already loaded. To reload it, use:\n",
      "  %reload_ext autoreload\n"
     ]
    }
   ],
   "source": [
    "from sklearn.ensemble import GradientBoostingClassifier\n",
    "from sklearn.ensemble import GradientBoostingRegressor\n",
    "import statsmodels.api as sm\n",
    "import statsmodels.formula.api as smf\n",
    "from sklearn.preprocessing import PolynomialFeatures\n",
    "import numpy as np\n",
    "from matplotlib import pyplot as plt\n",
    "import warnings\n",
    "import pandas as pd\n",
    "import numpy as np\n",
    "import matplotlib.pyplot as plt\n",
    "import seaborn as sns\n",
    "import math\n",
    "import statsmodels.api as sm\n",
    "import statsmodels.formula.api as smf\n",
    "import itertools\n",
    "import plotly.express as px \n",
    "from scipy import stats\n",
    "from copy import deepcopy\n",
    "from sklearn.model_selection import GroupShuffleSplit\n",
    "from sklearn.datasets import fetch_openml\n",
    "warnings.filterwarnings('ignore')\n",
    "\n",
    "from Functions import dataprep as prep\n",
    "from Functions import metrics\n",
    "from sklearn.datasets import fetch_openml\n",
    "import pandas as pd\n",
    "\n",
    "%load_ext autoreload\n",
    "%autoreload 2"
   ]
  },
  {
   "cell_type": "code",
   "execution_count": 56,
   "id": "e1d0177c",
   "metadata": {},
   "outputs": [],
   "source": [
    "train = pd.read_pickle('./data/common_dataprep/train.pickle')\n",
    "test = pd.read_pickle('./data/common_dataprep/test.pickle')"
   ]
  },
  {
   "cell_type": "code",
   "execution_count": 42,
   "id": "b0130269",
   "metadata": {},
   "outputs": [],
   "source": [
    "# Expert input from Isabella\n",
    "def build_predict(train, test, formula):\n",
    "    glm1 = smf.glm(formula=formula, data=train, family=sm.families.Poisson(link=sm.families.links.log()), offset=np.log(train['Exposure'])).fit()\n",
    "    preds_train = glm1.predict(train, offset=np.log(train['Exposure']))\n",
    "    preds_test = glm1.predict(test, offset=np.log(test['Exposure']))\n",
    "    \n",
    "    return preds_train, preds_test\n",
    "\n",
    "train['EI_Density'], test['EI_Density'] = build_predict(train, test, 'ClaimNb ~ Density') # GLM1, do not adjust\n",
    "\n",
    "train['EI_DrivAge'], test['EI_DrivAge'] = build_predict(train, test, 'ClaimNb ~ DrivAge + I(DrivAge**2) + I(DrivAge**3) + I(DrivAge**4) + I(DrivAge**5)') # GLM5, do not adjust\n",
    "\n",
    "train['EI_BonusMalus1'], test['EI_BonusMalus1'] = build_predict(train, test, 'ClaimNb ~ BonusMalus + I(BonusMalus**2)')\n",
    "\n",
    "bm_below_100 = train.loc[train['BonusMalus'] <= 100, 'BonusMalus'].mean()\n",
    "bm_above_100 = train.loc[train['BonusMalus'] > 100, 'BonusMalus'].mean()\n",
    "train.loc[train['BonusMalus'] <= 100, 'EI_BonusMalus2'] = bm_below_100\n",
    "test.loc[test['BonusMalus'] <= 100, 'EI_BonusMalus2'] = bm_below_100\n",
    "train.loc[train['BonusMalus'] > 100, 'EI_BonusMalus2'] = bm_above_100\n",
    "test.loc[test['BonusMalus'] > 100, 'EI_BonusMalus2'] = bm_above_100\n",
    "\n",
    "train['EI_VehAge'], test['EI_VehAge'] = build_predict(train, test, 'ClaimNb ~ VehAge + I(VehAge**2) + I(VehAge**3)')\n",
    "\n",
    "train.loc[train['VehAge'] <= 5, 'EI_VehAge'] = 0.05\n",
    "test.loc[test['VehAge'] <= 5, 'EI_VehAge'] = 0.05"
   ]
  },
  {
   "cell_type": "code",
   "execution_count": 43,
   "id": "7e570345",
   "metadata": {},
   "outputs": [],
   "source": [
    "# Expert Input from GDV\n",
    "\n",
    "# Vehicle Power\n",
    "for df in train, test:\n",
    "    df['GDV_Area'] = df['Area'].copy()\n",
    "    df['GDV_Area'] = df['GDV_Area'].replace('A', 38.5)\n",
    "    df['GDV_Area'] = df['GDV_Area'].replace('B', 41.5)\n",
    "    df['GDV_Area'] = df['GDV_Area'].replace('C', 43.5)\n",
    "    df['GDV_Area'] = df['GDV_Area'].replace('D', 46.5)\n",
    "    df['GDV_Area'] = df['GDV_Area'].replace('E', (49+55)/2)\n",
    "    df['GDV_Area'] = df['GDV_Area'].replace('F', (58+65)/2)\n",
    "\n",
    "    # Vehicle Age\n",
    "    df.loc[df['VehAge'] < 3, 'GDV_VehAge'] = 40\n",
    "    df.loc[df['VehAge'] == 3, 'GDV_VehAge'] = 44\n",
    "    df.loc[df['VehAge'].between(4, 5), 'GDV_VehAge'] = 46\n",
    "    df.loc[df['VehAge'].between(6, 7), 'GDV_VehAge'] = 49\n",
    "    df.loc[df['VehAge'] == 8, 'GDV_VehAge'] = 51\n",
    "    df.loc[df['VehAge'] == 9, 'GDV_VehAge'] = 53\n",
    "    df.loc[df['VehAge'].between(10, 11), 'GDV_VehAge'] = 57\n",
    "    df.loc[df['VehAge'] == 12, 'GDV_VehAge'] = 61\n",
    "    df.loc[df['VehAge'].between(13, 15), 'GDV_VehAge'] = 66\n",
    "    df.loc[df['VehAge'].between(16, 17), 'GDV_VehAge'] = 69\n",
    "    df.loc[df['VehAge'].between(18, 22), 'GDV_VehAge'] = 69\n",
    "    df.loc[df['VehAge'] >= 23, 'GDV_VehAge'] = 34\n",
    "\n",
    "    # Driver Age\n",
    "    df.loc[df['DrivAge'] <= 18, 'GDV_DrivAge'] = 97\n",
    "    df.loc[df['DrivAge'] == 19, 'GDV_DrivAge'] = 84\n",
    "    df.loc[df['DrivAge'] == 20, 'GDV_DrivAge'] = 75\n",
    "    df.loc[df['DrivAge'].between(21, 22), 'GDV_DrivAge'] = 67\n",
    "    df.loc[df['DrivAge'].between(23, 24), 'GDV_DrivAge'] = 59\n",
    "    df.loc[df['DrivAge'].between(25, 26), 'GDV_DrivAge'] = 67\n",
    "    df.loc[df['DrivAge'].between(27, 41), 'GDV_DrivAge'] = 47\n",
    "    df.loc[df['DrivAge'].between(42, 62), 'GDV_DrivAge'] = 37\n",
    "    df.loc[df['DrivAge'].between(63, 67), 'GDV_DrivAge'] = 37\n",
    "    df.loc[df['DrivAge'].between(68, 70), 'GDV_DrivAge'] = 40\n",
    "    df.loc[df['DrivAge'].between(71, 72), 'GDV_DrivAge'] = 44\n",
    "    df.loc[df['DrivAge'].between(73, 74), 'GDV_DrivAge'] = 48\n",
    "    df.loc[df['DrivAge'].between(75, 76), 'GDV_DrivAge'] = 54\n",
    "    df.loc[df['DrivAge'].between(77, 78), 'GDV_DrivAge'] = 58\n",
    "    df.loc[df['DrivAge'].between(79, 81), 'GDV_DrivAge'] = 63\n",
    "    df.loc[df['DrivAge'] >= 82, 'GDV_DrivAge'] = 74"
   ]
  },
  {
   "cell_type": "code",
   "execution_count": 44,
   "id": "6fa534f0",
   "metadata": {},
   "outputs": [],
   "source": [
    "train.to_pickle('./data/common_dataprep/train_with_ei.pickle')\n",
    "test.to_pickle('./data/common_dataprep/test_with_ei.pickle')"
   ]
  },
  {
   "cell_type": "code",
   "execution_count": null,
   "id": "778c8e10",
   "metadata": {},
   "outputs": [],
   "source": []
  }
 ],
 "metadata": {
  "kernelspec": {
   "display_name": "Python 3 (ipykernel)",
   "language": "python",
   "name": "python3"
  },
  "language_info": {
   "codemirror_mode": {
    "name": "ipython",
    "version": 3
   },
   "file_extension": ".py",
   "mimetype": "text/x-python",
   "name": "python",
   "nbconvert_exporter": "python",
   "pygments_lexer": "ipython3",
   "version": "3.9.12"
  }
 },
 "nbformat": 4,
 "nbformat_minor": 5
}
