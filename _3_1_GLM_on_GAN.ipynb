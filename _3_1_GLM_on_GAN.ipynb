{
 "cells": [
  {
   "cell_type": "code",
   "execution_count": 1,
   "metadata": {
    "collapsed": true,
    "pycharm": {
     "is_executing": true,
     "name": "#%%\n"
    },
    "ExecuteTime": {
     "end_time": "2023-05-09T21:06:11.003076100Z",
     "start_time": "2023-05-09T21:06:10.295218500Z"
    }
   },
   "outputs": [],
   "source": [
    "import pandas as pd"
   ]
  },
  {
   "cell_type": "code",
   "execution_count": null,
   "outputs": [],
   "source": [],
   "metadata": {
    "collapsed": false,
    "pycharm": {
     "name": "#%%\n"
    }
   }
  },
  {
   "cell_type": "code",
   "execution_count": null,
   "outputs": [],
   "source": [
    "df1 = pd.read_pickle('data/gan_generated/sample_no_ei.pickle')\n",
    "dftemp = pd.read_pickle('data/gan_dataprep/train_gan.pickle')"
   ],
   "metadata": {
    "collapsed": false,
    "pycharm": {
     "name": "#%%\n"
    }
   }
  },
  {
   "cell_type": "code",
   "execution_count": null,
   "outputs": [],
   "source": [
    "df1.columns = dftemp.columns"
   ],
   "metadata": {
    "collapsed": false,
    "pycharm": {
     "name": "#%%\n"
    }
   }
  },
  {
   "cell_type": "code",
   "execution_count": null,
   "outputs": [],
   "source": [
    "df1.head()"
   ],
   "metadata": {
    "collapsed": false,
    "pycharm": {
     "name": "#%%\n"
    }
   }
  },
  {
   "cell_type": "code",
   "execution_count": null,
   "outputs": [],
   "source": [
    "from Functions.MC_WGAN_GP.gan_scripts.undo_dummy import back_from_dummies\n",
    "\n",
    "back_from_dummies()"
   ],
   "metadata": {
    "collapsed": false,
    "pycharm": {
     "name": "#%%\n"
    }
   }
  },
  {
   "cell_type": "code",
   "execution_count": null,
   "outputs": [],
   "source": [
    "from Functions.original.utils.initialization import load_or_initialize\n",
    "from Functions.original.utils.commandline import parse_int_list\n",
    "from Functions.original.methods.general.generator import Generator\n",
    "\n",
    "\n",
    "generator = Generator(\n",
    "    128,\n",
    "    [\n",
    "    1, 1, 1, 1, 1, 1,\n",
    "    5, 11, 2, 22, 6\n",
    "  ],\n",
    "    hidden_sizes=parse_int_list(\"256,128\"),\n",
    "    bn_decay=0.9\n",
    ")\n",
    "\n",
    "load_or_initialize(generator, options.input_generator)"
   ],
   "metadata": {
    "collapsed": false,
    "pycharm": {
     "name": "#%%\n"
    }
   }
  },
  {
   "cell_type": "code",
   "execution_count": null,
   "outputs": [],
   "source": [
    "generator = Generator(\n",
    "    128,\n",
    "    [\n",
    "    1, 1, 1, 1, 1, 1,\n",
    "    5, 11, 2, 22, 6\n",
    "  ],\n",
    "    hidden_sizes=parse_int_list(\"256,128\"),\n",
    "    bn_decay=0.9\n",
    ")\n",
    "\n",
    "load_or_initialize(generator, options.input_generator)"
   ],
   "metadata": {
    "collapsed": false,
    "pycharm": {
     "name": "#%%\n"
    }
   }
  },
  {
   "cell_type": "code",
   "execution_count": 23,
   "outputs": [],
   "source": [
    "df1.columns = dftemp.columns"
   ],
   "metadata": {
    "collapsed": false,
    "ExecuteTime": {
     "end_time": "2023-05-09T22:05:08.587837400Z",
     "start_time": "2023-05-09T22:05:08.567590100Z"
    }
   }
  },
  {
   "cell_type": "code",
   "execution_count": 24,
   "outputs": [
    {
     "data": {
      "text/plain": "   VehPower    VehAge   DrivAge   Density  BonusMalus  Exposure  ClaimNb_0.0  \\\n0  0.096694  0.572989  0.288795  0.096326   -0.072200  0.730675          1.0   \n1  0.137488  0.301241  0.436719 -0.016751    0.187492  0.439164          1.0   \n2  0.435466  0.410859  0.078249  0.094271   -0.042933  0.565513          1.0   \n3  0.199931  0.466665  0.214707  0.011067   -0.042507  0.822183          1.0   \n4  0.213525  0.739755  0.278413  0.019686   -0.035398  0.799710          1.0   \n\n   ClaimNb_1.0  ClaimNb_2.0  ClaimNb_3.0  ...  Region_R83  Region_R91  \\\n0          0.0          0.0          0.0  ...         0.0         0.0   \n1          0.0          0.0          0.0  ...         0.0         0.0   \n2          0.0          0.0          0.0  ...         0.0         0.0   \n3          0.0          0.0          0.0  ...         0.0         0.0   \n4          0.0          0.0          0.0  ...         0.0         0.0   \n\n   Region_R93  Region_R94  Area_A  Area_B  Area_C  Area_D  Area_E  Area_F  \n0         0.0         0.0     1.0     0.0     0.0     0.0     0.0     0.0  \n1         0.0         0.0     1.0     0.0     0.0     0.0     0.0     0.0  \n2         0.0         0.0     0.0     0.0     0.0     1.0     0.0     0.0  \n3         0.0         0.0     0.0     0.0     1.0     0.0     0.0     0.0  \n4         0.0         0.0     0.0     0.0     0.0     1.0     0.0     0.0  \n\n[5 rows x 52 columns]",
      "text/html": "<div>\n<style scoped>\n    .dataframe tbody tr th:only-of-type {\n        vertical-align: middle;\n    }\n\n    .dataframe tbody tr th {\n        vertical-align: top;\n    }\n\n    .dataframe thead th {\n        text-align: right;\n    }\n</style>\n<table border=\"1\" class=\"dataframe\">\n  <thead>\n    <tr style=\"text-align: right;\">\n      <th></th>\n      <th>VehPower</th>\n      <th>VehAge</th>\n      <th>DrivAge</th>\n      <th>Density</th>\n      <th>BonusMalus</th>\n      <th>Exposure</th>\n      <th>ClaimNb_0.0</th>\n      <th>ClaimNb_1.0</th>\n      <th>ClaimNb_2.0</th>\n      <th>ClaimNb_3.0</th>\n      <th>...</th>\n      <th>Region_R83</th>\n      <th>Region_R91</th>\n      <th>Region_R93</th>\n      <th>Region_R94</th>\n      <th>Area_A</th>\n      <th>Area_B</th>\n      <th>Area_C</th>\n      <th>Area_D</th>\n      <th>Area_E</th>\n      <th>Area_F</th>\n    </tr>\n  </thead>\n  <tbody>\n    <tr>\n      <th>0</th>\n      <td>0.096694</td>\n      <td>0.572989</td>\n      <td>0.288795</td>\n      <td>0.096326</td>\n      <td>-0.072200</td>\n      <td>0.730675</td>\n      <td>1.0</td>\n      <td>0.0</td>\n      <td>0.0</td>\n      <td>0.0</td>\n      <td>...</td>\n      <td>0.0</td>\n      <td>0.0</td>\n      <td>0.0</td>\n      <td>0.0</td>\n      <td>1.0</td>\n      <td>0.0</td>\n      <td>0.0</td>\n      <td>0.0</td>\n      <td>0.0</td>\n      <td>0.0</td>\n    </tr>\n    <tr>\n      <th>1</th>\n      <td>0.137488</td>\n      <td>0.301241</td>\n      <td>0.436719</td>\n      <td>-0.016751</td>\n      <td>0.187492</td>\n      <td>0.439164</td>\n      <td>1.0</td>\n      <td>0.0</td>\n      <td>0.0</td>\n      <td>0.0</td>\n      <td>...</td>\n      <td>0.0</td>\n      <td>0.0</td>\n      <td>0.0</td>\n      <td>0.0</td>\n      <td>1.0</td>\n      <td>0.0</td>\n      <td>0.0</td>\n      <td>0.0</td>\n      <td>0.0</td>\n      <td>0.0</td>\n    </tr>\n    <tr>\n      <th>2</th>\n      <td>0.435466</td>\n      <td>0.410859</td>\n      <td>0.078249</td>\n      <td>0.094271</td>\n      <td>-0.042933</td>\n      <td>0.565513</td>\n      <td>1.0</td>\n      <td>0.0</td>\n      <td>0.0</td>\n      <td>0.0</td>\n      <td>...</td>\n      <td>0.0</td>\n      <td>0.0</td>\n      <td>0.0</td>\n      <td>0.0</td>\n      <td>0.0</td>\n      <td>0.0</td>\n      <td>0.0</td>\n      <td>1.0</td>\n      <td>0.0</td>\n      <td>0.0</td>\n    </tr>\n    <tr>\n      <th>3</th>\n      <td>0.199931</td>\n      <td>0.466665</td>\n      <td>0.214707</td>\n      <td>0.011067</td>\n      <td>-0.042507</td>\n      <td>0.822183</td>\n      <td>1.0</td>\n      <td>0.0</td>\n      <td>0.0</td>\n      <td>0.0</td>\n      <td>...</td>\n      <td>0.0</td>\n      <td>0.0</td>\n      <td>0.0</td>\n      <td>0.0</td>\n      <td>0.0</td>\n      <td>0.0</td>\n      <td>1.0</td>\n      <td>0.0</td>\n      <td>0.0</td>\n      <td>0.0</td>\n    </tr>\n    <tr>\n      <th>4</th>\n      <td>0.213525</td>\n      <td>0.739755</td>\n      <td>0.278413</td>\n      <td>0.019686</td>\n      <td>-0.035398</td>\n      <td>0.799710</td>\n      <td>1.0</td>\n      <td>0.0</td>\n      <td>0.0</td>\n      <td>0.0</td>\n      <td>...</td>\n      <td>0.0</td>\n      <td>0.0</td>\n      <td>0.0</td>\n      <td>0.0</td>\n      <td>0.0</td>\n      <td>0.0</td>\n      <td>0.0</td>\n      <td>1.0</td>\n      <td>0.0</td>\n      <td>0.0</td>\n    </tr>\n  </tbody>\n</table>\n<p>5 rows × 52 columns</p>\n</div>"
     },
     "execution_count": 24,
     "metadata": {},
     "output_type": "execute_result"
    }
   ],
   "source": [
    "df1.head()"
   ],
   "metadata": {
    "collapsed": false,
    "ExecuteTime": {
     "end_time": "2023-05-09T22:05:17.736274600Z",
     "start_time": "2023-05-09T22:05:17.709362Z"
    }
   }
  },
  {
   "cell_type": "code",
   "execution_count": 20,
   "outputs": [
    {
     "data": {
      "text/plain": "       VehPower    VehAge   DrivAge   Density  BonusMalus  Exposure  \\\n0      0.347992  0.802519  0.889336  0.069813    0.000000  0.926857   \n1      0.216057  0.271397  0.183678  0.223242    0.072488  0.207635   \n2      0.452105  0.254771  1.000000  0.176517    0.159603  0.626053   \n3      0.229670  0.300033  0.277653  0.075244    0.223903  0.000000   \n4      0.321461  0.158882  0.704959  0.263974    0.108172  0.719653   \n...         ...       ...       ...       ...         ...       ...   \n99995  0.268798  0.414172  0.706142  0.000000    0.097982  0.000000   \n99996  0.310518  0.563608  0.501110  0.051861    0.000000  1.000000   \n99997  0.344206  0.389364  0.480973  0.009861    0.000000  0.521101   \n99998  0.229657  0.097368  0.094925  0.000000    0.000000  0.088505   \n99999  0.390555  0.164874  0.394983  0.000000    0.184443  0.138600   \n\n       ClaimNb_0.0  ClaimNb_1.0  ClaimNb_2.0  ClaimNb_3.0  ...  Region_R83  \\\n0              1.0          0.0          0.0          0.0  ...         0.0   \n1              1.0          0.0          0.0          0.0  ...         0.0   \n2              1.0          0.0          0.0          0.0  ...         0.0   \n3              1.0          0.0          0.0          0.0  ...         0.0   \n4              1.0          0.0          0.0          0.0  ...         0.0   \n...            ...          ...          ...          ...  ...         ...   \n99995          1.0          0.0          0.0          0.0  ...         0.0   \n99996          1.0          0.0          0.0          0.0  ...         0.0   \n99997          1.0          0.0          0.0          0.0  ...         0.0   \n99998          1.0          0.0          0.0          0.0  ...         0.0   \n99999          1.0          0.0          0.0          0.0  ...         0.0   \n\n       Region_R91  Region_R93  Region_R94  Area_A  Area_B  Area_C  Area_D  \\\n0             0.0         0.0         0.0     0.0     0.0     0.0     0.0   \n1             0.0         0.0         0.0     0.0     0.0     0.0     0.0   \n2             0.0         0.0         0.0     0.0     0.0     1.0     0.0   \n3             0.0         0.0         0.0     0.0     0.0     0.0     0.0   \n4             0.0         0.0         0.0     0.0     0.0     0.0     0.0   \n...           ...         ...         ...     ...     ...     ...     ...   \n99995         1.0         0.0         0.0     0.0     0.0     1.0     0.0   \n99996         0.0         0.0         0.0     1.0     0.0     0.0     0.0   \n99997         0.0         1.0         0.0     0.0     0.0     0.0     1.0   \n99998         0.0         0.0         0.0     0.0     0.0     0.0     1.0   \n99999         0.0         0.0         0.0     0.0     0.0     1.0     0.0   \n\n       Area_E  Area_F  \n0         1.0     0.0  \n1         1.0     0.0  \n2         0.0     0.0  \n3         1.0     0.0  \n4         1.0     0.0  \n...       ...     ...  \n99995     0.0     0.0  \n99996     0.0     0.0  \n99997     0.0     0.0  \n99998     0.0     0.0  \n99999     0.0     0.0  \n\n[100000 rows x 52 columns]",
      "text/html": "<div>\n<style scoped>\n    .dataframe tbody tr th:only-of-type {\n        vertical-align: middle;\n    }\n\n    .dataframe tbody tr th {\n        vertical-align: top;\n    }\n\n    .dataframe thead th {\n        text-align: right;\n    }\n</style>\n<table border=\"1\" class=\"dataframe\">\n  <thead>\n    <tr style=\"text-align: right;\">\n      <th></th>\n      <th>VehPower</th>\n      <th>VehAge</th>\n      <th>DrivAge</th>\n      <th>Density</th>\n      <th>BonusMalus</th>\n      <th>Exposure</th>\n      <th>ClaimNb_0.0</th>\n      <th>ClaimNb_1.0</th>\n      <th>ClaimNb_2.0</th>\n      <th>ClaimNb_3.0</th>\n      <th>...</th>\n      <th>Region_R83</th>\n      <th>Region_R91</th>\n      <th>Region_R93</th>\n      <th>Region_R94</th>\n      <th>Area_A</th>\n      <th>Area_B</th>\n      <th>Area_C</th>\n      <th>Area_D</th>\n      <th>Area_E</th>\n      <th>Area_F</th>\n    </tr>\n  </thead>\n  <tbody>\n    <tr>\n      <th>0</th>\n      <td>0.347992</td>\n      <td>0.802519</td>\n      <td>0.889336</td>\n      <td>0.069813</td>\n      <td>0.000000</td>\n      <td>0.926857</td>\n      <td>1.0</td>\n      <td>0.0</td>\n      <td>0.0</td>\n      <td>0.0</td>\n      <td>...</td>\n      <td>0.0</td>\n      <td>0.0</td>\n      <td>0.0</td>\n      <td>0.0</td>\n      <td>0.0</td>\n      <td>0.0</td>\n      <td>0.0</td>\n      <td>0.0</td>\n      <td>1.0</td>\n      <td>0.0</td>\n    </tr>\n    <tr>\n      <th>1</th>\n      <td>0.216057</td>\n      <td>0.271397</td>\n      <td>0.183678</td>\n      <td>0.223242</td>\n      <td>0.072488</td>\n      <td>0.207635</td>\n      <td>1.0</td>\n      <td>0.0</td>\n      <td>0.0</td>\n      <td>0.0</td>\n      <td>...</td>\n      <td>0.0</td>\n      <td>0.0</td>\n      <td>0.0</td>\n      <td>0.0</td>\n      <td>0.0</td>\n      <td>0.0</td>\n      <td>0.0</td>\n      <td>0.0</td>\n      <td>1.0</td>\n      <td>0.0</td>\n    </tr>\n    <tr>\n      <th>2</th>\n      <td>0.452105</td>\n      <td>0.254771</td>\n      <td>1.000000</td>\n      <td>0.176517</td>\n      <td>0.159603</td>\n      <td>0.626053</td>\n      <td>1.0</td>\n      <td>0.0</td>\n      <td>0.0</td>\n      <td>0.0</td>\n      <td>...</td>\n      <td>0.0</td>\n      <td>0.0</td>\n      <td>0.0</td>\n      <td>0.0</td>\n      <td>0.0</td>\n      <td>0.0</td>\n      <td>1.0</td>\n      <td>0.0</td>\n      <td>0.0</td>\n      <td>0.0</td>\n    </tr>\n    <tr>\n      <th>3</th>\n      <td>0.229670</td>\n      <td>0.300033</td>\n      <td>0.277653</td>\n      <td>0.075244</td>\n      <td>0.223903</td>\n      <td>0.000000</td>\n      <td>1.0</td>\n      <td>0.0</td>\n      <td>0.0</td>\n      <td>0.0</td>\n      <td>...</td>\n      <td>0.0</td>\n      <td>0.0</td>\n      <td>0.0</td>\n      <td>0.0</td>\n      <td>0.0</td>\n      <td>0.0</td>\n      <td>0.0</td>\n      <td>0.0</td>\n      <td>1.0</td>\n      <td>0.0</td>\n    </tr>\n    <tr>\n      <th>4</th>\n      <td>0.321461</td>\n      <td>0.158882</td>\n      <td>0.704959</td>\n      <td>0.263974</td>\n      <td>0.108172</td>\n      <td>0.719653</td>\n      <td>1.0</td>\n      <td>0.0</td>\n      <td>0.0</td>\n      <td>0.0</td>\n      <td>...</td>\n      <td>0.0</td>\n      <td>0.0</td>\n      <td>0.0</td>\n      <td>0.0</td>\n      <td>0.0</td>\n      <td>0.0</td>\n      <td>0.0</td>\n      <td>0.0</td>\n      <td>1.0</td>\n      <td>0.0</td>\n    </tr>\n    <tr>\n      <th>...</th>\n      <td>...</td>\n      <td>...</td>\n      <td>...</td>\n      <td>...</td>\n      <td>...</td>\n      <td>...</td>\n      <td>...</td>\n      <td>...</td>\n      <td>...</td>\n      <td>...</td>\n      <td>...</td>\n      <td>...</td>\n      <td>...</td>\n      <td>...</td>\n      <td>...</td>\n      <td>...</td>\n      <td>...</td>\n      <td>...</td>\n      <td>...</td>\n      <td>...</td>\n      <td>...</td>\n    </tr>\n    <tr>\n      <th>99995</th>\n      <td>0.268798</td>\n      <td>0.414172</td>\n      <td>0.706142</td>\n      <td>0.000000</td>\n      <td>0.097982</td>\n      <td>0.000000</td>\n      <td>1.0</td>\n      <td>0.0</td>\n      <td>0.0</td>\n      <td>0.0</td>\n      <td>...</td>\n      <td>0.0</td>\n      <td>1.0</td>\n      <td>0.0</td>\n      <td>0.0</td>\n      <td>0.0</td>\n      <td>0.0</td>\n      <td>1.0</td>\n      <td>0.0</td>\n      <td>0.0</td>\n      <td>0.0</td>\n    </tr>\n    <tr>\n      <th>99996</th>\n      <td>0.310518</td>\n      <td>0.563608</td>\n      <td>0.501110</td>\n      <td>0.051861</td>\n      <td>0.000000</td>\n      <td>1.000000</td>\n      <td>1.0</td>\n      <td>0.0</td>\n      <td>0.0</td>\n      <td>0.0</td>\n      <td>...</td>\n      <td>0.0</td>\n      <td>0.0</td>\n      <td>0.0</td>\n      <td>0.0</td>\n      <td>1.0</td>\n      <td>0.0</td>\n      <td>0.0</td>\n      <td>0.0</td>\n      <td>0.0</td>\n      <td>0.0</td>\n    </tr>\n    <tr>\n      <th>99997</th>\n      <td>0.344206</td>\n      <td>0.389364</td>\n      <td>0.480973</td>\n      <td>0.009861</td>\n      <td>0.000000</td>\n      <td>0.521101</td>\n      <td>1.0</td>\n      <td>0.0</td>\n      <td>0.0</td>\n      <td>0.0</td>\n      <td>...</td>\n      <td>0.0</td>\n      <td>0.0</td>\n      <td>1.0</td>\n      <td>0.0</td>\n      <td>0.0</td>\n      <td>0.0</td>\n      <td>0.0</td>\n      <td>1.0</td>\n      <td>0.0</td>\n      <td>0.0</td>\n    </tr>\n    <tr>\n      <th>99998</th>\n      <td>0.229657</td>\n      <td>0.097368</td>\n      <td>0.094925</td>\n      <td>0.000000</td>\n      <td>0.000000</td>\n      <td>0.088505</td>\n      <td>1.0</td>\n      <td>0.0</td>\n      <td>0.0</td>\n      <td>0.0</td>\n      <td>...</td>\n      <td>0.0</td>\n      <td>0.0</td>\n      <td>0.0</td>\n      <td>0.0</td>\n      <td>0.0</td>\n      <td>0.0</td>\n      <td>0.0</td>\n      <td>1.0</td>\n      <td>0.0</td>\n      <td>0.0</td>\n    </tr>\n    <tr>\n      <th>99999</th>\n      <td>0.390555</td>\n      <td>0.164874</td>\n      <td>0.394983</td>\n      <td>0.000000</td>\n      <td>0.184443</td>\n      <td>0.138600</td>\n      <td>1.0</td>\n      <td>0.0</td>\n      <td>0.0</td>\n      <td>0.0</td>\n      <td>...</td>\n      <td>0.0</td>\n      <td>0.0</td>\n      <td>0.0</td>\n      <td>0.0</td>\n      <td>0.0</td>\n      <td>0.0</td>\n      <td>1.0</td>\n      <td>0.0</td>\n      <td>0.0</td>\n      <td>0.0</td>\n    </tr>\n  </tbody>\n</table>\n<p>100000 rows × 52 columns</p>\n</div>"
     },
     "execution_count": 20,
     "metadata": {},
     "output_type": "execute_result"
    }
   ],
   "source": [
    "from Functions.MC_WGAN_GP.gan_scripts.undo_dummy import back_from_dummies\n",
    "\n",
    "back_from_dummies()"
   ],
   "metadata": {
    "collapsed": false,
    "ExecuteTime": {
     "end_time": "2023-05-09T21:33:20.593539800Z",
     "start_time": "2023-05-09T21:33:20.545230200Z"
    }
   }
  },
  {
   "cell_type": "code",
   "execution_count": null,
   "outputs": [],
   "source": [
    "from Functions.original.utils.initialization import load_or_initialize\n",
    "from Functions.original.utils.commandline import parse_int_list\n",
    "from Functions.original.methods.general.generator import Generator\n",
    "\n",
    "\n",
    "generator = Generator(\n",
    "    128,\n",
    "    [\n",
    "    1, 1, 1, 1, 1, 1,\n",
    "    5, 11, 2, 22, 6\n",
    "  ],\n",
    "    hidden_sizes=parse_int_list(\"256,128\"),\n",
    "    bn_decay=0.9\n",
    ")\n",
    "\n",
    "load_or_initialize(generator, options.input_generator)"
   ],
   "metadata": {
    "collapsed": false,
    "pycharm": {
     "name": "#%%\n"
    }
   }
  },
  {
   "cell_type": "code",
   "execution_count": 2,
   "metadata": {},
   "outputs": [
    {
     "ename": "NameError",
     "evalue": "name 'Generator' is not defined",
     "output_type": "error",
     "traceback": [
      "\u001B[0;31m---------------------------------------------------------------------------\u001B[0m",
      "\u001B[0;31mNameError\u001B[0m                                 Traceback (most recent call last)",
      "Cell \u001B[0;32mIn[2], line 1\u001B[0m\n\u001B[0;32m----> 1\u001B[0m generator \u001B[38;5;241m=\u001B[39m \u001B[43mGenerator\u001B[49m(\n\u001B[1;32m      2\u001B[0m     \u001B[38;5;241m128\u001B[39m,\n\u001B[1;32m      3\u001B[0m     [\n\u001B[1;32m      4\u001B[0m     \u001B[38;5;241m1\u001B[39m, \u001B[38;5;241m1\u001B[39m, \u001B[38;5;241m1\u001B[39m, \u001B[38;5;241m1\u001B[39m, \u001B[38;5;241m1\u001B[39m, \u001B[38;5;241m1\u001B[39m,\n\u001B[1;32m      5\u001B[0m     \u001B[38;5;241m5\u001B[39m, \u001B[38;5;241m11\u001B[39m, \u001B[38;5;241m2\u001B[39m, \u001B[38;5;241m22\u001B[39m, \u001B[38;5;241m6\u001B[39m\n\u001B[1;32m      6\u001B[0m   ],\n\u001B[1;32m      7\u001B[0m     hidden_sizes\u001B[38;5;241m=\u001B[39mparse_int_list(\u001B[38;5;124m\"\u001B[39m\u001B[38;5;124m256,128\u001B[39m\u001B[38;5;124m\"\u001B[39m),\n\u001B[1;32m      8\u001B[0m     bn_decay\u001B[38;5;241m=\u001B[39m\u001B[38;5;241m0.9\u001B[39m\n\u001B[1;32m      9\u001B[0m )\n\u001B[1;32m     11\u001B[0m load_or_initialize(generator, options\u001B[38;5;241m.\u001B[39minput_generator)\n",
      "\u001B[0;31mNameError\u001B[0m: name 'Generator' is not defined"
     ]
    }
   ],
   "source": [
    "generator = Generator(\n",
    "    128,\n",
    "    [\n",
    "    1, 1, 1, 1, 1, 1,\n",
    "    5, 11, 2, 22, 6\n",
    "  ],\n",
    "    hidden_sizes=parse_int_list(\"256,128\"),\n",
    "    bn_decay=0.9\n",
    ")\n",
    "\n",
    "load_or_initialize(generator, options.input_generator)"
   ]
  }
 ],
 "metadata": {
  "kernelspec": {
   "display_name": "Python 3 (ipykernel)",
   "language": "python",
   "name": "python3"
  },
  "language_info": {
   "codemirror_mode": {
    "name": "ipython",
    "version": 3
   },
   "file_extension": ".py",
   "mimetype": "text/x-python",
   "name": "python",
   "nbconvert_exporter": "python",
   "pygments_lexer": "ipython3",
   "version": "3.9.12"
  }
 },
 "nbformat": 4,
 "nbformat_minor": 1
}