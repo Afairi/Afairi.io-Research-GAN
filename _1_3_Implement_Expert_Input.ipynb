{
 "cells": [
  {
   "cell_type": "code",
   "execution_count": 14,
   "id": "207afc02",
   "metadata": {
    "pycharm": {
     "name": "#%%\n"
    }
   },
   "outputs": [],
   "source": [
    "# Penalize generative model if regression chooses expert input over linear input\n",
    "# Compare to bootstrapping\n",
    "# adding expert information decreases the amount of data necessary\n",
    "\n",
    "# prior simulation\n",
    "\n"
   ]
  },
  {
   "cell_type": "code",
   "execution_count": 15,
   "id": "ec773f71",
   "metadata": {
    "pycharm": {
     "name": "#%%\n"
    }
   },
   "outputs": [
    {
     "name": "stdout",
     "output_type": "stream",
     "text": [
      "The autoreload extension is already loaded. To reload it, use:\n",
      "  %reload_ext autoreload\n"
     ]
    }
   ],
   "source": [
    "from sklearn.ensemble import GradientBoostingClassifier\n",
    "from sklearn.ensemble import GradientBoostingRegressor\n",
    "import statsmodels.api as sm\n",
    "import statsmodels.formula.api as smf\n",
    "from sklearn.preprocessing import PolynomialFeatures\n",
    "import numpy as np\n",
    "from matplotlib import pyplot as plt\n",
    "import warnings\n",
    "import pandas as pd\n",
    "import numpy as np\n",
    "import matplotlib.pyplot as plt\n",
    "import seaborn as sns\n",
    "import math\n",
    "import statsmodels.api as sm\n",
    "import statsmodels.formula.api as smf\n",
    "import itertools\n",
    "import plotly.express as px \n",
    "from scipy import stats\n",
    "from copy import deepcopy\n",
    "from sklearn.model_selection import GroupShuffleSplit\n",
    "from sklearn.datasets import fetch_openml\n",
    "warnings.filterwarnings('ignore')\n",
    "\n",
    "from Functions import dataprep as prep\n",
    "from Functions import metrics\n",
    "from sklearn.datasets import fetch_openml\n",
    "import pandas as pd\n",
    "\n",
    "%load_ext autoreload\n",
    "%autoreload 2"
   ]
  },
  {
   "cell_type": "code",
   "execution_count": 16,
   "id": "e1d0177c",
   "metadata": {
    "pycharm": {
     "name": "#%%\n"
    }
   },
   "outputs": [],
   "source": [
    "train = pd.read_pickle('./data/common_dataprep/train.pickle')\n",
    "test = pd.read_pickle('./data/common_dataprep/test.pickle')"
   ]
  },
  {
   "cell_type": "code",
   "execution_count": 17,
   "outputs": [
    {
     "data": {
      "text/plain": "0         5\n1         5\n2         6\n3         7\n4         7\n         ..\n678008    4\n678009    4\n678010    6\n678011    4\n678012    7\nName: VehPowerGLM, Length: 541832, dtype: int64"
     },
     "execution_count": 17,
     "metadata": {},
     "output_type": "execute_result"
    }
   ],
   "source": [
    "train['VehPowerGLM']\n"
   ],
   "metadata": {
    "collapsed": false,
    "pycharm": {
     "name": "#%%\n"
    }
   }
  },
  {
   "cell_type": "code",
   "execution_count": 18,
   "id": "b0130269",
   "metadata": {
    "pycharm": {
     "name": "#%%\n"
    }
   },
   "outputs": [],
   "source": [
    "# Expert input from Isabella\n",
    "def build_predict(train, test, formula):\n",
    "    glm1 = smf.glm(formula=formula, data=train, family=sm.families.Poisson(link=sm.families.links.log()), offset=np.log(train['Exposure'])).fit()\n",
    "    preds_train = glm1.predict(train, offset=np.log(train['Exposure']))\n",
    "    preds_test = glm1.predict(test, offset=np.log(test['Exposure']))\n",
    "    \n",
    "    return preds_train, preds_test\n",
    "\n",
    "train['EI_Density'], test['EI_Density'] = build_predict(train, test, 'ClaimNb ~ Density') # GLM1, do not adjust\n",
    "\n",
    "train['EI_DrivAge'], test['EI_DrivAge'] = build_predict(train, test, 'ClaimNb ~ DrivAge + I(DrivAge**2) + I(DrivAge**3) + I(DrivAge**4) + I(DrivAge**5)') # GLM5, do not adjust\n",
    "\n",
    "train['EI_BonusMalus1'], test['EI_BonusMalus1'] = build_predict(train, test, 'ClaimNb ~ BonusMalus + I(BonusMalus**2)')\n",
    "\n",
    "bm_below_100 = train.loc[train['BonusMalus'] <= 100, 'BonusMalus'].mean()\n",
    "bm_above_100 = train.loc[train['BonusMalus'] > 100, 'BonusMalus'].mean()\n",
    "train.loc[train['BonusMalus'] <= 100, 'EI_BonusMalus2'] = bm_below_100\n",
    "test.loc[test['BonusMalus'] <= 100, 'EI_BonusMalus2'] = bm_below_100\n",
    "train.loc[train['BonusMalus'] > 100, 'EI_BonusMalus2'] = bm_above_100\n",
    "test.loc[test['BonusMalus'] > 100, 'EI_BonusMalus2'] = bm_above_100\n",
    "\n",
    "train['EI_VehAge'], test['EI_VehAge'] = build_predict(train, test, 'ClaimNb ~ VehAge + I(VehAge**2) + I(VehAge**3)')\n",
    "\n",
    "train.loc[train['VehAge'] <= 5, 'EI_VehAge'] = 0.05\n",
    "test.loc[test['VehAge'] <= 5, 'EI_VehAge'] = 0.05\n",
    "\n"
   ]
  },
  {
   "cell_type": "code",
   "execution_count": 19,
   "id": "3c772a03",
   "metadata": {
    "pycharm": {
     "name": "#%%\n"
    }
   },
   "outputs": [
    {
     "data": {
      "text/plain": "   IDpol  ClaimNb  Exposure Area  VehPower  VehAge  DrivAge  BonusMalus   \n0    1.0        1      0.10    D         5       0       55        50.0  \\\n1    3.0        1      0.77    D         5       0       55        50.0   \n2    5.0        1      0.75    B         6       2       52        50.0   \n3   10.0        1      0.09    B         7       0       46        50.0   \n4   11.0        1      0.84    B         7       0       46        50.0   \n\n  VehBrand   VehGas  ...  BonusMalusGLM AreaGLM  VehPowerGLM  VehAgeGLM   \n0      B12  Regular  ...             50       4            5          1  \\\n1      B12  Regular  ...             50       4            5          1   \n2      B12   Diesel  ...             50       2            6          2   \n3      B12   Diesel  ...             50       2            7          1   \n4      B12   Diesel  ...             50       2            7          1   \n\n   DrivAgeGLM EI_Density  EI_DrivAge EI_BonusMalus1 EI_BonusMalus2  EI_VehAge  \n0           6   0.009941    0.009897       0.008153      59.079562       0.05  \n1           6   0.076546    0.076210       0.062776      59.079562       0.05  \n2           6   0.072648    0.075692       0.061146      59.079562       0.05  \n3           5   0.008722    0.009081       0.007337      59.079562       0.05  \n4           5   0.081406    0.084755       0.068483      59.079562       0.05  \n\n[5 rows x 24 columns]",
      "text/html": "<div>\n<style scoped>\n    .dataframe tbody tr th:only-of-type {\n        vertical-align: middle;\n    }\n\n    .dataframe tbody tr th {\n        vertical-align: top;\n    }\n\n    .dataframe thead th {\n        text-align: right;\n    }\n</style>\n<table border=\"1\" class=\"dataframe\">\n  <thead>\n    <tr style=\"text-align: right;\">\n      <th></th>\n      <th>IDpol</th>\n      <th>ClaimNb</th>\n      <th>Exposure</th>\n      <th>Area</th>\n      <th>VehPower</th>\n      <th>VehAge</th>\n      <th>DrivAge</th>\n      <th>BonusMalus</th>\n      <th>VehBrand</th>\n      <th>VehGas</th>\n      <th>...</th>\n      <th>BonusMalusGLM</th>\n      <th>AreaGLM</th>\n      <th>VehPowerGLM</th>\n      <th>VehAgeGLM</th>\n      <th>DrivAgeGLM</th>\n      <th>EI_Density</th>\n      <th>EI_DrivAge</th>\n      <th>EI_BonusMalus1</th>\n      <th>EI_BonusMalus2</th>\n      <th>EI_VehAge</th>\n    </tr>\n  </thead>\n  <tbody>\n    <tr>\n      <th>0</th>\n      <td>1.0</td>\n      <td>1</td>\n      <td>0.10</td>\n      <td>D</td>\n      <td>5</td>\n      <td>0</td>\n      <td>55</td>\n      <td>50.0</td>\n      <td>B12</td>\n      <td>Regular</td>\n      <td>...</td>\n      <td>50</td>\n      <td>4</td>\n      <td>5</td>\n      <td>1</td>\n      <td>6</td>\n      <td>0.009941</td>\n      <td>0.009897</td>\n      <td>0.008153</td>\n      <td>59.079562</td>\n      <td>0.05</td>\n    </tr>\n    <tr>\n      <th>1</th>\n      <td>3.0</td>\n      <td>1</td>\n      <td>0.77</td>\n      <td>D</td>\n      <td>5</td>\n      <td>0</td>\n      <td>55</td>\n      <td>50.0</td>\n      <td>B12</td>\n      <td>Regular</td>\n      <td>...</td>\n      <td>50</td>\n      <td>4</td>\n      <td>5</td>\n      <td>1</td>\n      <td>6</td>\n      <td>0.076546</td>\n      <td>0.076210</td>\n      <td>0.062776</td>\n      <td>59.079562</td>\n      <td>0.05</td>\n    </tr>\n    <tr>\n      <th>2</th>\n      <td>5.0</td>\n      <td>1</td>\n      <td>0.75</td>\n      <td>B</td>\n      <td>6</td>\n      <td>2</td>\n      <td>52</td>\n      <td>50.0</td>\n      <td>B12</td>\n      <td>Diesel</td>\n      <td>...</td>\n      <td>50</td>\n      <td>2</td>\n      <td>6</td>\n      <td>2</td>\n      <td>6</td>\n      <td>0.072648</td>\n      <td>0.075692</td>\n      <td>0.061146</td>\n      <td>59.079562</td>\n      <td>0.05</td>\n    </tr>\n    <tr>\n      <th>3</th>\n      <td>10.0</td>\n      <td>1</td>\n      <td>0.09</td>\n      <td>B</td>\n      <td>7</td>\n      <td>0</td>\n      <td>46</td>\n      <td>50.0</td>\n      <td>B12</td>\n      <td>Diesel</td>\n      <td>...</td>\n      <td>50</td>\n      <td>2</td>\n      <td>7</td>\n      <td>1</td>\n      <td>5</td>\n      <td>0.008722</td>\n      <td>0.009081</td>\n      <td>0.007337</td>\n      <td>59.079562</td>\n      <td>0.05</td>\n    </tr>\n    <tr>\n      <th>4</th>\n      <td>11.0</td>\n      <td>1</td>\n      <td>0.84</td>\n      <td>B</td>\n      <td>7</td>\n      <td>0</td>\n      <td>46</td>\n      <td>50.0</td>\n      <td>B12</td>\n      <td>Diesel</td>\n      <td>...</td>\n      <td>50</td>\n      <td>2</td>\n      <td>7</td>\n      <td>1</td>\n      <td>5</td>\n      <td>0.081406</td>\n      <td>0.084755</td>\n      <td>0.068483</td>\n      <td>59.079562</td>\n      <td>0.05</td>\n    </tr>\n  </tbody>\n</table>\n<p>5 rows × 24 columns</p>\n</div>"
     },
     "execution_count": 19,
     "metadata": {},
     "output_type": "execute_result"
    }
   ],
   "source": [
    "train.head()"
   ]
  },
  {
   "cell_type": "code",
   "execution_count": 20,
   "id": "3b89e96c",
   "metadata": {
    "pycharm": {
     "name": "#%%\n"
    }
   },
   "outputs": [
    {
     "data": {
      "text/plain": "count    541832.000000\nmean          0.053242\nstd           0.238359\nmin           0.000000\n25%           0.000000\n50%           0.000000\n75%           0.000000\nmax           4.000000\nName: ClaimNb, dtype: float64"
     },
     "execution_count": 20,
     "metadata": {},
     "output_type": "execute_result"
    }
   ],
   "source": [
    "train['ClaimNb'].describe()"
   ]
  },
  {
   "cell_type": "code",
   "execution_count": 21,
   "id": "7e570345",
   "metadata": {
    "pycharm": {
     "name": "#%%\n"
    }
   },
   "outputs": [],
   "source": [
    "# Expert Input from GDV\n",
    "\n",
    "# Vehicle Power\n",
    "for df in train, test:\n",
    "    df['GDV_Area'] = df['Area'].copy()\n",
    "    df['GDV_Area'] = df['GDV_Area'].replace('A', 38.5)\n",
    "    df['GDV_Area'] = df['GDV_Area'].replace('B', 41.5)\n",
    "    df['GDV_Area'] = df['GDV_Area'].replace('C', 43.5)\n",
    "    df['GDV_Area'] = df['GDV_Area'].replace('D', 46.5)\n",
    "    df['GDV_Area'] = df['GDV_Area'].replace('E', (49+55)/2)\n",
    "    df['GDV_Area'] = df['GDV_Area'].replace('F', (58+65)/2)\n",
    "\n",
    "    # Vehicle Age\n",
    "    df.loc[df['VehAge'] < 3, 'GDV_VehAge'] = 40\n",
    "    df.loc[df['VehAge'] == 3, 'GDV_VehAge'] = 44\n",
    "    df.loc[df['VehAge'].between(4, 5), 'GDV_VehAge'] = 46\n",
    "    df.loc[df['VehAge'].between(6, 7), 'GDV_VehAge'] = 49\n",
    "    df.loc[df['VehAge'] == 8, 'GDV_VehAge'] = 51\n",
    "    df.loc[df['VehAge'] == 9, 'GDV_VehAge'] = 53\n",
    "    df.loc[df['VehAge'].between(10, 11), 'GDV_VehAge'] = 57\n",
    "    df.loc[df['VehAge'] == 12, 'GDV_VehAge'] = 61\n",
    "    df.loc[df['VehAge'].between(13, 15), 'GDV_VehAge'] = 66\n",
    "    df.loc[df['VehAge'].between(16, 17), 'GDV_VehAge'] = 69\n",
    "    df.loc[df['VehAge'].between(18, 22), 'GDV_VehAge'] = 69\n",
    "    df.loc[df['VehAge'] >= 23, 'GDV_VehAge'] = 34\n",
    "\n",
    "    # Driver Age\n",
    "    df.loc[df['DrivAge'] <= 18, 'GDV_DrivAge'] = 97\n",
    "    df.loc[df['DrivAge'] == 19, 'GDV_DrivAge'] = 84\n",
    "    df.loc[df['DrivAge'] == 20, 'GDV_DrivAge'] = 75\n",
    "    df.loc[df['DrivAge'].between(21, 22), 'GDV_DrivAge'] = 67\n",
    "    df.loc[df['DrivAge'].between(23, 24), 'GDV_DrivAge'] = 59\n",
    "    df.loc[df['DrivAge'].between(25, 26), 'GDV_DrivAge'] = 67\n",
    "    df.loc[df['DrivAge'].between(27, 41), 'GDV_DrivAge'] = 47\n",
    "    df.loc[df['DrivAge'].between(42, 62), 'GDV_DrivAge'] = 37\n",
    "    df.loc[df['DrivAge'].between(63, 67), 'GDV_DrivAge'] = 37\n",
    "    df.loc[df['DrivAge'].between(68, 70), 'GDV_DrivAge'] = 40\n",
    "    df.loc[df['DrivAge'].between(71, 72), 'GDV_DrivAge'] = 44\n",
    "    df.loc[df['DrivAge'].between(73, 74), 'GDV_DrivAge'] = 48\n",
    "    df.loc[df['DrivAge'].between(75, 76), 'GDV_DrivAge'] = 54\n",
    "    df.loc[df['DrivAge'].between(77, 78), 'GDV_DrivAge'] = 58\n",
    "    df.loc[df['DrivAge'].between(79, 81), 'GDV_DrivAge'] = 63\n",
    "    df.loc[df['DrivAge'] >= 82, 'GDV_DrivAge'] = 74"
   ]
  },
  {
   "cell_type": "code",
   "execution_count": 21,
   "id": "4c839672",
   "metadata": {
    "pycharm": {
     "name": "#%%\n"
    }
   },
   "outputs": [],
   "source": []
  },
  {
   "cell_type": "code",
   "execution_count": 22,
   "id": "6fa534f0",
   "metadata": {
    "pycharm": {
     "name": "#%%\n"
    }
   },
   "outputs": [],
   "source": [
    "train.to_pickle('./data/common_dataprep/train_with_ei.pickle')\n",
    "test.to_pickle('./data/common_dataprep/test_with_ei.pickle')"
   ]
  },
  {
   "cell_type": "code",
   "execution_count": null,
   "id": "778c8e10",
   "metadata": {
    "pycharm": {
     "name": "#%%\n"
    }
   },
   "outputs": [],
   "source": []
  }
 ],
 "metadata": {
  "kernelspec": {
   "display_name": "Python 3 (ipykernel)",
   "language": "python",
   "name": "python3"
  },
  "language_info": {
   "codemirror_mode": {
    "name": "ipython",
    "version": 3
   },
   "file_extension": ".py",
   "mimetype": "text/x-python",
   "name": "python",
   "nbconvert_exporter": "python",
   "pygments_lexer": "ipython3",
   "version": "3.9.12"
  }
 },
 "nbformat": 4,
 "nbformat_minor": 5
}