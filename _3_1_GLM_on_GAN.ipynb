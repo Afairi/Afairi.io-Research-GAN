{
 "cells": [
  {
   "cell_type": "code",
   "execution_count": null,
   "metadata": {
    "collapsed": true,
    "pycharm": {
     "is_executing": true,
     "name": "#%%\n"
    }
   },
   "outputs": [],
   "source": [
    "import pandas as pd"
   ]
  },
  {
   "cell_type": "code",
   "execution_count": null,
   "outputs": [],
   "source": [
    "model = TheModelClass(*args, **kwargs)\n",
    "model.load_state_dict(torch.load(PATH))\n",
    "model.eval()"
   ],
   "metadata": {
    "collapsed": false,
    "pycharm": {
     "name": "#%%\n"
    }
   }
  },
  {
   "cell_type": "code",
   "execution_count": null,
   "outputs": [],
   "source": [
    "from Functions.original.utils.initialization import load_or_initialize\n",
    "from Functions.original.utils.commandline import parse_int_list\n",
    "from Functions.original.methods.general.generator import Generator\n",
    "\n",
    "\n",
    "generator = Generator(\n",
    "    128,\n",
    "    [\n",
    "    1, 1, 1, 1, 1, 1,\n",
    "    5, 11, 2, 22, 6\n",
    "  ],\n",
    "    hidden_sizes=parse_int_list(\"256,128\"),\n",
    "    bn_decay=0.9\n",
    ")\n",
    "\n",
    "load_or_initialize(generator, options.input_generator)"
   ],
   "metadata": {
    "collapsed": false,
    "pycharm": {
     "name": "#%%\n"
    }
   }
  },
  {
   "cell_type": "code",
   "execution_count": 2,
   "metadata": {},
   "outputs": [
    {
     "ename": "NameError",
     "evalue": "name 'Generator' is not defined",
     "output_type": "error",
     "traceback": [
      "\u001B[0;31m---------------------------------------------------------------------------\u001B[0m",
      "\u001B[0;31mNameError\u001B[0m                                 Traceback (most recent call last)",
      "Cell \u001B[0;32mIn[2], line 1\u001B[0m\n\u001B[0;32m----> 1\u001B[0m generator \u001B[38;5;241m=\u001B[39m \u001B[43mGenerator\u001B[49m(\n\u001B[1;32m      2\u001B[0m     \u001B[38;5;241m128\u001B[39m,\n\u001B[1;32m      3\u001B[0m     [\n\u001B[1;32m      4\u001B[0m     \u001B[38;5;241m1\u001B[39m, \u001B[38;5;241m1\u001B[39m, \u001B[38;5;241m1\u001B[39m, \u001B[38;5;241m1\u001B[39m, \u001B[38;5;241m1\u001B[39m, \u001B[38;5;241m1\u001B[39m,\n\u001B[1;32m      5\u001B[0m     \u001B[38;5;241m5\u001B[39m, \u001B[38;5;241m11\u001B[39m, \u001B[38;5;241m2\u001B[39m, \u001B[38;5;241m22\u001B[39m, \u001B[38;5;241m6\u001B[39m\n\u001B[1;32m      6\u001B[0m   ],\n\u001B[1;32m      7\u001B[0m     hidden_sizes\u001B[38;5;241m=\u001B[39mparse_int_list(\u001B[38;5;124m\"\u001B[39m\u001B[38;5;124m256,128\u001B[39m\u001B[38;5;124m\"\u001B[39m),\n\u001B[1;32m      8\u001B[0m     bn_decay\u001B[38;5;241m=\u001B[39m\u001B[38;5;241m0.9\u001B[39m\n\u001B[1;32m      9\u001B[0m )\n\u001B[1;32m     11\u001B[0m load_or_initialize(generator, options\u001B[38;5;241m.\u001B[39minput_generator)\n",
      "\u001B[0;31mNameError\u001B[0m: name 'Generator' is not defined"
     ]
    }
   ],
   "source": [
    "generator = Generator(\n",
    "    128,\n",
    "    [\n",
    "    1, 1, 1, 1, 1, 1,\n",
    "    5, 11, 2, 22, 6\n",
    "  ],\n",
    "    hidden_sizes=parse_int_list(\"256,128\"),\n",
    "    bn_decay=0.9\n",
    ")\n",
    "\n",
    "load_or_initialize(generator, options.input_generator)"
   ]
  }
 ],
 "metadata": {
  "kernelspec": {
   "display_name": "Python 3 (ipykernel)",
   "language": "python",
   "name": "python3"
  },
  "language_info": {
   "codemirror_mode": {
    "name": "ipython",
    "version": 3
   },
   "file_extension": ".py",
   "mimetype": "text/x-python",
   "name": "python",
   "nbconvert_exporter": "python",
   "pygments_lexer": "ipython3",
   "version": "3.9.12"
  }
 },
 "nbformat": 4,
 "nbformat_minor": 1
}