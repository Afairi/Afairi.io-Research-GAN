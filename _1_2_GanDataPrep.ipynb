{
 "cells": [
  {
   "cell_type": "code",
   "execution_count": 6,
   "id": "5e495102",
   "metadata": {},
   "outputs": [],
   "source": [
    "# -*- coding: utf-8 -*-\n",
    "\"\"\"\n",
    "This script runs the multi GAN and allows you to step through each part\n",
    "# divide y by exposure in xpxixpy\n",
    "\"\"\"\n",
    "\n",
    "import numpy as np\n",
    "# import modules\n",
    "import pandas as pd\n",
    "from sklearn import preprocessing\n",
    "\n",
    "pd.set_option('display.float_format', lambda x: '%.2f' % x)\n",
    "\n",
    "## Import created modules\n",
    "\n",
    "%load_ext autoreload\n",
    "%autoreload 2\n",
    "pd.set_option('display.max_columns', 999)"
   ]
  },
  {
   "cell_type": "code",
   "execution_count": 7,
   "id": "00cf754c",
   "metadata": {},
   "outputs": [],
   "source": [
    "policy1 = pd.read_pickle(\"./data/common_dataprep/train.pickle\")\n",
    "\n",
    "cont_vars = ['VehPower', \n",
    "                     'VehAge',\n",
    "                     'DrivAge',\n",
    "                     'DensityGLM',\n",
    "                     'BonusMalus',\n",
    "            'Exposure']\n",
    "cats_vars = [\"ClaimNb\",\n",
    "            'VehBrand',\n",
    "            'VehGas',\n",
    "            'Region',\n",
    "            \"AreaGLM\"]\n",
    "\n",
    "policy1[cont_vars] = policy1[cont_vars].astype(float)\n",
    "policy1[cats_vars] = policy1[cats_vars].astype('category')\n",
    "\n",
    "policy2 = pd.get_dummies(policy1[cont_vars + cats_vars])"
   ]
  },
  {
   "cell_type": "code",
   "execution_count": 8,
   "id": "080450a9",
   "metadata": {},
   "outputs": [],
   "source": [
    "policy3 = pd.DataFrame(preprocessing.StandardScaler().fit_transform(policy2), columns = policy2.columns)"
   ]
  },
  {
   "cell_type": "code",
   "execution_count": 9,
   "id": "cfc7c146",
   "metadata": {},
   "outputs": [],
   "source": [
    "# Take a sampel of the data for quickly training\n",
    "pol_dat  = policy3#.sample(n = 10000, random_state = 1)\n",
    "\n",
    "second_inds = np.arange(0,(pol_dat.shape[0]-1))\n",
    "val_inds = np.random.choice(second_inds, size=np.floor(pol_dat.shape[0]*.1).astype('int'), replace=False, p=None)\n",
    "train_inds = np.setdiff1d(second_inds, val_inds)\n",
    "\n",
    "val = pol_dat.iloc[val_inds]\n",
    "train = pol_dat.iloc[train_inds]\n"
   ]
  },
  {
   "cell_type": "code",
   "execution_count": 10,
   "id": "211e8be6",
   "metadata": {},
   "outputs": [],
   "source": [
    "train.to_pickle(\"./data/gan_dataprep/train_gan.pickle\")\n",
    "val.to_pickle(\"./data/gan_dataprep/val_gan.pickle\")\n"
   ]
  },
  {
   "cell_type": "code",
   "execution_count": null,
   "id": "da274473",
   "metadata": {},
   "outputs": [],
   "source": [
    "train"
   ]
  },
  {
   "cell_type": "code",
   "execution_count": null,
   "id": "95f4fc5f",
   "metadata": {},
   "outputs": [],
   "source": [
    "\n",
    "# # Wrangle train data\n",
    "# td = back_from_dummies(train_half)\n",
    "# td['ClaimNb'] = td['ClaimNb'].astype('int')\n",
    "# y_real, X_real = dmatrices('ClaimNb ~ CarAge + DriverAge + Power + Brand + Gas + Region + DensityCat',\n",
    "#                  data=td,\n",
    "#                  return_type='dataframe')\n",
    "# td['Exposure'] = td['ExposureCat'].astype('float32')/11\n",
    "# def xpxixpy(X,y):\n",
    "#             return np.dot(np.linalg.inv(np.dot(X.T,X)), np.dot(X.T,y))\n",
    "# xy = xpxixpy(X_real,y_real)\n",
    "\n",
    "\n",
    "# # Fit a poisson Model\n",
    "# poisson_mod = sm.GLM(y_real,X_real,family = sm.families.Poisson(), offset = td['Exposure']).fit()\n",
    "# original_params = poisson_mod.params\n",
    "\n",
    "# lower = poisson_mod.params - 1.96*poisson_mod.bse  \n",
    "# upper = poisson_mod.params + 1.96*poisson_mod.bse \n",
    "\n",
    "\n",
    "# # Fit a random forest\n",
    "# real_features= X_real\n",
    "# real_feature_list = list(real_features.columns)\n",
    "# real_features = np.array(real_features)\n",
    "# y_rep = np.squeeze(y_real)/np.squeeze(td['Exposure'])\n",
    "# rf = RandomForestRegressor(n_estimators = 1000, random_state = 42)\n",
    "# rf.fit(real_features, y_rep)\n",
    "\n",
    "# # Wrangle Test Data\n",
    "# test2 = back_from_dummies(test)\n",
    "# test2['ClaimNb'] = test2['ClaimNb'].astype('int')\n",
    "# y_test, X_test = dmatrices('ClaimNb ~ CarAge + DriverAge + Power + Brand + Gas + Region + DensityCat',\n",
    "#                  data=test2,\n",
    "#                  return_type='dataframe')\n",
    "# test2['Exposure'] = test2['ExposureCat'].astype('float32')/11\n",
    "# y_test_resp = np.squeeze(y_test)/np.squeeze(test2['Exposure'])\n",
    "\n",
    "\n",
    "# # make predictions on test data with models trained on train data\n",
    "# real_pois_preds = poisson_mod.predict(X_test)\n",
    "# real_predictions = rf.predict(X_test)\n",
    "# importances_real = rf.feature_importances_\n",
    "\n"
   ]
  },
  {
   "cell_type": "code",
   "execution_count": null,
   "id": "18a59d6c",
   "metadata": {},
   "outputs": [],
   "source": []
  }
 ],
 "metadata": {
  "kernelspec": {
   "display_name": "Python 3 (ipykernel)",
   "language": "python",
   "name": "python3"
  },
  "language_info": {
   "codemirror_mode": {
    "name": "ipython",
    "version": 3
   },
   "file_extension": ".py",
   "mimetype": "text/x-python",
   "name": "python",
   "nbconvert_exporter": "python",
   "pygments_lexer": "ipython3",
   "version": "3.8.1"
  },
  "pycharm": {
   "stem_cell": {
    "cell_type": "raw",
    "metadata": {
     "collapsed": false
    },
    "source": []
   }
  }
 },
 "nbformat": 4,
 "nbformat_minor": 5
}
