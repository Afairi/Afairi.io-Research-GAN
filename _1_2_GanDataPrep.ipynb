{
 "cells": [
  {
   "cell_type": "code",
   "execution_count": 1,
   "id": "5e495102",
   "metadata": {
    "pycharm": {
     "name": "#%%\n"
    },
    "ExecuteTime": {
     "end_time": "2023-05-09T16:13:37.840893200Z",
     "start_time": "2023-05-09T16:13:35.309727Z"
    }
   },
   "outputs": [],
   "source": [
    "# -*- coding: utf-8 -*-\n",
    "\"\"\"\n",
    "This script runs the multi GAN and allows you to step through each part\n",
    "# divide y by exposure in xpxixpy\n",
    "\"\"\"\n",
    "\n",
    "import numpy as np\n",
    "# import modules\n",
    "import pandas as pd\n",
    "from sklearn import preprocessing\n",
    "\n",
    "pd.set_option('display.float_format', lambda x: '%.2f' % x)\n",
    "\n",
    "## Import created modules\n",
    "\n",
    "%load_ext autoreload\n",
    "%autoreload 2\n",
    "pd.set_option('display.max_columns', 999)"
   ]
  },
  {
   "cell_type": "code",
   "execution_count": 2,
   "id": "00cf754c",
   "metadata": {
    "pycharm": {
     "name": "#%%\n"
    },
    "ExecuteTime": {
     "end_time": "2023-05-09T16:13:38.348590300Z",
     "start_time": "2023-05-09T16:13:37.840893200Z"
    }
   },
   "outputs": [],
   "source": [
    "policy1 = pd.read_pickle(\"./data/common_dataprep/train.pickle\")\n",
    "\n",
    "cont_vars = ['VehPower', \n",
    "                     'VehAge',\n",
    "                     'DrivAge',\n",
    "                     'Density',\n",
    "                     'BonusMalus',\n",
    "            'Exposure']\n",
    "cats_vars = [\"ClaimNb\",\n",
    "            'VehBrand',\n",
    "            'VehGas',\n",
    "            'Region',\n",
    "             'Area'\n",
    "            ]\n",
    "\n",
    "policy1[cont_vars] = policy1[cont_vars].astype(float)\n",
    "policy1[cats_vars] = policy1[cats_vars].astype('category')\n",
    "\n",
    "policy2 = pd.get_dummies(policy1[cont_vars + cats_vars])"
   ]
  },
  {
   "cell_type": "code",
   "execution_count": 3,
   "outputs": [],
   "source": [
    "ss = preprocessing.MinMaxScaler()\n",
    "policy3 = pd.DataFrame(ss.fit_transform(policy2), columns = policy2.columns)"
   ],
   "metadata": {
    "collapsed": false,
    "pycharm": {
     "name": "#%%\n"
    },
    "ExecuteTime": {
     "end_time": "2023-05-09T16:13:38.752872800Z",
     "start_time": "2023-05-09T16:13:38.348590300Z"
    }
   }
  },
  {
   "cell_type": "code",
   "execution_count": 4,
   "outputs": [],
   "source": [
    "assert len(policy3) == len(policy2), 'Lengths shouldnt differ'"
   ],
   "metadata": {
    "collapsed": false,
    "pycharm": {
     "name": "#%%\n"
    },
    "ExecuteTime": {
     "end_time": "2023-05-09T16:13:38.816229100Z",
     "start_time": "2023-05-09T16:13:38.752872800Z"
    }
   }
  },
  {
   "cell_type": "code",
   "execution_count": 5,
   "outputs": [],
   "source": [
    "# Take a sampel of the data for quickly training\n",
    "pol_dat  = policy3#.sample(n = 10000, random_state = 1)\n",
    "\n",
    "second_inds = np.arange(0,(pol_dat.shape[0]-1))\n",
    "val_inds = np.random.choice(second_inds, size=np.floor(pol_dat.shape[0]*.1).astype('int'), replace=False, p=None)\n",
    "train_inds = np.setdiff1d(second_inds, val_inds)\n",
    "\n",
    "val = pol_dat.iloc[val_inds]\n",
    "train = pol_dat.iloc[train_inds]\n"
   ],
   "metadata": {
    "collapsed": false,
    "pycharm": {
     "name": "#%%\n"
    },
    "ExecuteTime": {
     "end_time": "2023-05-09T16:13:39.021772Z",
     "start_time": "2023-05-09T16:13:38.816229100Z"
    }
   }
  },
  {
   "cell_type": "code",
   "execution_count": 6,
   "outputs": [],
   "source": [
    "assert policy3['Exposure'].isna().sum() == 0, 'There should not be any empty exposures'"
   ],
   "metadata": {
    "collapsed": false,
    "pycharm": {
     "name": "#%%\n"
    },
    "ExecuteTime": {
     "end_time": "2023-05-09T16:13:39.101202200Z",
     "start_time": "2023-05-09T16:13:39.028794Z"
    }
   }
  },
  {
   "cell_type": "code",
   "execution_count": 7,
   "outputs": [],
   "source": [
    "train.to_pickle(\"./data/gan_dataprep/train_gan.pickle\")\n",
    "val.to_pickle(\"./data/gan_dataprep/val_gan.pickle\")\n"
   ],
   "metadata": {
    "collapsed": false,
    "pycharm": {
     "name": "#%%\n"
    },
    "ExecuteTime": {
     "end_time": "2023-05-09T16:13:39.453534800Z",
     "start_time": "2023-05-09T16:13:39.101202200Z"
    }
   }
  },
  {
   "cell_type": "code",
   "execution_count": 8,
   "outputs": [
    {
     "data": {
      "text/plain": "['./data/gan_dataprep/scaler.pickle']"
     },
     "execution_count": 8,
     "metadata": {},
     "output_type": "execute_result"
    }
   ],
   "source": [
    "import joblib\n",
    "joblib.dump(ss, './data/gan_dataprep/scaler.pickle')\n"
   ],
   "metadata": {
    "collapsed": false,
    "pycharm": {
     "name": "#%%\n"
    },
    "ExecuteTime": {
     "end_time": "2023-05-09T16:13:39.532857400Z",
     "start_time": "2023-05-09T16:13:39.453534800Z"
    }
   }
  },
  {
   "cell_type": "code",
   "execution_count": 9,
   "id": "95f4fc5f",
   "metadata": {
    "pycharm": {
     "name": "#%%\n"
    }
   },
   "outputs": [],
   "source": [
    "\n",
    "# # Wrangle train data\n",
    "# td = back_from_dummies(train_half)\n",
    "# td['ClaimNb'] = td['ClaimNb'].astype('int')\n",
    "# y_real, X_real = dmatrices('ClaimNb ~ CarAge + DriverAge + Power + Brand + Gas + Region + DensityCat',\n",
    "#                  data=td,\n",
    "#                  return_type='dataframe')\n",
    "# td['Exposure'] = td['ExposureCat'].astype('float32')/11\n",
    "# def xpxixpy(X,y):\n",
    "#             return np.dot(np.linalg.inv(np.dot(X.T,X)), np.dot(X.T,y))\n",
    "# xy = xpxixpy(X_real,y_real)\n",
    "\n",
    "\n",
    "# # Fit a poisson Model\n",
    "# poisson_mod = sm.GLM(y_real,X_real,family = sm.families.Poisson(), offset = td['Exposure']).fit()\n",
    "# original_params = poisson_mod.params\n",
    "\n",
    "# lower = poisson_mod.params - 1.96*poisson_mod.bse  \n",
    "# upper = poisson_mod.params + 1.96*poisson_mod.bse \n",
    "\n",
    "\n",
    "# # Fit a random forest\n",
    "# real_features= X_real\n",
    "# real_feature_list = list(real_features.columns)\n",
    "# real_features = np.array(real_features)\n",
    "# y_rep = np.squeeze(y_real)/np.squeeze(td['Exposure'])\n",
    "# rf = RandomForestRegressor(n_estimators = 1000, random_state = 42)\n",
    "# rf.fit(real_features, y_rep)\n",
    "\n",
    "# # Wrangle Test Data\n",
    "# test2 = back_from_dummies(test)\n",
    "# test2['ClaimNb'] = test2['ClaimNb'].astype('int')\n",
    "# y_test, X_test = dmatrices('ClaimNb ~ CarAge + DriverAge + Power + Brand + Gas + Region + DensityCat',\n",
    "#                  data=test2,\n",
    "#                  return_type='dataframe')\n",
    "# test2['Exposure'] = test2['ExposureCat'].astype('float32')/11\n",
    "# y_test_resp = np.squeeze(y_test)/np.squeeze(test2['Exposure'])\n",
    "\n",
    "\n",
    "# # make predictions on test data with models trained on train data\n",
    "# real_pois_preds = poisson_mod.predict(X_test)\n",
    "# real_predictions = rf.predict(X_test)\n",
    "# importances_real = rf.feature_importances_\n",
    "\n"
   ]
  },
  {
   "cell_type": "code",
   "execution_count": null,
   "id": "18a59d6c",
   "metadata": {
    "pycharm": {
     "name": "#%%\n"
    }
   },
   "outputs": [],
   "source": []
  }
 ],
 "metadata": {
  "kernelspec": {
   "display_name": "Python 3 (ipykernel)",
   "language": "python",
   "name": "python3"
  },
  "language_info": {
   "codemirror_mode": {
    "name": "ipython",
    "version": 3
   },
   "file_extension": ".py",
   "mimetype": "text/x-python",
   "name": "python",
   "nbconvert_exporter": "python",
   "pygments_lexer": "ipython3",
   "version": "3.9.12"
  },
  "pycharm": {
   "stem_cell": {
    "cell_type": "raw",
    "metadata": {
     "collapsed": false
    },
    "source": []
   }
  }
 },
 "nbformat": 4,
 "nbformat_minor": 5
}
