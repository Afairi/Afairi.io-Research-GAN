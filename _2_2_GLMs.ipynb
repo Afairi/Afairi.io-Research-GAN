{
 "cells": [
  {
   "cell_type": "code",
   "execution_count": 25,
   "id": "b2a509d4",
   "metadata": {
    "pycharm": {
     "name": "#%%\n"
    }
   },
   "outputs": [],
   "source": [
    "import pandas as pd\n",
    "import joblib\n",
    "\n",
    "from Functions.original.utils.categorical import load_variable_sizes_from_metadata\n",
    "import config.config as cc\n",
    "from Functions.original.methods.general.generator import Generator\n",
    "import torch.nn as nn\n",
    "import torch\n",
    "\n",
    "from sampler import sample"
   ]
  },
  {
   "cell_type": "code",
   "execution_count": 13,
   "id": "10f56a60",
   "metadata": {},
   "outputs": [],
   "source": [
    "cc.continuous_activation = nn.LeakyReLU"
   ]
  },
  {
   "cell_type": "code",
   "execution_count": 29,
   "id": "93996a7f",
   "metadata": {
    "pycharm": {
     "name": "#%%\n"
    }
   },
   "outputs": [],
   "source": [
    "model = Generator(\n",
    "    60,\n",
    "    load_variable_sizes_from_metadata(cc.metadata),\n",
    "    hidden_sizes=[100,100,100],\n",
    "    bn_decay=0.9\n",
    ")"
   ]
  },
  {
   "cell_type": "code",
   "execution_count": 30,
   "id": "c00896df",
   "metadata": {
    "pycharm": {
     "name": "#%%\n"
    }
   },
   "outputs": [
    {
     "data": {
      "text/plain": [
       "<All keys matched successfully>"
      ]
     },
     "execution_count": 30,
     "metadata": {},
     "output_type": "execute_result"
    }
   ],
   "source": [
    "model.load_state_dict(torch.load('./data/generators/generator_20230521.pt', map_location=lambda storage, loc: storage))"
   ]
  },
  {
   "cell_type": "code",
   "execution_count": null,
   "id": "cdbae309",
   "metadata": {
    "pycharm": {
     "name": "#%%\n"
    }
   },
   "outputs": [],
   "source": [
    "train = pd.read_pickle('./data/common_dataprep/train_with_ei.pickle')\n",
    "test = pd.read_pickle('./data/common_dataprep/test_with_ei.pickle')"
   ]
  },
  {
   "cell_type": "code",
   "execution_count": null,
   "id": "c02b9953",
   "metadata": {
    "pycharm": {
     "name": "#%%\n"
    }
   },
   "outputs": [],
   "source": [
    "def make_glms(train, test, base_formula = ''):\n",
    "    # No Input\n",
    "    formula0 = \"ClaimNb ~ 1\"\n",
    "    formula1 = f\"ClaimNb ~ {base_formula}  VehPowerGLM + C(VehAgeGLM, Treatment(reference=2)) + C(DrivAgeGLM, Treatment(reference=5)) + BonusMalusGLM + VehGas + DensityGLM + C(Region, Treatment(reference='R24'))\"\n",
    "    formula2 = f\"{formula1} + VehBrand\"\n",
    "    formula3 = f\"{formula2} + AreaGLM\"\n",
    "\n",
    "    formulas = [formula0, formula1, formula2, formula3]\n",
    "    devs = []\n",
    "    \n",
    "    for formulaa in formulas:\n",
    "        glm0 = smf.glm(formula=formulaa, data=train, family=sm.families.Poisson(link=sm.families.links.log()), offset=np.log(train['Exposure'])).fit()\n",
    "        devs += [metrics.poisson_deviance(glm0.predict(test, offset=np.log(test['Exposure'])), test['ClaimNb'])]\n",
    "    \n",
    "    assert min(devs) != devs[0], f'Issue with metrics: {dev}; random model predicts best?!'\n",
    "    return min(devs)\n",
    "    "
   ]
  },
  {
   "cell_type": "code",
   "execution_count": null,
   "id": "d4e3d8aa",
   "metadata": {
    "pycharm": {
     "name": "#%%\n"
    }
   },
   "outputs": [],
   "source": [
    "print(\n",
    "    \n",
    "    make_glms(train, test),\n",
    "    make_glms(train, test, base_formula = 'EI_Density + EI_DrivAge + EI_BonusMalus1 + EI_BonusMalus2 + EI_VehAge +'),\n",
    "    make_glms(train, test, base_formula = 'GDV_Area + GDV_VehAge + GDV_DrivAge + '),\n",
    "    make_glms(train, test, base_formula = 'GDV_Area + GDV_VehAge + GDV_DrivAge + EI_Density + EI_DrivAge + EI_BonusMalus1 + EI_BonusMalus2 + EI_VehAge +')\n",
    ")"
   ]
  },
  {
   "cell_type": "code",
   "execution_count": null,
   "outputs": [],
   "source": [
    "train_gan = sample(\n",
    "    generator,\n",
    "    cc.num_samples,\n",
    "    cc.num_features,\n",
    "    batch_size=500000,\n",
    "    noise_size=60\n",
    ")\n",
    "train_gan = pd.DataFrame(train_gan)\n"
   ],
   "metadata": {
    "collapsed": false,
    "pycharm": {
     "name": "#%%\n"
    }
   }
  },
  {
   "cell_type": "code",
   "execution_count": null,
   "outputs": [],
   "source": [
    "import joblib\n",
    "specific = joblib.load('specific_transformer.pkl')"
   ],
   "metadata": {
    "collapsed": false,
    "pycharm": {
     "name": "#%%\n"
    }
   }
  },
  {
   "cell_type": "code",
   "execution_count": null,
   "outputs": [],
   "source": [],
   "metadata": {
    "collapsed": false,
    "pycharm": {
     "name": "#%%\n"
    }
   }
  },
  {
   "cell_type": "code",
   "execution_count": null,
   "outputs": [],
   "source": [
    "train1 = specific.inverse_transform(train1, verbose=True)\n"
   ],
   "metadata": {
    "collapsed": false,
    "pycharm": {
     "name": "#%%\n"
    }
   }
  },
  {
   "cell_type": "code",
   "execution_count": 43,
   "id": "3da8012f",
   "metadata": {},
   "outputs": [
    {
     "data": {
      "text/plain": [
       "array(['VehPower', 'VehAge', 'DrivAge', 'Density', 'BonusMalus',\n",
       "       'Exposure', 'EI_Density', 'EI_DrivAge', 'EI_BonusMalus1',\n",
       "       'EI_BonusMalus2', 'EI_VehAge', 'GDV_Area', 'GDV_VehAge',\n",
       "       'GDV_DrivAge', 'VehBrand_B1', 'VehBrand_B10', 'VehBrand_B11',\n",
       "       'VehBrand_B12', 'VehBrand_B13', 'VehBrand_B14', 'VehBrand_B2',\n",
       "       'VehBrand_B3', 'VehBrand_B4', 'VehBrand_B5', 'VehBrand_B6',\n",
       "       'VehGas_Diesel', 'VehGas_Regular', 'Region_R11', 'Region_R21',\n",
       "       'Region_R22', 'Region_R23', 'Region_R24', 'Region_R25',\n",
       "       'Region_R26', 'Region_R31', 'Region_R41', 'Region_R42',\n",
       "       'Region_R43', 'Region_R52', 'Region_R53', 'Region_R54',\n",
       "       'Region_R72', 'Region_R73', 'Region_R74', 'Region_R82',\n",
       "       'Region_R83', 'Region_R91', 'Region_R93', 'Region_R94', 'Area_1',\n",
       "       'Area_2', 'Area_3', 'Area_4', 'Area_5', 'Area_6', 'ClaimNb_0.0',\n",
       "       'ClaimNb_1.0', 'ClaimNb_2.0', 'ClaimNb_3.0', 'ClaimNb_4.0'],\n",
       "      dtype=object)"
      ]
     },
     "execution_count": 43,
     "metadata": {},
     "output_type": "execute_result"
    }
   ],
   "source": []
  },
  {
   "cell_type": "code",
   "execution_count": 37,
   "id": "2cf8acc8",
   "metadata": {},
   "outputs": [
    {
     "ename": "NameError",
     "evalue": "name 'specific' is not defined",
     "output_type": "error",
     "traceback": [
      "\u001B[0;31m---------------------------------------------------------------------------\u001B[0m",
      "\u001B[0;31mNameError\u001B[0m                                 Traceback (most recent call last)",
      "Cell \u001B[0;32mIn[37], line 1\u001B[0m\n\u001B[0;32m----> 1\u001B[0m train1 \u001B[38;5;241m=\u001B[39m \u001B[43mspecific\u001B[49m\u001B[38;5;241m.\u001B[39minverse_transform(train1, verbose\u001B[38;5;241m=\u001B[39m\u001B[38;5;28;01mTrue\u001B[39;00m)\n",
      "\u001B[0;31mNameError\u001B[0m: name 'specific' is not defined"
     ]
    }
   ],
   "source": [
    "train1 = specific.inverse_transform(train1, verbose=True)\n"
   ]
  },
  {
   "cell_type": "code",
   "execution_count": 34,
   "id": "82000458",
   "metadata": {},
   "outputs": [
    {
     "data": {
      "text/html": [
       "<div>\n",
       "<style scoped>\n",
       "    .dataframe tbody tr th:only-of-type {\n",
       "        vertical-align: middle;\n",
       "    }\n",
       "\n",
       "    .dataframe tbody tr th {\n",
       "        vertical-align: top;\n",
       "    }\n",
       "\n",
       "    .dataframe thead th {\n",
       "        text-align: right;\n",
       "    }\n",
       "</style>\n",
       "<table border=\"1\" class=\"dataframe\">\n",
       "  <thead>\n",
       "    <tr style=\"text-align: right;\">\n",
       "      <th></th>\n",
       "      <th>IDpol</th>\n",
       "      <th>ClaimNb</th>\n",
       "      <th>Exposure</th>\n",
       "      <th>Area</th>\n",
       "      <th>VehPower</th>\n",
       "      <th>VehAge</th>\n",
       "      <th>DrivAge</th>\n",
       "      <th>BonusMalus</th>\n",
       "      <th>VehBrand</th>\n",
       "      <th>VehGas</th>\n",
       "      <th>...</th>\n",
       "      <th>VehAgeGLM</th>\n",
       "      <th>DrivAgeGLM</th>\n",
       "      <th>EI_Density</th>\n",
       "      <th>EI_DrivAge</th>\n",
       "      <th>EI_BonusMalus1</th>\n",
       "      <th>EI_BonusMalus2</th>\n",
       "      <th>EI_VehAge</th>\n",
       "      <th>GDV_Area</th>\n",
       "      <th>GDV_VehAge</th>\n",
       "      <th>GDV_DrivAge</th>\n",
       "    </tr>\n",
       "  </thead>\n",
       "  <tbody>\n",
       "    <tr>\n",
       "      <th>5</th>\n",
       "      <td>13.0</td>\n",
       "      <td>1</td>\n",
       "      <td>0.520000</td>\n",
       "      <td>E</td>\n",
       "      <td>6</td>\n",
       "      <td>2</td>\n",
       "      <td>38</td>\n",
       "      <td>50.0</td>\n",
       "      <td>B12</td>\n",
       "      <td>Regular</td>\n",
       "      <td>...</td>\n",
       "      <td>2</td>\n",
       "      <td>4</td>\n",
       "      <td>0.053795</td>\n",
       "      <td>0.048885</td>\n",
       "      <td>0.042394</td>\n",
       "      <td>59.079562</td>\n",
       "      <td>0.05</td>\n",
       "      <td>52.0</td>\n",
       "      <td>40.0</td>\n",
       "      <td>47.0</td>\n",
       "    </tr>\n",
       "    <tr>\n",
       "      <th>6</th>\n",
       "      <td>15.0</td>\n",
       "      <td>1</td>\n",
       "      <td>0.450000</td>\n",
       "      <td>E</td>\n",
       "      <td>6</td>\n",
       "      <td>2</td>\n",
       "      <td>38</td>\n",
       "      <td>50.0</td>\n",
       "      <td>B12</td>\n",
       "      <td>Regular</td>\n",
       "      <td>...</td>\n",
       "      <td>2</td>\n",
       "      <td>4</td>\n",
       "      <td>0.046554</td>\n",
       "      <td>0.042305</td>\n",
       "      <td>0.036687</td>\n",
       "      <td>59.079562</td>\n",
       "      <td>0.05</td>\n",
       "      <td>52.0</td>\n",
       "      <td>40.0</td>\n",
       "      <td>47.0</td>\n",
       "    </tr>\n",
       "    <tr>\n",
       "      <th>13</th>\n",
       "      <td>32.0</td>\n",
       "      <td>1</td>\n",
       "      <td>0.050000</td>\n",
       "      <td>D</td>\n",
       "      <td>4</td>\n",
       "      <td>0</td>\n",
       "      <td>27</td>\n",
       "      <td>90.0</td>\n",
       "      <td>B12</td>\n",
       "      <td>Regular</td>\n",
       "      <td>...</td>\n",
       "      <td>1</td>\n",
       "      <td>3</td>\n",
       "      <td>0.004913</td>\n",
       "      <td>0.005459</td>\n",
       "      <td>0.009198</td>\n",
       "      <td>59.079562</td>\n",
       "      <td>0.05</td>\n",
       "      <td>46.5</td>\n",
       "      <td>40.0</td>\n",
       "      <td>47.0</td>\n",
       "    </tr>\n",
       "    <tr>\n",
       "      <th>21</th>\n",
       "      <td>49.0</td>\n",
       "      <td>2</td>\n",
       "      <td>0.810000</td>\n",
       "      <td>E</td>\n",
       "      <td>7</td>\n",
       "      <td>0</td>\n",
       "      <td>73</td>\n",
       "      <td>50.0</td>\n",
       "      <td>B12</td>\n",
       "      <td>Regular</td>\n",
       "      <td>...</td>\n",
       "      <td>1</td>\n",
       "      <td>7</td>\n",
       "      <td>0.084386</td>\n",
       "      <td>0.073732</td>\n",
       "      <td>0.066037</td>\n",
       "      <td>59.079562</td>\n",
       "      <td>0.05</td>\n",
       "      <td>52.0</td>\n",
       "      <td>40.0</td>\n",
       "      <td>48.0</td>\n",
       "    </tr>\n",
       "    <tr>\n",
       "      <th>22</th>\n",
       "      <td>50.0</td>\n",
       "      <td>1</td>\n",
       "      <td>0.060000</td>\n",
       "      <td>E</td>\n",
       "      <td>7</td>\n",
       "      <td>0</td>\n",
       "      <td>73</td>\n",
       "      <td>50.0</td>\n",
       "      <td>B12</td>\n",
       "      <td>Regular</td>\n",
       "      <td>...</td>\n",
       "      <td>1</td>\n",
       "      <td>7</td>\n",
       "      <td>0.006251</td>\n",
       "      <td>0.005462</td>\n",
       "      <td>0.004892</td>\n",
       "      <td>59.079562</td>\n",
       "      <td>0.05</td>\n",
       "      <td>52.0</td>\n",
       "      <td>40.0</td>\n",
       "      <td>48.0</td>\n",
       "    </tr>\n",
       "    <tr>\n",
       "      <th>...</th>\n",
       "      <td>...</td>\n",
       "      <td>...</td>\n",
       "      <td>...</td>\n",
       "      <td>...</td>\n",
       "      <td>...</td>\n",
       "      <td>...</td>\n",
       "      <td>...</td>\n",
       "      <td>...</td>\n",
       "      <td>...</td>\n",
       "      <td>...</td>\n",
       "      <td>...</td>\n",
       "      <td>...</td>\n",
       "      <td>...</td>\n",
       "      <td>...</td>\n",
       "      <td>...</td>\n",
       "      <td>...</td>\n",
       "      <td>...</td>\n",
       "      <td>...</td>\n",
       "      <td>...</td>\n",
       "      <td>...</td>\n",
       "      <td>...</td>\n",
       "    </tr>\n",
       "    <tr>\n",
       "      <th>677984</th>\n",
       "      <td>6114302.0</td>\n",
       "      <td>0</td>\n",
       "      <td>0.010000</td>\n",
       "      <td>C</td>\n",
       "      <td>10</td>\n",
       "      <td>5</td>\n",
       "      <td>37</td>\n",
       "      <td>50.0</td>\n",
       "      <td>B12</td>\n",
       "      <td>Regular</td>\n",
       "      <td>...</td>\n",
       "      <td>2</td>\n",
       "      <td>4</td>\n",
       "      <td>0.000971</td>\n",
       "      <td>0.000932</td>\n",
       "      <td>0.000815</td>\n",
       "      <td>59.079562</td>\n",
       "      <td>0.05</td>\n",
       "      <td>43.5</td>\n",
       "      <td>46.0</td>\n",
       "      <td>47.0</td>\n",
       "    </tr>\n",
       "    <tr>\n",
       "      <th>677989</th>\n",
       "      <td>6114307.0</td>\n",
       "      <td>0</td>\n",
       "      <td>0.008219</td>\n",
       "      <td>D</td>\n",
       "      <td>10</td>\n",
       "      <td>2</td>\n",
       "      <td>41</td>\n",
       "      <td>50.0</td>\n",
       "      <td>B12</td>\n",
       "      <td>Regular</td>\n",
       "      <td>...</td>\n",
       "      <td>2</td>\n",
       "      <td>4</td>\n",
       "      <td>0.000824</td>\n",
       "      <td>0.000797</td>\n",
       "      <td>0.000670</td>\n",
       "      <td>59.079562</td>\n",
       "      <td>0.05</td>\n",
       "      <td>46.5</td>\n",
       "      <td>40.0</td>\n",
       "      <td>47.0</td>\n",
       "    </tr>\n",
       "    <tr>\n",
       "      <th>677990</th>\n",
       "      <td>6114308.0</td>\n",
       "      <td>0</td>\n",
       "      <td>0.008219</td>\n",
       "      <td>A</td>\n",
       "      <td>11</td>\n",
       "      <td>0</td>\n",
       "      <td>64</td>\n",
       "      <td>50.0</td>\n",
       "      <td>B12</td>\n",
       "      <td>Diesel</td>\n",
       "      <td>...</td>\n",
       "      <td>1</td>\n",
       "      <td>6</td>\n",
       "      <td>0.000796</td>\n",
       "      <td>0.000749</td>\n",
       "      <td>0.000670</td>\n",
       "      <td>59.079562</td>\n",
       "      <td>0.05</td>\n",
       "      <td>38.5</td>\n",
       "      <td>40.0</td>\n",
       "      <td>37.0</td>\n",
       "    </tr>\n",
       "    <tr>\n",
       "      <th>677993</th>\n",
       "      <td>6114311.0</td>\n",
       "      <td>0</td>\n",
       "      <td>0.008219</td>\n",
       "      <td>E</td>\n",
       "      <td>15</td>\n",
       "      <td>4</td>\n",
       "      <td>54</td>\n",
       "      <td>50.0</td>\n",
       "      <td>B12</td>\n",
       "      <td>Regular</td>\n",
       "      <td>...</td>\n",
       "      <td>2</td>\n",
       "      <td>6</td>\n",
       "      <td>0.000856</td>\n",
       "      <td>0.000820</td>\n",
       "      <td>0.000670</td>\n",
       "      <td>59.079562</td>\n",
       "      <td>0.05</td>\n",
       "      <td>52.0</td>\n",
       "      <td>46.0</td>\n",
       "      <td>37.0</td>\n",
       "    </tr>\n",
       "    <tr>\n",
       "      <th>677998</th>\n",
       "      <td>6114316.0</td>\n",
       "      <td>0</td>\n",
       "      <td>0.005479</td>\n",
       "      <td>B</td>\n",
       "      <td>11</td>\n",
       "      <td>1</td>\n",
       "      <td>41</td>\n",
       "      <td>76.0</td>\n",
       "      <td>B12</td>\n",
       "      <td>Diesel</td>\n",
       "      <td>...</td>\n",
       "      <td>1</td>\n",
       "      <td>4</td>\n",
       "      <td>0.000531</td>\n",
       "      <td>0.000531</td>\n",
       "      <td>0.000760</td>\n",
       "      <td>59.079562</td>\n",
       "      <td>0.05</td>\n",
       "      <td>41.5</td>\n",
       "      <td>40.0</td>\n",
       "      <td>47.0</td>\n",
       "    </tr>\n",
       "  </tbody>\n",
       "</table>\n",
       "<p>136181 rows × 27 columns</p>\n",
       "</div>"
      ],
      "text/plain": [
       "            IDpol  ClaimNb  Exposure Area  VehPower  VehAge  DrivAge   \n",
       "5            13.0        1  0.520000    E         6       2       38  \\\n",
       "6            15.0        1  0.450000    E         6       2       38   \n",
       "13           32.0        1  0.050000    D         4       0       27   \n",
       "21           49.0        2  0.810000    E         7       0       73   \n",
       "22           50.0        1  0.060000    E         7       0       73   \n",
       "...           ...      ...       ...  ...       ...     ...      ...   \n",
       "677984  6114302.0        0  0.010000    C        10       5       37   \n",
       "677989  6114307.0        0  0.008219    D        10       2       41   \n",
       "677990  6114308.0        0  0.008219    A        11       0       64   \n",
       "677993  6114311.0        0  0.008219    E        15       4       54   \n",
       "677998  6114316.0        0  0.005479    B        11       1       41   \n",
       "\n",
       "        BonusMalus VehBrand   VehGas  ...  VehAgeGLM DrivAgeGLM  EI_Density   \n",
       "5             50.0      B12  Regular  ...          2          4    0.053795  \\\n",
       "6             50.0      B12  Regular  ...          2          4    0.046554   \n",
       "13            90.0      B12  Regular  ...          1          3    0.004913   \n",
       "21            50.0      B12  Regular  ...          1          7    0.084386   \n",
       "22            50.0      B12  Regular  ...          1          7    0.006251   \n",
       "...            ...      ...      ...  ...        ...        ...         ...   \n",
       "677984        50.0      B12  Regular  ...          2          4    0.000971   \n",
       "677989        50.0      B12  Regular  ...          2          4    0.000824   \n",
       "677990        50.0      B12   Diesel  ...          1          6    0.000796   \n",
       "677993        50.0      B12  Regular  ...          2          6    0.000856   \n",
       "677998        76.0      B12   Diesel  ...          1          4    0.000531   \n",
       "\n",
       "        EI_DrivAge  EI_BonusMalus1 EI_BonusMalus2  EI_VehAge GDV_Area   \n",
       "5         0.048885        0.042394      59.079562       0.05     52.0  \\\n",
       "6         0.042305        0.036687      59.079562       0.05     52.0   \n",
       "13        0.005459        0.009198      59.079562       0.05     46.5   \n",
       "21        0.073732        0.066037      59.079562       0.05     52.0   \n",
       "22        0.005462        0.004892      59.079562       0.05     52.0   \n",
       "...            ...             ...            ...        ...      ...   \n",
       "677984    0.000932        0.000815      59.079562       0.05     43.5   \n",
       "677989    0.000797        0.000670      59.079562       0.05     46.5   \n",
       "677990    0.000749        0.000670      59.079562       0.05     38.5   \n",
       "677993    0.000820        0.000670      59.079562       0.05     52.0   \n",
       "677998    0.000531        0.000760      59.079562       0.05     41.5   \n",
       "\n",
       "       GDV_VehAge  GDV_DrivAge  \n",
       "5            40.0         47.0  \n",
       "6            40.0         47.0  \n",
       "13           40.0         47.0  \n",
       "21           40.0         48.0  \n",
       "22           40.0         48.0  \n",
       "...           ...          ...  \n",
       "677984       46.0         47.0  \n",
       "677989       40.0         47.0  \n",
       "677990       40.0         37.0  \n",
       "677993       46.0         37.0  \n",
       "677998       40.0         47.0  \n",
       "\n",
       "[136181 rows x 27 columns]"
      ]
     },
     "execution_count": 34,
     "metadata": {},
     "output_type": "execute_result"
    }
   ],
   "source": [
    "test"
   ]
  },
  {
   "cell_type": "code",
   "execution_count": 90,
   "id": "22af82cf",
   "metadata": {},
   "outputs": [],
   "source": [
    "cols = ['ClaimNb', 'VehBrand', 'VehGas', 'Region', 'Area', 'VehPower', 'VehAge',\n",
    "       'DrivAge', 'Density', 'BonusMalus', 'Exposure', 'DensityGLM',\n",
    "       'BonusMalusGLM', 'AreaGLM', 'VehPowerGLM', 'VehAgeGLM', 'DrivAgeGLM']\n",
    "joined = pd.concat([train_gan, train])[cols]"
   ]
  },
  {
   "cell_type": "code",
   "execution_count": 91,
   "id": "b104436e",
   "metadata": {
    "pycharm": {
     "name": "#%%\n"
    }
   },
   "outputs": [
    {
     "name": "stdout",
     "output_type": "stream",
     "text": [
      "[32.91632850254276]\n",
      "[32.91632850254276, 59.74845410521347]\n",
      "[32.91632850254276, 59.74845410521347, 59.87506494269026]\n"
     ]
    },
    {
     "ename": "TypeError",
     "evalue": "predict requires that you use a DataFrame when predicting from a model\nthat was created using the formula api.\n\nThe original error message returned by patsy is:\nObject with dtype category cannot perform the numpy op isnan",
     "output_type": "error",
     "traceback": [
      "\u001B[0;31m---------------------------------------------------------------------------\u001B[0m",
      "\u001B[0;31mTypeError\u001B[0m                                 Traceback (most recent call last)",
      "File \u001B[0;32m~/opt/anaconda3/lib/python3.9/site-packages/statsmodels/base/model.py:1137\u001B[0m, in \u001B[0;36mResults.predict\u001B[0;34m(self, exog, transform, *args, **kwargs)\u001B[0m\n\u001B[1;32m   1136\u001B[0m \u001B[38;5;28;01mtry\u001B[39;00m:\n\u001B[0;32m-> 1137\u001B[0m     exog \u001B[38;5;241m=\u001B[39m \u001B[43mdmatrix\u001B[49m\u001B[43m(\u001B[49m\u001B[43mdesign_info\u001B[49m\u001B[43m,\u001B[49m\u001B[43m \u001B[49m\u001B[43mexog\u001B[49m\u001B[43m,\u001B[49m\u001B[43m \u001B[49m\u001B[43mreturn_type\u001B[49m\u001B[38;5;241;43m=\u001B[39;49m\u001B[38;5;124;43m\"\u001B[39;49m\u001B[38;5;124;43mdataframe\u001B[39;49m\u001B[38;5;124;43m\"\u001B[39;49m\u001B[43m)\u001B[49m\n\u001B[1;32m   1138\u001B[0m \u001B[38;5;28;01mexcept\u001B[39;00m \u001B[38;5;167;01mException\u001B[39;00m \u001B[38;5;28;01mas\u001B[39;00m exc:\n",
      "File \u001B[0;32m~/opt/anaconda3/lib/python3.9/site-packages/patsy/highlevel.py:290\u001B[0m, in \u001B[0;36mdmatrix\u001B[0;34m(formula_like, data, eval_env, NA_action, return_type)\u001B[0m\n\u001B[1;32m    289\u001B[0m eval_env \u001B[38;5;241m=\u001B[39m EvalEnvironment\u001B[38;5;241m.\u001B[39mcapture(eval_env, reference\u001B[38;5;241m=\u001B[39m\u001B[38;5;241m1\u001B[39m)\n\u001B[0;32m--> 290\u001B[0m (lhs, rhs) \u001B[38;5;241m=\u001B[39m \u001B[43m_do_highlevel_design\u001B[49m\u001B[43m(\u001B[49m\u001B[43mformula_like\u001B[49m\u001B[43m,\u001B[49m\u001B[43m \u001B[49m\u001B[43mdata\u001B[49m\u001B[43m,\u001B[49m\u001B[43m \u001B[49m\u001B[43meval_env\u001B[49m\u001B[43m,\u001B[49m\n\u001B[1;32m    291\u001B[0m \u001B[43m                                  \u001B[49m\u001B[43mNA_action\u001B[49m\u001B[43m,\u001B[49m\u001B[43m \u001B[49m\u001B[43mreturn_type\u001B[49m\u001B[43m)\u001B[49m\n\u001B[1;32m    292\u001B[0m \u001B[38;5;28;01mif\u001B[39;00m lhs\u001B[38;5;241m.\u001B[39mshape[\u001B[38;5;241m1\u001B[39m] \u001B[38;5;241m!=\u001B[39m \u001B[38;5;241m0\u001B[39m:\n",
      "File \u001B[0;32m~/opt/anaconda3/lib/python3.9/site-packages/patsy/highlevel.py:167\u001B[0m, in \u001B[0;36m_do_highlevel_design\u001B[0;34m(formula_like, data, eval_env, NA_action, return_type)\u001B[0m\n\u001B[1;32m    166\u001B[0m \u001B[38;5;28;01mif\u001B[39;00m design_infos \u001B[38;5;129;01mis\u001B[39;00m \u001B[38;5;129;01mnot\u001B[39;00m \u001B[38;5;28;01mNone\u001B[39;00m:\n\u001B[0;32m--> 167\u001B[0m     \u001B[38;5;28;01mreturn\u001B[39;00m \u001B[43mbuild_design_matrices\u001B[49m\u001B[43m(\u001B[49m\u001B[43mdesign_infos\u001B[49m\u001B[43m,\u001B[49m\u001B[43m \u001B[49m\u001B[43mdata\u001B[49m\u001B[43m,\u001B[49m\n\u001B[1;32m    168\u001B[0m \u001B[43m                                 \u001B[49m\u001B[43mNA_action\u001B[49m\u001B[38;5;241;43m=\u001B[39;49m\u001B[43mNA_action\u001B[49m\u001B[43m,\u001B[49m\n\u001B[1;32m    169\u001B[0m \u001B[43m                                 \u001B[49m\u001B[43mreturn_type\u001B[49m\u001B[38;5;241;43m=\u001B[39;49m\u001B[43mreturn_type\u001B[49m\u001B[43m)\u001B[49m\n\u001B[1;32m    170\u001B[0m \u001B[38;5;28;01melse\u001B[39;00m:\n\u001B[1;32m    171\u001B[0m     \u001B[38;5;66;03m# No builders, but maybe we can still get matrices\u001B[39;00m\n",
      "File \u001B[0;32m~/opt/anaconda3/lib/python3.9/site-packages/patsy/build.py:888\u001B[0m, in \u001B[0;36mbuild_design_matrices\u001B[0;34m(design_infos, data, NA_action, return_type, dtype)\u001B[0m\n\u001B[1;32m    887\u001B[0m \u001B[38;5;28;01mif\u001B[39;00m factor_info \u001B[38;5;129;01mnot\u001B[39;00m \u001B[38;5;129;01min\u001B[39;00m factor_info_to_values:\n\u001B[0;32m--> 888\u001B[0m     value, is_NA \u001B[38;5;241m=\u001B[39m \u001B[43m_eval_factor\u001B[49m\u001B[43m(\u001B[49m\u001B[43mfactor_info\u001B[49m\u001B[43m,\u001B[49m\u001B[43m \u001B[49m\u001B[43mdata\u001B[49m\u001B[43m,\u001B[49m\u001B[43m \u001B[49m\u001B[43mNA_action\u001B[49m\u001B[43m)\u001B[49m\n\u001B[1;32m    889\u001B[0m     factor_info_to_isNAs[factor_info] \u001B[38;5;241m=\u001B[39m is_NA\n",
      "File \u001B[0;32m~/opt/anaconda3/lib/python3.9/site-packages/patsy/build.py:80\u001B[0m, in \u001B[0;36m_eval_factor\u001B[0;34m(factor_info, data, NA_action)\u001B[0m\n\u001B[1;32m     76\u001B[0m         \u001B[38;5;28;01mraise\u001B[39;00m PatsyError(\u001B[38;5;124m\"\u001B[39m\u001B[38;5;124mwhen evaluating numeric factor \u001B[39m\u001B[38;5;132;01m%s\u001B[39;00m\u001B[38;5;124m, \u001B[39m\u001B[38;5;124m\"\u001B[39m\n\u001B[1;32m     77\u001B[0m                          \u001B[38;5;124m\"\u001B[39m\u001B[38;5;124mI got non-numeric data of type \u001B[39m\u001B[38;5;124m'\u001B[39m\u001B[38;5;132;01m%s\u001B[39;00m\u001B[38;5;124m'\u001B[39m\u001B[38;5;124m\"\u001B[39m\n\u001B[1;32m     78\u001B[0m                          \u001B[38;5;241m%\u001B[39m (factor\u001B[38;5;241m.\u001B[39mname(), result\u001B[38;5;241m.\u001B[39mdtype),\n\u001B[1;32m     79\u001B[0m                          factor)\n\u001B[0;32m---> 80\u001B[0m     \u001B[38;5;28;01mreturn\u001B[39;00m result, \u001B[43mNA_action\u001B[49m\u001B[38;5;241;43m.\u001B[39;49m\u001B[43mis_numerical_NA\u001B[49m\u001B[43m(\u001B[49m\u001B[43mresult\u001B[49m\u001B[43m)\u001B[49m\n\u001B[1;32m     81\u001B[0m \u001B[38;5;66;03m# returns either a 1d ndarray or a pandas.Series, plus is_NA mask\u001B[39;00m\n\u001B[1;32m     82\u001B[0m \u001B[38;5;28;01melse\u001B[39;00m:\n",
      "File \u001B[0;32m~/opt/anaconda3/lib/python3.9/site-packages/patsy/missing.py:136\u001B[0m, in \u001B[0;36mNAAction.is_numerical_NA\u001B[0;34m(self, arr)\u001B[0m\n\u001B[1;32m    135\u001B[0m \u001B[38;5;28;01mif\u001B[39;00m \u001B[38;5;124m\"\u001B[39m\u001B[38;5;124mNaN\u001B[39m\u001B[38;5;124m\"\u001B[39m \u001B[38;5;129;01min\u001B[39;00m \u001B[38;5;28mself\u001B[39m\u001B[38;5;241m.\u001B[39mNA_types:\n\u001B[0;32m--> 136\u001B[0m     mask \u001B[38;5;241m|\u001B[39m\u001B[38;5;241m=\u001B[39m \u001B[43mnp\u001B[49m\u001B[38;5;241;43m.\u001B[39;49m\u001B[43misnan\u001B[49m\u001B[43m(\u001B[49m\u001B[43marr\u001B[49m\u001B[43m)\u001B[49m\n\u001B[1;32m    137\u001B[0m \u001B[38;5;28;01mif\u001B[39;00m mask\u001B[38;5;241m.\u001B[39mndim \u001B[38;5;241m>\u001B[39m \u001B[38;5;241m1\u001B[39m:\n",
      "File \u001B[0;32m~/opt/anaconda3/lib/python3.9/site-packages/pandas/core/generic.py:2016\u001B[0m, in \u001B[0;36mNDFrame.__array_ufunc__\u001B[0;34m(self, ufunc, method, *inputs, **kwargs)\u001B[0m\n\u001B[1;32m   2012\u001B[0m \u001B[38;5;129m@final\u001B[39m\n\u001B[1;32m   2013\u001B[0m \u001B[38;5;28;01mdef\u001B[39;00m \u001B[38;5;21m__array_ufunc__\u001B[39m(\n\u001B[1;32m   2014\u001B[0m     \u001B[38;5;28mself\u001B[39m, ufunc: np\u001B[38;5;241m.\u001B[39mufunc, method: \u001B[38;5;28mstr\u001B[39m, \u001B[38;5;241m*\u001B[39minputs: Any, \u001B[38;5;241m*\u001B[39m\u001B[38;5;241m*\u001B[39mkwargs: Any\n\u001B[1;32m   2015\u001B[0m ):\n\u001B[0;32m-> 2016\u001B[0m     \u001B[38;5;28;01mreturn\u001B[39;00m \u001B[43marraylike\u001B[49m\u001B[38;5;241;43m.\u001B[39;49m\u001B[43marray_ufunc\u001B[49m\u001B[43m(\u001B[49m\u001B[38;5;28;43mself\u001B[39;49m\u001B[43m,\u001B[49m\u001B[43m \u001B[49m\u001B[43mufunc\u001B[49m\u001B[43m,\u001B[49m\u001B[43m \u001B[49m\u001B[43mmethod\u001B[49m\u001B[43m,\u001B[49m\u001B[43m \u001B[49m\u001B[38;5;241;43m*\u001B[39;49m\u001B[43minputs\u001B[49m\u001B[43m,\u001B[49m\u001B[43m \u001B[49m\u001B[38;5;241;43m*\u001B[39;49m\u001B[38;5;241;43m*\u001B[39;49m\u001B[43mkwargs\u001B[49m\u001B[43m)\u001B[49m\n",
      "File \u001B[0;32m~/opt/anaconda3/lib/python3.9/site-packages/pandas/core/arraylike.py:404\u001B[0m, in \u001B[0;36marray_ufunc\u001B[0;34m(self, ufunc, method, *inputs, **kwargs)\u001B[0m\n\u001B[1;32m    403\u001B[0m     mgr \u001B[38;5;241m=\u001B[39m inputs[\u001B[38;5;241m0\u001B[39m]\u001B[38;5;241m.\u001B[39m_mgr\n\u001B[0;32m--> 404\u001B[0m     result \u001B[38;5;241m=\u001B[39m \u001B[43mmgr\u001B[49m\u001B[38;5;241;43m.\u001B[39;49m\u001B[43mapply\u001B[49m\u001B[43m(\u001B[49m\u001B[38;5;28;43mgetattr\u001B[39;49m\u001B[43m(\u001B[49m\u001B[43mufunc\u001B[49m\u001B[43m,\u001B[49m\u001B[43m \u001B[49m\u001B[43mmethod\u001B[49m\u001B[43m)\u001B[49m\u001B[43m)\u001B[49m\n\u001B[1;32m    405\u001B[0m \u001B[38;5;28;01melse\u001B[39;00m:\n\u001B[1;32m    406\u001B[0m     \u001B[38;5;66;03m# otherwise specific ufunc methods (eg np.<ufunc>.accumulate(..))\u001B[39;00m\n\u001B[1;32m    407\u001B[0m     \u001B[38;5;66;03m# Those can have an axis keyword and thus can't be called block-by-block\u001B[39;00m\n",
      "File \u001B[0;32m~/opt/anaconda3/lib/python3.9/site-packages/pandas/core/internals/managers.py:350\u001B[0m, in \u001B[0;36mBaseBlockManager.apply\u001B[0;34m(self, f, align_keys, **kwargs)\u001B[0m\n\u001B[1;32m    349\u001B[0m \u001B[38;5;28;01mif\u001B[39;00m \u001B[38;5;28mcallable\u001B[39m(f):\n\u001B[0;32m--> 350\u001B[0m     applied \u001B[38;5;241m=\u001B[39m \u001B[43mb\u001B[49m\u001B[38;5;241;43m.\u001B[39;49m\u001B[43mapply\u001B[49m\u001B[43m(\u001B[49m\u001B[43mf\u001B[49m\u001B[43m,\u001B[49m\u001B[43m \u001B[49m\u001B[38;5;241;43m*\u001B[39;49m\u001B[38;5;241;43m*\u001B[39;49m\u001B[43mkwargs\u001B[49m\u001B[43m)\u001B[49m\n\u001B[1;32m    351\u001B[0m \u001B[38;5;28;01melse\u001B[39;00m:\n",
      "File \u001B[0;32m~/opt/anaconda3/lib/python3.9/site-packages/pandas/core/internals/blocks.py:329\u001B[0m, in \u001B[0;36mBlock.apply\u001B[0;34m(self, func, **kwargs)\u001B[0m\n\u001B[1;32m    325\u001B[0m \u001B[38;5;250m\u001B[39m\u001B[38;5;124;03m\"\"\"\u001B[39;00m\n\u001B[1;32m    326\u001B[0m \u001B[38;5;124;03mapply the function to my values; return a block if we are not\u001B[39;00m\n\u001B[1;32m    327\u001B[0m \u001B[38;5;124;03mone\u001B[39;00m\n\u001B[1;32m    328\u001B[0m \u001B[38;5;124;03m\"\"\"\u001B[39;00m\n\u001B[0;32m--> 329\u001B[0m result \u001B[38;5;241m=\u001B[39m \u001B[43mfunc\u001B[49m\u001B[43m(\u001B[49m\u001B[38;5;28;43mself\u001B[39;49m\u001B[38;5;241;43m.\u001B[39;49m\u001B[43mvalues\u001B[49m\u001B[43m,\u001B[49m\u001B[43m \u001B[49m\u001B[38;5;241;43m*\u001B[39;49m\u001B[38;5;241;43m*\u001B[39;49m\u001B[43mkwargs\u001B[49m\u001B[43m)\u001B[49m\n\u001B[1;32m    331\u001B[0m \u001B[38;5;28;01mreturn\u001B[39;00m \u001B[38;5;28mself\u001B[39m\u001B[38;5;241m.\u001B[39m_split_op_result(result)\n",
      "File \u001B[0;32m~/opt/anaconda3/lib/python3.9/site-packages/pandas/core/arrays/categorical.py:1374\u001B[0m, in \u001B[0;36mCategorical.__array_ufunc__\u001B[0;34m(self, ufunc, method, *inputs, **kwargs)\u001B[0m\n\u001B[1;32m   1372\u001B[0m \u001B[38;5;66;03m# for all other cases, raise for now (similarly as what happens in\u001B[39;00m\n\u001B[1;32m   1373\u001B[0m \u001B[38;5;66;03m# Series.__array_prepare__)\u001B[39;00m\n\u001B[0;32m-> 1374\u001B[0m \u001B[38;5;28;01mraise\u001B[39;00m \u001B[38;5;167;01mTypeError\u001B[39;00m(\n\u001B[1;32m   1375\u001B[0m     \u001B[38;5;124mf\u001B[39m\u001B[38;5;124m\"\u001B[39m\u001B[38;5;124mObject with dtype \u001B[39m\u001B[38;5;132;01m{\u001B[39;00m\u001B[38;5;28mself\u001B[39m\u001B[38;5;241m.\u001B[39mdtype\u001B[38;5;132;01m}\u001B[39;00m\u001B[38;5;124m cannot perform \u001B[39m\u001B[38;5;124m\"\u001B[39m\n\u001B[1;32m   1376\u001B[0m     \u001B[38;5;124mf\u001B[39m\u001B[38;5;124m\"\u001B[39m\u001B[38;5;124mthe numpy op \u001B[39m\u001B[38;5;132;01m{\u001B[39;00mufunc\u001B[38;5;241m.\u001B[39m\u001B[38;5;18m__name__\u001B[39m\u001B[38;5;132;01m}\u001B[39;00m\u001B[38;5;124m\"\u001B[39m\n\u001B[1;32m   1377\u001B[0m )\n",
      "\u001B[0;31mTypeError\u001B[0m: Object with dtype category cannot perform the numpy op isnan",
      "\nDuring handling of the above exception, another exception occurred:\n",
      "\u001B[0;31mTypeError\u001B[0m                                 Traceback (most recent call last)",
      "Cell \u001B[0;32mIn[91], line 12\u001B[0m\n\u001B[1;32m     10\u001B[0m \u001B[38;5;28;01mfor\u001B[39;00m formulaa \u001B[38;5;129;01min\u001B[39;00m formulas:\n\u001B[1;32m     11\u001B[0m     glm0 \u001B[38;5;241m=\u001B[39m smf\u001B[38;5;241m.\u001B[39mglm(formula\u001B[38;5;241m=\u001B[39mformulaa, data\u001B[38;5;241m=\u001B[39mtrain_gan, family\u001B[38;5;241m=\u001B[39msm\u001B[38;5;241m.\u001B[39mfamilies\u001B[38;5;241m.\u001B[39mPoisson(link\u001B[38;5;241m=\u001B[39msm\u001B[38;5;241m.\u001B[39mfamilies\u001B[38;5;241m.\u001B[39mlinks\u001B[38;5;241m.\u001B[39mlog()), offset\u001B[38;5;241m=\u001B[39mnp\u001B[38;5;241m.\u001B[39mlog(train_gan[\u001B[38;5;124m'\u001B[39m\u001B[38;5;124mExposure\u001B[39m\u001B[38;5;124m'\u001B[39m]))\u001B[38;5;241m.\u001B[39mfit()\n\u001B[0;32m---> 12\u001B[0m     devs \u001B[38;5;241m+\u001B[39m\u001B[38;5;241m=\u001B[39m [metrics\u001B[38;5;241m.\u001B[39mpoisson_deviance(\u001B[43mglm0\u001B[49m\u001B[38;5;241;43m.\u001B[39;49m\u001B[43mpredict\u001B[49m\u001B[43m(\u001B[49m\u001B[43mtest\u001B[49m\u001B[43m,\u001B[49m\u001B[43m \u001B[49m\u001B[43moffset\u001B[49m\u001B[38;5;241;43m=\u001B[39;49m\u001B[43mnp\u001B[49m\u001B[38;5;241;43m.\u001B[39;49m\u001B[43mlog\u001B[49m\u001B[43m(\u001B[49m\u001B[43mtest\u001B[49m\u001B[43m[\u001B[49m\u001B[38;5;124;43m'\u001B[39;49m\u001B[38;5;124;43mExposure\u001B[39;49m\u001B[38;5;124;43m'\u001B[39;49m\u001B[43m]\u001B[49m\u001B[43m)\u001B[49m\u001B[43m)\u001B[49m, test[\u001B[38;5;124m'\u001B[39m\u001B[38;5;124mClaimNb\u001B[39m\u001B[38;5;124m'\u001B[39m])]\n\u001B[1;32m     13\u001B[0m     \u001B[38;5;28mprint\u001B[39m(devs)\n",
      "File \u001B[0;32m~/opt/anaconda3/lib/python3.9/site-packages/statsmodels/base/model.py:1144\u001B[0m, in \u001B[0;36mResults.predict\u001B[0;34m(self, exog, transform, *args, **kwargs)\u001B[0m\n\u001B[1;32m   1138\u001B[0m \u001B[38;5;28;01mexcept\u001B[39;00m \u001B[38;5;167;01mException\u001B[39;00m \u001B[38;5;28;01mas\u001B[39;00m exc:\n\u001B[1;32m   1139\u001B[0m     msg \u001B[38;5;241m=\u001B[39m (\u001B[38;5;124m'\u001B[39m\u001B[38;5;124mpredict requires that you use a DataFrame when \u001B[39m\u001B[38;5;124m'\u001B[39m\n\u001B[1;32m   1140\u001B[0m            \u001B[38;5;124m'\u001B[39m\u001B[38;5;124mpredicting from a model\u001B[39m\u001B[38;5;130;01m\\n\u001B[39;00m\u001B[38;5;124mthat was created using the \u001B[39m\u001B[38;5;124m'\u001B[39m\n\u001B[1;32m   1141\u001B[0m            \u001B[38;5;124m'\u001B[39m\u001B[38;5;124mformula api.\u001B[39m\u001B[38;5;124m'\u001B[39m\n\u001B[1;32m   1142\u001B[0m            \u001B[38;5;124m'\u001B[39m\u001B[38;5;130;01m\\n\u001B[39;00m\u001B[38;5;130;01m\\n\u001B[39;00m\u001B[38;5;124mThe original error message returned by patsy is:\u001B[39m\u001B[38;5;130;01m\\n\u001B[39;00m\u001B[38;5;124m'\u001B[39m\n\u001B[1;32m   1143\u001B[0m            \u001B[38;5;124m'\u001B[39m\u001B[38;5;132;01m{0}\u001B[39;00m\u001B[38;5;124m'\u001B[39m\u001B[38;5;241m.\u001B[39mformat(\u001B[38;5;28mstr\u001B[39m(\u001B[38;5;28mstr\u001B[39m(exc))))\n\u001B[0;32m-> 1144\u001B[0m     \u001B[38;5;28;01mraise\u001B[39;00m exc\u001B[38;5;241m.\u001B[39m\u001B[38;5;18m__class__\u001B[39m(msg)\n\u001B[1;32m   1145\u001B[0m \u001B[38;5;28;01mif\u001B[39;00m orig_exog_len \u001B[38;5;241m>\u001B[39m \u001B[38;5;28mlen\u001B[39m(exog) \u001B[38;5;129;01mand\u001B[39;00m \u001B[38;5;129;01mnot\u001B[39;00m is_dict:\n\u001B[1;32m   1146\u001B[0m     \u001B[38;5;28;01mif\u001B[39;00m exog_index \u001B[38;5;129;01mis\u001B[39;00m \u001B[38;5;28;01mNone\u001B[39;00m:\n",
      "\u001B[0;31mTypeError\u001B[0m: predict requires that you use a DataFrame when predicting from a model\nthat was created using the formula api.\n\nThe original error message returned by patsy is:\nObject with dtype category cannot perform the numpy op isnan"
     ]
    }
   ],
   "source": [
    "# No Input\n",
    "formula0 = \"ClaimNb ~ 1\"\n",
    "formula1 = f\"ClaimNb ~   VehPowerGLM + C(VehAgeGLM, Treatment(reference=2)) + C(DrivAgeGLM, Treatment(reference=5)) + BonusMalusGLM + VehGas + DensityGLM + C(Region, Treatment(reference='R24'))\"\n",
    "formula2 = f\"{formula1} + VehBrand\"\n",
    "formula3 = f\"{formula2} + AreaGLM\"\n",
    "\n",
    "\n",
    "\n",
    "formulas = [formula0, formula1, formula2, formula3]\n",
    "devs = []\n",
    "\n",
    "for formulaa in formulas:\n",
    "    glm0 = smf.glm(formula=formulaa, data=train_gan, family=sm.families.Poisson(link=sm.families.links.log()), offset=np.log(train_gan['Exposure'])).fit()\n",
    "    devs += [metrics.poisson_deviance(glm0.predict(test, offset=np.log(test['Exposure'])), test['ClaimNb'])]\n",
    "    print(devs)"
   ]
  },
  {
   "cell_type": "code",
   "execution_count": null,
   "id": "22e00a35",
   "metadata": {},
   "outputs": [],
   "source": [
    "Bootstrap(9, n_bootstraps=3, n_train=5, n_test=4, random_state=0)"
   ]
  }
 ],
 "metadata": {
  "kernelspec": {
   "display_name": "Python 3 (ipykernel)",
   "language": "python",
   "name": "python3"
  },
  "language_info": {
   "codemirror_mode": {
    "name": "ipython",
    "version": 3
   },
   "file_extension": ".py",
   "mimetype": "text/x-python",
   "name": "python",
   "nbconvert_exporter": "python",
   "pygments_lexer": "ipython3",
   "version": "3.9.12"
  }
 },
 "nbformat": 4,
 "nbformat_minor": 5
}