{
 "cells": [
  {
   "cell_type": "code",
   "execution_count": 60,
   "id": "1a452992",
   "metadata": {
    "pycharm": {
     "name": "#%%\n"
    }
   },
   "outputs": [
    {
     "name": "stdout",
     "output_type": "stream",
     "text": [
      "The autoreload extension is already loaded. To reload it, use:\n",
      "  %reload_ext autoreload\n"
     ]
    }
   ],
   "source": [
    "from sklearn.ensemble import GradientBoostingClassifier\n",
    "from sklearn.ensemble import GradientBoostingRegressor\n",
    "import statsmodels.api as sm\n",
    "import statsmodels.formula.api as smf\n",
    "from sklearn.preprocessing import PolynomialFeatures\n",
    "import numpy as np\n",
    "from matplotlib import pyplot as plt\n",
    "import warnings\n",
    "import pandas as pd\n",
    "import numpy as np\n",
    "import matplotlib.pyplot as plt\n",
    "import pandas as pd\n",
    "from Functions.original.utils.undo_dummy import back_from_dummies\n",
    "import joblib\n",
    "\n",
    "import seaborn as sns\n",
    "import math\n",
    "import statsmodels.api as sm\n",
    "import statsmodels.formula.api as smf\n",
    "import itertools\n",
    "import plotly.express as px \n",
    "from scipy import stats\n",
    "from copy import deepcopy\n",
    "from sklearn.model_selection import GroupShuffleSplit\n",
    "from sklearn.datasets import fetch_openml\n",
    "warnings.filterwarnings('ignore')\n",
    "\n",
    "from Functions import dataprep as prep\n",
    "from Functions import metrics\n",
    "from sklearn.datasets import fetch_openml\n",
    "import pandas as pd\n",
    "from _1_DataPrep import *\n",
    "\n",
    "%load_ext autoreload\n",
    "%autoreload 2"
   ]
  },
  {
   "cell_type": "code",
   "execution_count": 61,
   "id": "cd915ca2",
   "metadata": {
    "pycharm": {
     "name": "#%%\n"
    }
   },
   "outputs": [],
   "source": [
    "train = pd.read_pickle('./data/common_dataprep/train_with_ei.pickle')\n",
    "test = pd.read_pickle('./data/common_dataprep/test_with_ei.pickle')"
   ]
  },
  {
   "cell_type": "code",
   "execution_count": 62,
   "id": "60bfd012",
   "metadata": {},
   "outputs": [],
   "source": [
    "def make_glms(train, test, base_formula = ''):\n",
    "    # No Input\n",
    "    formula0 = \"ClaimNb ~ 1\"\n",
    "    formula1 = f\"ClaimNb ~ {base_formula}  VehPowerGLM + C(VehAgeGLM, Treatment(reference=2)) + C(DrivAgeGLM, Treatment(reference=5)) + BonusMalusGLM + VehGas + DensityGLM + C(Region, Treatment(reference='R24'))\"\n",
    "    formula2 = f\"{formula1} + VehBrand\"\n",
    "    formula3 = f\"{formula2} + AreaGLM\"\n",
    "\n",
    "    formulas = [formula0, formula1, formula2, formula3]\n",
    "    devs = []\n",
    "    \n",
    "    for formulaa in formulas:\n",
    "        glm0 = smf.glm(formula=formulaa, data=train, family=sm.families.Poisson(link=sm.families.links.log()), offset=np.log(train['Exposure'])).fit()\n",
    "        devs += [metrics.poisson_deviance(glm0.predict(test, offset=np.log(test['Exposure'])), test['ClaimNb'])]\n",
    "    \n",
    "    assert min(devs) != devs[0], f'Issue with metrics: {dev}; random model predicts best?!'\n",
    "    return min(devs)\n",
    "    "
   ]
  },
  {
   "cell_type": "code",
   "execution_count": null,
   "outputs": [],
   "source": [
    "train['VehPowerGLM']"
   ],
   "metadata": {
    "collapsed": false,
    "pycharm": {
     "name": "#%%\n"
    }
   }
  },
  {
   "cell_type": "code",
   "execution_count": null,
   "outputs": [],
   "source": [
    "print(\n",
    "    \n",
    "    make_glms(train, test),\n",
    "    make_glms(train, test, base_formula = 'EI_Density + EI_DrivAge + EI_BonusMalus1 + EI_BonusMalus2 + EI_VehAge +'),\n",
    "    make_glms(train, test, base_formula = 'GDV_Area + GDV_VehAge + GDV_DrivAge + '),\n",
    "    make_glms(train, test, base_formula = 'GDV_Area + GDV_VehAge + GDV_DrivAge + EI_Density + EI_DrivAge + EI_BonusMalus1 + EI_BonusMalus2 + EI_VehAge +')\n",
    ")"
   ],
   "metadata": {
    "collapsed": false,
    "pycharm": {
     "name": "#%%\n"
    }
   }
  },
  {
   "cell_type": "code",
   "execution_count": null,
   "outputs": [],
   "source": [
    "train_gan = pd.read_pickle('./data/gan_generated/sample_no_ei.pickle')\n",
    "ss = joblib.load('data/gan_dataprep/scaler.pickle')\n",
    "dftemp = pd.read_pickle('data/gan_dataprep/train_gan.pickle')\n",
    "train_gan = pd.DataFrame(ss.inverse_transform(train_gan), columns= dftemp.columns)\n",
    "train_gan = back_from_dummies(train_gan)\n",
    "train_gan.head()"
   ],
   "metadata": {
    "collapsed": false,
    "pycharm": {
     "name": "#%%\n"
    }
   }
  },
  {
   "cell_type": "code",
   "execution_count": null,
   "outputs": [],
   "source": [
    "train_gan = prepare_gandata_for_regression(train_gan)"
   ],
   "metadata": {
    "collapsed": false,
    "pycharm": {
     "name": "#%%\n"
    }
   }
  },
  {
   "cell_type": "code",
   "execution_count": null,
   "outputs": [],
   "source": [
    "cols = ['ClaimNb', 'VehBrand', 'VehGas', 'Region', 'Area', 'VehPower', 'VehAge',\n",
    "       'DrivAge', 'Density', 'BonusMalus', 'Exposure', 'DensityGLM',\n",
    "       'BonusMalusGLM', 'AreaGLM', 'VehPowerGLM', 'VehAgeGLM', 'DrivAgeGLM']\n",
    "joined = pd.concat([train_gan, train])[cols]"
   ],
   "metadata": {
    "collapsed": false,
    "pycharm": {
     "name": "#%%\n"
    }
   }
  },
  {
   "cell_type": "code",
   "execution_count": null,
   "outputs": [],
   "source": [
    "# No Input\n",
    "formula0 = \"ClaimNb ~ 1\"\n",
    "formula1 = f\"ClaimNb ~   VehPowerGLM + C(VehAgeGLM, Treatment(reference=2)) + C(DrivAgeGLM, Treatment(reference=5)) + BonusMalusGLM + VehGas + DensityGLM + C(Region, Treatment(reference='R24'))\"\n",
    "formula2 = f\"{formula1} + VehBrand\"\n",
    "formula3 = f\"{formula2} + AreaGLM\"\n",
    "\n",
    "formulas = [formula0, formula1, formula2, formula3]\n",
    "devs = []\n",
    "\n",
    "for formulaa in formulas:\n",
    "    glm0 = smf.glm(formula=formulaa, data=train_gan, family=sm.families.Poisson(link=sm.families.links.log()), offset=np.log(train_gan['Exposure'])).fit()\n",
    "    devs += [metrics.poisson_deviance(glm0.predict(test, offset=np.log(test['Exposure'])), test['ClaimNb'])]\n",
    "    print(devs)"
   ],
   "metadata": {
    "collapsed": false,
    "pycharm": {
     "name": "#%%\n"
    }
   }
  },
  {
   "cell_type": "code",
   "execution_count": 67,
   "id": "5a0f2df8",
   "metadata": {},
   "outputs": [],
   "source": [
    "cols = ['ClaimNb', 'VehBrand', 'VehGas', 'Region', 'Area', 'VehPower', 'VehAge',\n",
    "       'DrivAge', 'Density', 'BonusMalus', 'Exposure', 'DensityGLM',\n",
    "       'BonusMalusGLM', 'AreaGLM', 'VehPowerGLM', 'VehAgeGLM', 'DrivAgeGLM']\n",
    "joined = pd.concat([train_gan, train])[cols]"
   ]
  },
  {
   "cell_type": "code",
   "execution_count": null,
   "id": "66f80b9b",
   "metadata": {},
   "outputs": [
    {
     "name": "stdout",
     "output_type": "stream",
     "text": [
      "[32.87212129298799]\n"
     ]
    }
   ],
   "source": [
    "# No Input\n",
    "formula0 = \"ClaimNb ~ 1\"\n",
    "formula1 = f\"ClaimNb ~   VehPowerGLM + C(VehAgeGLM, Treatment(reference=2)) + C(DrivAgeGLM, Treatment(reference=5)) + BonusMalusGLM + VehGas + DensityGLM + C(Region, Treatment(reference='R24'))\"\n",
    "formula2 = f\"{formula1} + VehBrand\"\n",
    "formula3 = f\"{formula2} + AreaGLM\"\n",
    "\n",
    "formulas = [formula0, formula1, formula2, formula3]\n",
    "devs = []\n",
    "\n",
    "for formulaa in formulas:\n",
    "    glm0 = smf.glm(formula=formulaa, data=train_gan, family=sm.families.Poisson(link=sm.families.links.log()), offset=np.log(train_gan['Exposure'])).fit()\n",
    "    devs += [metrics.poisson_deviance(glm0.predict(test, offset=np.log(test['Exposure'])), test['ClaimNb'])]\n",
    "    print(devs)"
   ]
  },
  {
   "cell_type": "code",
   "execution_count": null,
   "id": "17470eff",
   "metadata": {},
   "outputs": [],
   "source": [
    "Bootstrap(9, n_bootstraps=3, n_train=5, n_test=4, random_state=0)"
   ]
  }
 ],
 "metadata": {
  "kernelspec": {
   "display_name": "Python 3 (ipykernel)",
   "language": "python",
   "name": "python3"
  },
  "language_info": {
   "codemirror_mode": {
    "name": "ipython",
    "version": 3
   },
   "file_extension": ".py",
   "mimetype": "text/x-python",
   "name": "python",
   "nbconvert_exporter": "python",
   "pygments_lexer": "ipython3",
   "version": "3.9.12"
  }
 },
 "nbformat": 4,
 "nbformat_minor": 5
}