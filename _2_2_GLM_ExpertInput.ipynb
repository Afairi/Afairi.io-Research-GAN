{
 "cells": [
  {
   "cell_type": "code",
   "execution_count": 1,
   "id": "1a452992",
   "metadata": {
    "pycharm": {
     "name": "#%%\n"
    }
   },
   "outputs": [],
   "source": [
    "from sklearn.ensemble import GradientBoostingClassifier\n",
    "from sklearn.ensemble import GradientBoostingRegressor\n",
    "import statsmodels.api as sm\n",
    "import statsmodels.formula.api as smf\n",
    "from sklearn.preprocessing import PolynomialFeatures\n",
    "import numpy as np\n",
    "from matplotlib import pyplot as plt\n",
    "import warnings\n",
    "import pandas as pd\n",
    "import numpy as np\n",
    "import matplotlib.pyplot as plt\n",
    "import seaborn as sns\n",
    "import math\n",
    "import statsmodels.api as sm\n",
    "import statsmodels.formula.api as smf\n",
    "import itertools\n",
    "import plotly.express as px \n",
    "from scipy import stats\n",
    "from copy import deepcopy\n",
    "from sklearn.model_selection import GroupShuffleSplit\n",
    "from sklearn.datasets import fetch_openml\n",
    "warnings.filterwarnings('ignore')\n",
    "\n",
    "from Functions import dataprep as prep\n",
    "from Functions import metrics\n",
    "from sklearn.datasets import fetch_openml\n",
    "import pandas as pd\n",
    "\n",
    "%load_ext autoreload\n",
    "%autoreload 2"
   ]
  },
  {
   "cell_type": "code",
   "execution_count": 12,
   "id": "cd915ca2",
   "metadata": {
    "pycharm": {
     "name": "#%%\n"
    }
   },
   "outputs": [],
   "source": [
    "train = pd.read_pickle('./data/common_dataprep/train_with_ei.pickle')\n",
    "test = pd.read_pickle('./data/common_dataprep/test_with_ei.pickle')\n"
   ]
  },
  {
   "cell_type": "code",
   "execution_count": 18,
   "id": "ad0de45b",
   "metadata": {
    "pycharm": {
     "name": "#%%\n"
    }
   },
   "outputs": [
    {
     "name": "stdout",
     "output_type": "stream",
     "text": [
      "32.85655616205312 30.948173274904796 30.955020389280346 30.956832294285107\n"
     ]
    }
   ],
   "source": [
    "# Only Isabella Input\n",
    "formula0 = 'ClaimNb ~ 1'\n",
    "glm0 = smf.glm(formula=formula0, data=train, family=sm.families.Poisson(link=sm.families.links.log()), offset=np.log(train['Exposure'])).fit()\n",
    "\n",
    "formula1 = \"ClaimNb ~ EI_Density + EI_DrivAge + EI_BonusMalus1 + EI_BonusMalus2 + EI_VehAge + VehPowerGLM + C(VehAgeGLM, Treatment(reference=2)) + C(DrivAgeGLM, Treatment(reference=5)) + BonusMalusGLM + VehBrand + VehGas + DensityGLM + C(Region, Treatment(reference='R24')) + AreaGLM\"\n",
    "glm1 = smf.glm(formula=formula1, data=train, family=sm.families.Poisson(link=sm.families.links.log()), offset=np.log(train['Exposure'])).fit()\n",
    "\n",
    "formula2 = \"ClaimNb ~ EI_Density + EI_DrivAge + EI_BonusMalus1 + EI_BonusMalus2 + EI_VehAge + VehPowerGLM + C(VehAgeGLM, Treatment(reference=2)) + C(DrivAgeGLM, Treatment(reference=5)) + BonusMalusGLM + VehBrand + VehGas + DensityGLM + C(Region, Treatment(reference='R24'))\"\n",
    "glm2 = smf.glm(formula=formula2, data=train, family=sm.families.Poisson(link=sm.families.links.log()), offset=np.log(train['Exposure'])).fit()\n",
    "\n",
    "formula3 = \"ClaimNb ~ EI_Density + EI_DrivAge + EI_BonusMalus1 + EI_BonusMalus2 + EI_VehAge + VehPowerGLM + C(VehAgeGLM, Treatment(reference=2)) + C(DrivAgeGLM, Treatment(reference=5)) + BonusMalusGLM + VehGas + DensityGLM + C(Region, Treatment(reference='R24'))\"\n",
    "glm3 = smf.glm(formula=formula3, data=train, family=sm.families.Poisson(link=sm.families.links.log()), offset=np.log(train['Exposure'])).fit()\n",
    "\n",
    "print(\n",
    "    metrics.poisson_deviance(glm0.predict(test, offset=np.log(test['Exposure'])), test['ClaimNb']),\n",
    "    metrics.poisson_deviance(glm1.predict(test, offset=np.log(test['Exposure'])), test['ClaimNb']),\n",
    "    metrics.poisson_deviance(glm2.predict(test, offset=np.log(test['Exposure'])), test['ClaimNb']),\n",
    "    metrics.poisson_deviance(glm3.predict(test, offset=np.log(test['Exposure'])), test['ClaimNb'])\n",
    ")"
   ]
  },
  {
   "cell_type": "code",
   "execution_count": 19,
   "id": "17934272",
   "metadata": {
    "pycharm": {
     "name": "#%%\n"
    }
   },
   "outputs": [
    {
     "name": "stdout",
     "output_type": "stream",
     "text": [
      "32.85655616205312 31.70811435798007 31.70811435798 31.724929747529085\n"
     ]
    }
   ],
   "source": [
    "# Only GDV Input\n",
    "formula0 = 'ClaimNb ~ 1'\n",
    "glm0 = smf.glm(formula=formula0, data=train, family=sm.families.Poisson(link=sm.families.links.log()), offset=np.log(train['Exposure'])).fit()\n",
    "\n",
    "formula1 = \"ClaimNb ~ GDV_Area + GDV_VehAge + GDV_DrivAge + VehPowerGLM + C(VehAgeGLM, Treatment(reference=2)) + C(DrivAgeGLM, Treatment(reference=5)) + BonusMalusGLM + VehBrand + VehGas + DensityGLM + C(Region, Treatment(reference='R24')) + AreaGLM\"\n",
    "glm1 = smf.glm(formula=formula1, data=train, family=sm.families.Poisson(link=sm.families.links.log()), offset=np.log(train['Exposure'])).fit()\n",
    "\n",
    "formula2 = \"ClaimNb ~ GDV_Area + GDV_VehAge + GDV_DrivAge + VehPowerGLM + C(VehAgeGLM, Treatment(reference=2)) + C(DrivAgeGLM, Treatment(reference=5)) + BonusMalusGLM + VehBrand + VehGas + DensityGLM + C(Region, Treatment(reference='R24'))\"\n",
    "glm2 = smf.glm(formula=formula2, data=train, family=sm.families.Poisson(link=sm.families.links.log()), offset=np.log(train['Exposure'])).fit()\n",
    "\n",
    "formula3 = \"ClaimNb ~ GDV_Area + GDV_VehAge + GDV_DrivAge + VehPowerGLM + C(VehAgeGLM, Treatment(reference=2)) + C(DrivAgeGLM, Treatment(reference=5)) + BonusMalusGLM + VehGas + DensityGLM + C(Region, Treatment(reference='R24'))\"\n",
    "glm3 = smf.glm(formula=formula3, data=train, family=sm.families.Poisson(link=sm.families.links.log()), offset=np.log(train['Exposure'])).fit()\n",
    "\n",
    "print(\n",
    "    metrics.poisson_deviance(glm0.predict(test, offset=np.log(test['Exposure'])), test['ClaimNb']),\n",
    "    metrics.poisson_deviance(glm1.predict(test, offset=np.log(test['Exposure'])), test['ClaimNb']),\n",
    "    metrics.poisson_deviance(glm2.predict(test, offset=np.log(test['Exposure'])), test['ClaimNb']),\n",
    "    metrics.poisson_deviance(glm3.predict(test, offset=np.log(test['Exposure'])), test['ClaimNb'])\n",
    ")"
   ]
  },
  {
   "cell_type": "code",
   "execution_count": 20,
   "id": "15238fc5",
   "metadata": {
    "pycharm": {
     "name": "#%%\n"
    }
   },
   "outputs": [
    {
     "name": "stdout",
     "output_type": "stream",
     "text": [
      "32.85655616205312 30.940877210801577 30.940877210801652 30.943049243903772\n"
     ]
    }
   ],
   "source": [
    "# Both inputs\n",
    "formula0 = 'ClaimNb ~ 1'\n",
    "glm0 = smf.glm(formula=formula0, data=train, family=sm.families.Poisson(link=sm.families.links.log()), offset=np.log(train['Exposure'])).fit()\n",
    "\n",
    "formula1 = \"ClaimNb ~ GDV_Area + GDV_VehAge + GDV_DrivAge + EI_Density + EI_DrivAge + EI_BonusMalus1 + EI_BonusMalus2 + EI_VehAge + VehPowerGLM + C(VehAgeGLM, Treatment(reference=2)) + C(DrivAgeGLM, Treatment(reference=5)) + BonusMalusGLM + VehBrand + VehGas + DensityGLM + C(Region, Treatment(reference='R24')) + AreaGLM\"\n",
    "glm1 = smf.glm(formula=formula1, data=train, family=sm.families.Poisson(link=sm.families.links.log()), offset=np.log(train['Exposure'])).fit()\n",
    "\n",
    "formula2 = \"ClaimNb ~ GDV_Area + GDV_VehAge + GDV_DrivAge + EI_Density + EI_DrivAge + EI_BonusMalus1 + EI_BonusMalus2 + EI_VehAge + VehPowerGLM + C(VehAgeGLM, Treatment(reference=2)) + C(DrivAgeGLM, Treatment(reference=5)) + BonusMalusGLM + VehBrand + VehGas + DensityGLM + C(Region, Treatment(reference='R24'))\"\n",
    "glm2 = smf.glm(formula=formula2, data=train, family=sm.families.Poisson(link=sm.families.links.log()), offset=np.log(train['Exposure'])).fit()\n",
    "\n",
    "formula3 = \"ClaimNb ~ GDV_Area + GDV_VehAge + GDV_DrivAge + EI_Density + EI_DrivAge + EI_BonusMalus1 + EI_BonusMalus2 + EI_VehAge + VehPowerGLM + C(VehAgeGLM, Treatment(reference=2)) + C(DrivAgeGLM, Treatment(reference=5)) + BonusMalusGLM + VehGas + DensityGLM + C(Region, Treatment(reference='R24'))\"\n",
    "glm3 = smf.glm(formula=formula3, data=train, family=sm.families.Poisson(link=sm.families.links.log()), offset=np.log(train['Exposure'])).fit()\n",
    "\n",
    "print(\n",
    "    metrics.poisson_deviance(glm0.predict(test, offset=np.log(test['Exposure'])), test['ClaimNb']),\n",
    "    metrics.poisson_deviance(glm1.predict(test, offset=np.log(test['Exposure'])), test['ClaimNb']),\n",
    "    metrics.poisson_deviance(glm2.predict(test, offset=np.log(test['Exposure'])), test['ClaimNb']),\n",
    "    metrics.poisson_deviance(glm3.predict(test, offset=np.log(test['Exposure'])), test['ClaimNb'])\n",
    ")"
   ]
  },
  {
   "cell_type": "code",
   "execution_count": null,
   "id": "c6692e51",
   "metadata": {
    "pycharm": {
     "name": "#%%\n"
    }
   },
   "outputs": [],
   "source": []
  }
 ],
 "metadata": {
  "kernelspec": {
   "display_name": "Python 3 (ipykernel)",
   "language": "python",
   "name": "python3"
  },
  "language_info": {
   "codemirror_mode": {
    "name": "ipython",
    "version": 3
   },
   "file_extension": ".py",
   "mimetype": "text/x-python",
   "name": "python",
   "nbconvert_exporter": "python",
   "pygments_lexer": "ipython3",
   "version": "3.9.12"
  }
 },
 "nbformat": 4,
 "nbformat_minor": 5
}