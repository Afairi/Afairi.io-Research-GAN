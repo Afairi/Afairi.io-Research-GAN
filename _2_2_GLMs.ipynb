{
 "cells": [
  {
   "cell_type": "code",
   "execution_count": 84,
   "id": "cd915ca2",
   "metadata": {
    "pycharm": {
     "name": "#%%\n"
    }
   },
   "outputs": [],
   "source": [
    "train = pd.read_pickle('./data/common_dataprep/train_with_ei.pickle')\n",
    "test = pd.read_pickle('./data/common_dataprep/test_with_ei.pickle')"
   ]
  },
  {
   "cell_type": "code",
   "execution_count": 77,
   "id": "93c21e95",
   "metadata": {},
   "outputs": [],
   "source": [
    "def make_glms(train, test, base_formula = ''):\n",
    "    # No Input\n",
    "    formula0 = \"ClaimNb ~ 1\"\n",
    "    formula1 = f\"ClaimNb ~ {base_formula}  VehPowerGLM + C(VehAgeGLM, Treatment(reference=2)) + C(DrivAgeGLM, Treatment(reference=5)) + BonusMalusGLM + VehGas + DensityGLM + C(Region, Treatment(reference='R24'))\"\n",
    "    formula2 = f\"{formula1} + VehBrand\"\n",
    "    formula3 = f\"{formula2} + AreaGLM\"\n",
    "\n",
    "    formulas = [formula0, formula1, formula2, formula3]\n",
    "    devs = []\n",
    "    \n",
    "    for formulaa in formulas:\n",
    "        glm0 = smf.glm(formula=formulaa, data=train, family=sm.families.Poisson(link=sm.families.links.log()), offset=np.log(train['Exposure'])).fit()\n",
    "        devs += [metrics.poisson_deviance(glm0.predict(test, offset=np.log(test['Exposure'])), test['ClaimNb'])]\n",
    "    \n",
    "    assert min(devs) != devs[0], f'Issue with metrics: {dev}; random model predicts best?!'\n",
    "    return min(devs)\n",
    "    "
   ]
  },
  {
   "cell_type": "code",
   "execution_count": 78,
   "id": "8d824540",
   "metadata": {},
   "outputs": [
    {
     "data": {
      "text/plain": [
       "0         5\n",
       "1         5\n",
       "2         6\n",
       "3         7\n",
       "4         7\n",
       "         ..\n",
       "678008    4\n",
       "678009    4\n",
       "678010    6\n",
       "678011    4\n",
       "678012    7\n",
       "Name: VehPowerGLM, Length: 541832, dtype: int64"
      ]
     },
     "execution_count": 78,
     "metadata": {},
     "output_type": "execute_result"
    }
   ],
   "source": [
    "train['VehPowerGLM']"
   ]
  },
  {
   "cell_type": "code",
   "execution_count": 48,
   "id": "dc885f1e",
   "metadata": {},
   "outputs": [
    {
     "name": "stderr",
     "output_type": "stream",
     "text": [
      "\n",
      "KeyboardInterrupt\n",
      "\n"
     ]
    }
   ],
   "source": [
    "print(\n",
    "    \n",
    "    make_glms(train, test),\n",
    "    make_glms(train, test, base_formula = 'EI_Density + EI_DrivAge + EI_BonusMalus1 + EI_BonusMalus2 + EI_VehAge +'),\n",
    "    make_glms(train, test, base_formula = 'GDV_Area + GDV_VehAge + GDV_DrivAge + '),\n",
    "    make_glms(train, test, base_formula = 'GDV_Area + GDV_VehAge + GDV_DrivAge + EI_Density + EI_DrivAge + EI_BonusMalus1 + EI_BonusMalus2 + EI_VehAge +')\n",
    ")"
   ]
  },
  {
   "cell_type": "code",
   "execution_count": 86,
   "id": "a16cc0f7",
   "metadata": {},
   "outputs": [
    {
     "data": {
      "text/html": [
       "<div>\n",
       "<style scoped>\n",
       "    .dataframe tbody tr th:only-of-type {\n",
       "        vertical-align: middle;\n",
       "    }\n",
       "\n",
       "    .dataframe tbody tr th {\n",
       "        vertical-align: top;\n",
       "    }\n",
       "\n",
       "    .dataframe thead th {\n",
       "        text-align: right;\n",
       "    }\n",
       "</style>\n",
       "<table border=\"1\" class=\"dataframe\">\n",
       "  <thead>\n",
       "    <tr style=\"text-align: right;\">\n",
       "      <th></th>\n",
       "      <th>ClaimNb</th>\n",
       "      <th>VehBrand</th>\n",
       "      <th>VehGas</th>\n",
       "      <th>Region</th>\n",
       "      <th>Area</th>\n",
       "      <th>VehPower</th>\n",
       "      <th>VehAge</th>\n",
       "      <th>DrivAge</th>\n",
       "      <th>DensityGLM</th>\n",
       "      <th>BonusMalus</th>\n",
       "      <th>Exposure</th>\n",
       "    </tr>\n",
       "  </thead>\n",
       "  <tbody>\n",
       "    <tr>\n",
       "      <th>0</th>\n",
       "      <td>0</td>\n",
       "      <td>B6</td>\n",
       "      <td>Diesel</td>\n",
       "      <td>R93</td>\n",
       "      <td>C</td>\n",
       "      <td>5.21</td>\n",
       "      <td>8.75</td>\n",
       "      <td>46.24</td>\n",
       "      <td>5.40</td>\n",
       "      <td>50.00</td>\n",
       "      <td>0.27</td>\n",
       "    </tr>\n",
       "    <tr>\n",
       "      <th>1</th>\n",
       "      <td>0</td>\n",
       "      <td>B2</td>\n",
       "      <td>Diesel</td>\n",
       "      <td>R52</td>\n",
       "      <td>D</td>\n",
       "      <td>4.45</td>\n",
       "      <td>19.91</td>\n",
       "      <td>40.72</td>\n",
       "      <td>6.39</td>\n",
       "      <td>50.00</td>\n",
       "      <td>0.00</td>\n",
       "    </tr>\n",
       "    <tr>\n",
       "      <th>2</th>\n",
       "      <td>0</td>\n",
       "      <td>B1</td>\n",
       "      <td>Regular</td>\n",
       "      <td>R82</td>\n",
       "      <td>C</td>\n",
       "      <td>4.00</td>\n",
       "      <td>7.54</td>\n",
       "      <td>35.18</td>\n",
       "      <td>6.72</td>\n",
       "      <td>50.00</td>\n",
       "      <td>1.00</td>\n",
       "    </tr>\n",
       "    <tr>\n",
       "      <th>3</th>\n",
       "      <td>0</td>\n",
       "      <td>B1</td>\n",
       "      <td>Regular</td>\n",
       "      <td>R24</td>\n",
       "      <td>D</td>\n",
       "      <td>4.00</td>\n",
       "      <td>6.65</td>\n",
       "      <td>21.49</td>\n",
       "      <td>7.40</td>\n",
       "      <td>133.41</td>\n",
       "      <td>1.00</td>\n",
       "    </tr>\n",
       "    <tr>\n",
       "      <th>4</th>\n",
       "      <td>1</td>\n",
       "      <td>B6</td>\n",
       "      <td>Regular</td>\n",
       "      <td>R52</td>\n",
       "      <td>E</td>\n",
       "      <td>6.20</td>\n",
       "      <td>0.00</td>\n",
       "      <td>58.30</td>\n",
       "      <td>10.20</td>\n",
       "      <td>50.00</td>\n",
       "      <td>0.64</td>\n",
       "    </tr>\n",
       "  </tbody>\n",
       "</table>\n",
       "</div>"
      ],
      "text/plain": [
       "  ClaimNb VehBrand   VehGas Region Area  VehPower  VehAge  DrivAge   \n",
       "0       0       B6   Diesel    R93    C      5.21    8.75    46.24  \\\n",
       "1       0       B2   Diesel    R52    D      4.45   19.91    40.72   \n",
       "2       0       B1  Regular    R82    C      4.00    7.54    35.18   \n",
       "3       0       B1  Regular    R24    D      4.00    6.65    21.49   \n",
       "4       1       B6  Regular    R52    E      6.20    0.00    58.30   \n",
       "\n",
       "   DensityGLM  BonusMalus  Exposure  \n",
       "0        5.40       50.00      0.27  \n",
       "1        6.39       50.00      0.00  \n",
       "2        6.72       50.00      1.00  \n",
       "3        7.40      133.41      1.00  \n",
       "4       10.20       50.00      0.64  "
      ]
     },
     "execution_count": 86,
     "metadata": {},
     "output_type": "execute_result"
    }
   ],
   "source": [
    "train_gan = pd.read_pickle('./data/gan_generated/sample_no_ei.pickle')\n",
    "ss = joblib.load('data/gan_dataprep/scaler.pickle')\n",
    "dftemp = pd.read_pickle('data/gan_dataprep/train_gan.pickle')\n",
    "train_gan = pd.DataFrame(ss.inverse_transform(train_gan), columns= dftemp.columns)\n",
    "train_gan = back_from_dummies(train_gan)\n",
    "train_gan.head()"
   ]
  },
  {
   "cell_type": "code",
   "execution_count": 89,
   "id": "e5bf2645",
   "metadata": {},
   "outputs": [],
   "source": [
    "train_gan = prepare_gandata_for_regression(train_gan)"
   ]
  },
  {
   "cell_type": "code",
   "execution_count": 90,
   "id": "22af82cf",
   "metadata": {},
   "outputs": [],
   "source": [
    "cols = ['ClaimNb', 'VehBrand', 'VehGas', 'Region', 'Area', 'VehPower', 'VehAge',\n",
    "       'DrivAge', 'Density', 'BonusMalus', 'Exposure', 'DensityGLM',\n",
    "       'BonusMalusGLM', 'AreaGLM', 'VehPowerGLM', 'VehAgeGLM', 'DrivAgeGLM']\n",
    "joined = pd.concat([train_gan, train])[cols]"
   ]
  },
  {
   "cell_type": "code",
   "execution_count": 91,
   "id": "b104436e",
   "metadata": {
    "pycharm": {
     "name": "#%%\n"
    }
   },
   "outputs": [
    {
     "name": "stdout",
     "output_type": "stream",
     "text": [
      "[32.91632850254276]\n",
      "[32.91632850254276, 59.74845410521347]\n",
      "[32.91632850254276, 59.74845410521347, 59.87506494269026]\n"
     ]
    },
    {
     "ename": "TypeError",
     "evalue": "predict requires that you use a DataFrame when predicting from a model\nthat was created using the formula api.\n\nThe original error message returned by patsy is:\nObject with dtype category cannot perform the numpy op isnan",
     "output_type": "error",
     "traceback": [
      "\u001B[0;31m---------------------------------------------------------------------------\u001B[0m",
      "\u001B[0;31mTypeError\u001B[0m                                 Traceback (most recent call last)",
      "File \u001B[0;32m~/opt/anaconda3/lib/python3.9/site-packages/statsmodels/base/model.py:1137\u001B[0m, in \u001B[0;36mResults.predict\u001B[0;34m(self, exog, transform, *args, **kwargs)\u001B[0m\n\u001B[1;32m   1136\u001B[0m \u001B[38;5;28;01mtry\u001B[39;00m:\n\u001B[0;32m-> 1137\u001B[0m     exog \u001B[38;5;241m=\u001B[39m \u001B[43mdmatrix\u001B[49m\u001B[43m(\u001B[49m\u001B[43mdesign_info\u001B[49m\u001B[43m,\u001B[49m\u001B[43m \u001B[49m\u001B[43mexog\u001B[49m\u001B[43m,\u001B[49m\u001B[43m \u001B[49m\u001B[43mreturn_type\u001B[49m\u001B[38;5;241;43m=\u001B[39;49m\u001B[38;5;124;43m\"\u001B[39;49m\u001B[38;5;124;43mdataframe\u001B[39;49m\u001B[38;5;124;43m\"\u001B[39;49m\u001B[43m)\u001B[49m\n\u001B[1;32m   1138\u001B[0m \u001B[38;5;28;01mexcept\u001B[39;00m \u001B[38;5;167;01mException\u001B[39;00m \u001B[38;5;28;01mas\u001B[39;00m exc:\n",
      "File \u001B[0;32m~/opt/anaconda3/lib/python3.9/site-packages/patsy/highlevel.py:290\u001B[0m, in \u001B[0;36mdmatrix\u001B[0;34m(formula_like, data, eval_env, NA_action, return_type)\u001B[0m\n\u001B[1;32m    289\u001B[0m eval_env \u001B[38;5;241m=\u001B[39m EvalEnvironment\u001B[38;5;241m.\u001B[39mcapture(eval_env, reference\u001B[38;5;241m=\u001B[39m\u001B[38;5;241m1\u001B[39m)\n\u001B[0;32m--> 290\u001B[0m (lhs, rhs) \u001B[38;5;241m=\u001B[39m \u001B[43m_do_highlevel_design\u001B[49m\u001B[43m(\u001B[49m\u001B[43mformula_like\u001B[49m\u001B[43m,\u001B[49m\u001B[43m \u001B[49m\u001B[43mdata\u001B[49m\u001B[43m,\u001B[49m\u001B[43m \u001B[49m\u001B[43meval_env\u001B[49m\u001B[43m,\u001B[49m\n\u001B[1;32m    291\u001B[0m \u001B[43m                                  \u001B[49m\u001B[43mNA_action\u001B[49m\u001B[43m,\u001B[49m\u001B[43m \u001B[49m\u001B[43mreturn_type\u001B[49m\u001B[43m)\u001B[49m\n\u001B[1;32m    292\u001B[0m \u001B[38;5;28;01mif\u001B[39;00m lhs\u001B[38;5;241m.\u001B[39mshape[\u001B[38;5;241m1\u001B[39m] \u001B[38;5;241m!=\u001B[39m \u001B[38;5;241m0\u001B[39m:\n",
      "File \u001B[0;32m~/opt/anaconda3/lib/python3.9/site-packages/patsy/highlevel.py:167\u001B[0m, in \u001B[0;36m_do_highlevel_design\u001B[0;34m(formula_like, data, eval_env, NA_action, return_type)\u001B[0m\n\u001B[1;32m    166\u001B[0m \u001B[38;5;28;01mif\u001B[39;00m design_infos \u001B[38;5;129;01mis\u001B[39;00m \u001B[38;5;129;01mnot\u001B[39;00m \u001B[38;5;28;01mNone\u001B[39;00m:\n\u001B[0;32m--> 167\u001B[0m     \u001B[38;5;28;01mreturn\u001B[39;00m \u001B[43mbuild_design_matrices\u001B[49m\u001B[43m(\u001B[49m\u001B[43mdesign_infos\u001B[49m\u001B[43m,\u001B[49m\u001B[43m \u001B[49m\u001B[43mdata\u001B[49m\u001B[43m,\u001B[49m\n\u001B[1;32m    168\u001B[0m \u001B[43m                                 \u001B[49m\u001B[43mNA_action\u001B[49m\u001B[38;5;241;43m=\u001B[39;49m\u001B[43mNA_action\u001B[49m\u001B[43m,\u001B[49m\n\u001B[1;32m    169\u001B[0m \u001B[43m                                 \u001B[49m\u001B[43mreturn_type\u001B[49m\u001B[38;5;241;43m=\u001B[39;49m\u001B[43mreturn_type\u001B[49m\u001B[43m)\u001B[49m\n\u001B[1;32m    170\u001B[0m \u001B[38;5;28;01melse\u001B[39;00m:\n\u001B[1;32m    171\u001B[0m     \u001B[38;5;66;03m# No builders, but maybe we can still get matrices\u001B[39;00m\n",
      "File \u001B[0;32m~/opt/anaconda3/lib/python3.9/site-packages/patsy/build.py:888\u001B[0m, in \u001B[0;36mbuild_design_matrices\u001B[0;34m(design_infos, data, NA_action, return_type, dtype)\u001B[0m\n\u001B[1;32m    887\u001B[0m \u001B[38;5;28;01mif\u001B[39;00m factor_info \u001B[38;5;129;01mnot\u001B[39;00m \u001B[38;5;129;01min\u001B[39;00m factor_info_to_values:\n\u001B[0;32m--> 888\u001B[0m     value, is_NA \u001B[38;5;241m=\u001B[39m \u001B[43m_eval_factor\u001B[49m\u001B[43m(\u001B[49m\u001B[43mfactor_info\u001B[49m\u001B[43m,\u001B[49m\u001B[43m \u001B[49m\u001B[43mdata\u001B[49m\u001B[43m,\u001B[49m\u001B[43m \u001B[49m\u001B[43mNA_action\u001B[49m\u001B[43m)\u001B[49m\n\u001B[1;32m    889\u001B[0m     factor_info_to_isNAs[factor_info] \u001B[38;5;241m=\u001B[39m is_NA\n",
      "File \u001B[0;32m~/opt/anaconda3/lib/python3.9/site-packages/patsy/build.py:80\u001B[0m, in \u001B[0;36m_eval_factor\u001B[0;34m(factor_info, data, NA_action)\u001B[0m\n\u001B[1;32m     76\u001B[0m         \u001B[38;5;28;01mraise\u001B[39;00m PatsyError(\u001B[38;5;124m\"\u001B[39m\u001B[38;5;124mwhen evaluating numeric factor \u001B[39m\u001B[38;5;132;01m%s\u001B[39;00m\u001B[38;5;124m, \u001B[39m\u001B[38;5;124m\"\u001B[39m\n\u001B[1;32m     77\u001B[0m                          \u001B[38;5;124m\"\u001B[39m\u001B[38;5;124mI got non-numeric data of type \u001B[39m\u001B[38;5;124m'\u001B[39m\u001B[38;5;132;01m%s\u001B[39;00m\u001B[38;5;124m'\u001B[39m\u001B[38;5;124m\"\u001B[39m\n\u001B[1;32m     78\u001B[0m                          \u001B[38;5;241m%\u001B[39m (factor\u001B[38;5;241m.\u001B[39mname(), result\u001B[38;5;241m.\u001B[39mdtype),\n\u001B[1;32m     79\u001B[0m                          factor)\n\u001B[0;32m---> 80\u001B[0m     \u001B[38;5;28;01mreturn\u001B[39;00m result, \u001B[43mNA_action\u001B[49m\u001B[38;5;241;43m.\u001B[39;49m\u001B[43mis_numerical_NA\u001B[49m\u001B[43m(\u001B[49m\u001B[43mresult\u001B[49m\u001B[43m)\u001B[49m\n\u001B[1;32m     81\u001B[0m \u001B[38;5;66;03m# returns either a 1d ndarray or a pandas.Series, plus is_NA mask\u001B[39;00m\n\u001B[1;32m     82\u001B[0m \u001B[38;5;28;01melse\u001B[39;00m:\n",
      "File \u001B[0;32m~/opt/anaconda3/lib/python3.9/site-packages/patsy/missing.py:136\u001B[0m, in \u001B[0;36mNAAction.is_numerical_NA\u001B[0;34m(self, arr)\u001B[0m\n\u001B[1;32m    135\u001B[0m \u001B[38;5;28;01mif\u001B[39;00m \u001B[38;5;124m\"\u001B[39m\u001B[38;5;124mNaN\u001B[39m\u001B[38;5;124m\"\u001B[39m \u001B[38;5;129;01min\u001B[39;00m \u001B[38;5;28mself\u001B[39m\u001B[38;5;241m.\u001B[39mNA_types:\n\u001B[0;32m--> 136\u001B[0m     mask \u001B[38;5;241m|\u001B[39m\u001B[38;5;241m=\u001B[39m \u001B[43mnp\u001B[49m\u001B[38;5;241;43m.\u001B[39;49m\u001B[43misnan\u001B[49m\u001B[43m(\u001B[49m\u001B[43marr\u001B[49m\u001B[43m)\u001B[49m\n\u001B[1;32m    137\u001B[0m \u001B[38;5;28;01mif\u001B[39;00m mask\u001B[38;5;241m.\u001B[39mndim \u001B[38;5;241m>\u001B[39m \u001B[38;5;241m1\u001B[39m:\n",
      "File \u001B[0;32m~/opt/anaconda3/lib/python3.9/site-packages/pandas/core/generic.py:2016\u001B[0m, in \u001B[0;36mNDFrame.__array_ufunc__\u001B[0;34m(self, ufunc, method, *inputs, **kwargs)\u001B[0m\n\u001B[1;32m   2012\u001B[0m \u001B[38;5;129m@final\u001B[39m\n\u001B[1;32m   2013\u001B[0m \u001B[38;5;28;01mdef\u001B[39;00m \u001B[38;5;21m__array_ufunc__\u001B[39m(\n\u001B[1;32m   2014\u001B[0m     \u001B[38;5;28mself\u001B[39m, ufunc: np\u001B[38;5;241m.\u001B[39mufunc, method: \u001B[38;5;28mstr\u001B[39m, \u001B[38;5;241m*\u001B[39minputs: Any, \u001B[38;5;241m*\u001B[39m\u001B[38;5;241m*\u001B[39mkwargs: Any\n\u001B[1;32m   2015\u001B[0m ):\n\u001B[0;32m-> 2016\u001B[0m     \u001B[38;5;28;01mreturn\u001B[39;00m \u001B[43marraylike\u001B[49m\u001B[38;5;241;43m.\u001B[39;49m\u001B[43marray_ufunc\u001B[49m\u001B[43m(\u001B[49m\u001B[38;5;28;43mself\u001B[39;49m\u001B[43m,\u001B[49m\u001B[43m \u001B[49m\u001B[43mufunc\u001B[49m\u001B[43m,\u001B[49m\u001B[43m \u001B[49m\u001B[43mmethod\u001B[49m\u001B[43m,\u001B[49m\u001B[43m \u001B[49m\u001B[38;5;241;43m*\u001B[39;49m\u001B[43minputs\u001B[49m\u001B[43m,\u001B[49m\u001B[43m \u001B[49m\u001B[38;5;241;43m*\u001B[39;49m\u001B[38;5;241;43m*\u001B[39;49m\u001B[43mkwargs\u001B[49m\u001B[43m)\u001B[49m\n",
      "File \u001B[0;32m~/opt/anaconda3/lib/python3.9/site-packages/pandas/core/arraylike.py:404\u001B[0m, in \u001B[0;36marray_ufunc\u001B[0;34m(self, ufunc, method, *inputs, **kwargs)\u001B[0m\n\u001B[1;32m    403\u001B[0m     mgr \u001B[38;5;241m=\u001B[39m inputs[\u001B[38;5;241m0\u001B[39m]\u001B[38;5;241m.\u001B[39m_mgr\n\u001B[0;32m--> 404\u001B[0m     result \u001B[38;5;241m=\u001B[39m \u001B[43mmgr\u001B[49m\u001B[38;5;241;43m.\u001B[39;49m\u001B[43mapply\u001B[49m\u001B[43m(\u001B[49m\u001B[38;5;28;43mgetattr\u001B[39;49m\u001B[43m(\u001B[49m\u001B[43mufunc\u001B[49m\u001B[43m,\u001B[49m\u001B[43m \u001B[49m\u001B[43mmethod\u001B[49m\u001B[43m)\u001B[49m\u001B[43m)\u001B[49m\n\u001B[1;32m    405\u001B[0m \u001B[38;5;28;01melse\u001B[39;00m:\n\u001B[1;32m    406\u001B[0m     \u001B[38;5;66;03m# otherwise specific ufunc methods (eg np.<ufunc>.accumulate(..))\u001B[39;00m\n\u001B[1;32m    407\u001B[0m     \u001B[38;5;66;03m# Those can have an axis keyword and thus can't be called block-by-block\u001B[39;00m\n",
      "File \u001B[0;32m~/opt/anaconda3/lib/python3.9/site-packages/pandas/core/internals/managers.py:350\u001B[0m, in \u001B[0;36mBaseBlockManager.apply\u001B[0;34m(self, f, align_keys, **kwargs)\u001B[0m\n\u001B[1;32m    349\u001B[0m \u001B[38;5;28;01mif\u001B[39;00m \u001B[38;5;28mcallable\u001B[39m(f):\n\u001B[0;32m--> 350\u001B[0m     applied \u001B[38;5;241m=\u001B[39m \u001B[43mb\u001B[49m\u001B[38;5;241;43m.\u001B[39;49m\u001B[43mapply\u001B[49m\u001B[43m(\u001B[49m\u001B[43mf\u001B[49m\u001B[43m,\u001B[49m\u001B[43m \u001B[49m\u001B[38;5;241;43m*\u001B[39;49m\u001B[38;5;241;43m*\u001B[39;49m\u001B[43mkwargs\u001B[49m\u001B[43m)\u001B[49m\n\u001B[1;32m    351\u001B[0m \u001B[38;5;28;01melse\u001B[39;00m:\n",
      "File \u001B[0;32m~/opt/anaconda3/lib/python3.9/site-packages/pandas/core/internals/blocks.py:329\u001B[0m, in \u001B[0;36mBlock.apply\u001B[0;34m(self, func, **kwargs)\u001B[0m\n\u001B[1;32m    325\u001B[0m \u001B[38;5;250m\u001B[39m\u001B[38;5;124;03m\"\"\"\u001B[39;00m\n\u001B[1;32m    326\u001B[0m \u001B[38;5;124;03mapply the function to my values; return a block if we are not\u001B[39;00m\n\u001B[1;32m    327\u001B[0m \u001B[38;5;124;03mone\u001B[39;00m\n\u001B[1;32m    328\u001B[0m \u001B[38;5;124;03m\"\"\"\u001B[39;00m\n\u001B[0;32m--> 329\u001B[0m result \u001B[38;5;241m=\u001B[39m \u001B[43mfunc\u001B[49m\u001B[43m(\u001B[49m\u001B[38;5;28;43mself\u001B[39;49m\u001B[38;5;241;43m.\u001B[39;49m\u001B[43mvalues\u001B[49m\u001B[43m,\u001B[49m\u001B[43m \u001B[49m\u001B[38;5;241;43m*\u001B[39;49m\u001B[38;5;241;43m*\u001B[39;49m\u001B[43mkwargs\u001B[49m\u001B[43m)\u001B[49m\n\u001B[1;32m    331\u001B[0m \u001B[38;5;28;01mreturn\u001B[39;00m \u001B[38;5;28mself\u001B[39m\u001B[38;5;241m.\u001B[39m_split_op_result(result)\n",
      "File \u001B[0;32m~/opt/anaconda3/lib/python3.9/site-packages/pandas/core/arrays/categorical.py:1374\u001B[0m, in \u001B[0;36mCategorical.__array_ufunc__\u001B[0;34m(self, ufunc, method, *inputs, **kwargs)\u001B[0m\n\u001B[1;32m   1372\u001B[0m \u001B[38;5;66;03m# for all other cases, raise for now (similarly as what happens in\u001B[39;00m\n\u001B[1;32m   1373\u001B[0m \u001B[38;5;66;03m# Series.__array_prepare__)\u001B[39;00m\n\u001B[0;32m-> 1374\u001B[0m \u001B[38;5;28;01mraise\u001B[39;00m \u001B[38;5;167;01mTypeError\u001B[39;00m(\n\u001B[1;32m   1375\u001B[0m     \u001B[38;5;124mf\u001B[39m\u001B[38;5;124m\"\u001B[39m\u001B[38;5;124mObject with dtype \u001B[39m\u001B[38;5;132;01m{\u001B[39;00m\u001B[38;5;28mself\u001B[39m\u001B[38;5;241m.\u001B[39mdtype\u001B[38;5;132;01m}\u001B[39;00m\u001B[38;5;124m cannot perform \u001B[39m\u001B[38;5;124m\"\u001B[39m\n\u001B[1;32m   1376\u001B[0m     \u001B[38;5;124mf\u001B[39m\u001B[38;5;124m\"\u001B[39m\u001B[38;5;124mthe numpy op \u001B[39m\u001B[38;5;132;01m{\u001B[39;00mufunc\u001B[38;5;241m.\u001B[39m\u001B[38;5;18m__name__\u001B[39m\u001B[38;5;132;01m}\u001B[39;00m\u001B[38;5;124m\"\u001B[39m\n\u001B[1;32m   1377\u001B[0m )\n",
      "\u001B[0;31mTypeError\u001B[0m: Object with dtype category cannot perform the numpy op isnan",
      "\nDuring handling of the above exception, another exception occurred:\n",
      "\u001B[0;31mTypeError\u001B[0m                                 Traceback (most recent call last)",
      "Cell \u001B[0;32mIn[91], line 12\u001B[0m\n\u001B[1;32m     10\u001B[0m \u001B[38;5;28;01mfor\u001B[39;00m formulaa \u001B[38;5;129;01min\u001B[39;00m formulas:\n\u001B[1;32m     11\u001B[0m     glm0 \u001B[38;5;241m=\u001B[39m smf\u001B[38;5;241m.\u001B[39mglm(formula\u001B[38;5;241m=\u001B[39mformulaa, data\u001B[38;5;241m=\u001B[39mtrain_gan, family\u001B[38;5;241m=\u001B[39msm\u001B[38;5;241m.\u001B[39mfamilies\u001B[38;5;241m.\u001B[39mPoisson(link\u001B[38;5;241m=\u001B[39msm\u001B[38;5;241m.\u001B[39mfamilies\u001B[38;5;241m.\u001B[39mlinks\u001B[38;5;241m.\u001B[39mlog()), offset\u001B[38;5;241m=\u001B[39mnp\u001B[38;5;241m.\u001B[39mlog(train_gan[\u001B[38;5;124m'\u001B[39m\u001B[38;5;124mExposure\u001B[39m\u001B[38;5;124m'\u001B[39m]))\u001B[38;5;241m.\u001B[39mfit()\n\u001B[0;32m---> 12\u001B[0m     devs \u001B[38;5;241m+\u001B[39m\u001B[38;5;241m=\u001B[39m [metrics\u001B[38;5;241m.\u001B[39mpoisson_deviance(\u001B[43mglm0\u001B[49m\u001B[38;5;241;43m.\u001B[39;49m\u001B[43mpredict\u001B[49m\u001B[43m(\u001B[49m\u001B[43mtest\u001B[49m\u001B[43m,\u001B[49m\u001B[43m \u001B[49m\u001B[43moffset\u001B[49m\u001B[38;5;241;43m=\u001B[39;49m\u001B[43mnp\u001B[49m\u001B[38;5;241;43m.\u001B[39;49m\u001B[43mlog\u001B[49m\u001B[43m(\u001B[49m\u001B[43mtest\u001B[49m\u001B[43m[\u001B[49m\u001B[38;5;124;43m'\u001B[39;49m\u001B[38;5;124;43mExposure\u001B[39;49m\u001B[38;5;124;43m'\u001B[39;49m\u001B[43m]\u001B[49m\u001B[43m)\u001B[49m\u001B[43m)\u001B[49m, test[\u001B[38;5;124m'\u001B[39m\u001B[38;5;124mClaimNb\u001B[39m\u001B[38;5;124m'\u001B[39m])]\n\u001B[1;32m     13\u001B[0m     \u001B[38;5;28mprint\u001B[39m(devs)\n",
      "File \u001B[0;32m~/opt/anaconda3/lib/python3.9/site-packages/statsmodels/base/model.py:1144\u001B[0m, in \u001B[0;36mResults.predict\u001B[0;34m(self, exog, transform, *args, **kwargs)\u001B[0m\n\u001B[1;32m   1138\u001B[0m \u001B[38;5;28;01mexcept\u001B[39;00m \u001B[38;5;167;01mException\u001B[39;00m \u001B[38;5;28;01mas\u001B[39;00m exc:\n\u001B[1;32m   1139\u001B[0m     msg \u001B[38;5;241m=\u001B[39m (\u001B[38;5;124m'\u001B[39m\u001B[38;5;124mpredict requires that you use a DataFrame when \u001B[39m\u001B[38;5;124m'\u001B[39m\n\u001B[1;32m   1140\u001B[0m            \u001B[38;5;124m'\u001B[39m\u001B[38;5;124mpredicting from a model\u001B[39m\u001B[38;5;130;01m\\n\u001B[39;00m\u001B[38;5;124mthat was created using the \u001B[39m\u001B[38;5;124m'\u001B[39m\n\u001B[1;32m   1141\u001B[0m            \u001B[38;5;124m'\u001B[39m\u001B[38;5;124mformula api.\u001B[39m\u001B[38;5;124m'\u001B[39m\n\u001B[1;32m   1142\u001B[0m            \u001B[38;5;124m'\u001B[39m\u001B[38;5;130;01m\\n\u001B[39;00m\u001B[38;5;130;01m\\n\u001B[39;00m\u001B[38;5;124mThe original error message returned by patsy is:\u001B[39m\u001B[38;5;130;01m\\n\u001B[39;00m\u001B[38;5;124m'\u001B[39m\n\u001B[1;32m   1143\u001B[0m            \u001B[38;5;124m'\u001B[39m\u001B[38;5;132;01m{0}\u001B[39;00m\u001B[38;5;124m'\u001B[39m\u001B[38;5;241m.\u001B[39mformat(\u001B[38;5;28mstr\u001B[39m(\u001B[38;5;28mstr\u001B[39m(exc))))\n\u001B[0;32m-> 1144\u001B[0m     \u001B[38;5;28;01mraise\u001B[39;00m exc\u001B[38;5;241m.\u001B[39m\u001B[38;5;18m__class__\u001B[39m(msg)\n\u001B[1;32m   1145\u001B[0m \u001B[38;5;28;01mif\u001B[39;00m orig_exog_len \u001B[38;5;241m>\u001B[39m \u001B[38;5;28mlen\u001B[39m(exog) \u001B[38;5;129;01mand\u001B[39;00m \u001B[38;5;129;01mnot\u001B[39;00m is_dict:\n\u001B[1;32m   1146\u001B[0m     \u001B[38;5;28;01mif\u001B[39;00m exog_index \u001B[38;5;129;01mis\u001B[39;00m \u001B[38;5;28;01mNone\u001B[39;00m:\n",
      "\u001B[0;31mTypeError\u001B[0m: predict requires that you use a DataFrame when predicting from a model\nthat was created using the formula api.\n\nThe original error message returned by patsy is:\nObject with dtype category cannot perform the numpy op isnan"
     ]
    }
   ],
   "source": [
    "# No Input\n",
    "formula0 = \"ClaimNb ~ 1\"\n",
    "formula1 = f\"ClaimNb ~   VehPowerGLM + C(VehAgeGLM, Treatment(reference=2)) + C(DrivAgeGLM, Treatment(reference=5)) + BonusMalusGLM + VehGas + DensityGLM + C(Region, Treatment(reference='R24'))\"\n",
    "formula2 = f\"{formula1} + VehBrand\"\n",
    "formula3 = f\"{formula2} + AreaGLM\"\n",
    "\n",
    "\n",
    "\n",
    "formulas = [formula0, formula1, formula2, formula3]\n",
    "devs = []\n",
    "\n",
    "for formulaa in formulas:\n",
    "    glm0 = smf.glm(formula=formulaa, data=train_gan, family=sm.families.Poisson(link=sm.families.links.log()), offset=np.log(train_gan['Exposure'])).fit()\n",
    "    devs += [metrics.poisson_deviance(glm0.predict(test, offset=np.log(test['Exposure'])), test['ClaimNb'])]\n",
    "    print(devs)"
   ]
  },
  {
   "cell_type": "code",
   "execution_count": null,
   "id": "22e00a35",
   "metadata": {},
   "outputs": [],
   "source": [
    "Bootstrap(9, n_bootstraps=3, n_train=5, n_test=4, random_state=0)"
   ]
  }
 ],
 "metadata": {
  "kernelspec": {
   "display_name": "Python 3 (ipykernel)",
   "language": "python",
   "name": "python3"
  },
  "language_info": {
   "codemirror_mode": {
    "name": "ipython",
    "version": 3
   },
   "file_extension": ".py",
   "mimetype": "text/x-python",
   "name": "python",
   "nbconvert_exporter": "python",
   "pygments_lexer": "ipython3",
   "version": "3.9.12"
  }
 },
 "nbformat": 4,
 "nbformat_minor": 5
}